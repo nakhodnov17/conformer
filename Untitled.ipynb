{
 "cells": [
  {
   "cell_type": "code",
   "execution_count": 2,
   "id": "3a84f42a",
   "metadata": {
    "cellId": "dvfohurqunk3ofpgj0f7of"
   },
   "outputs": [],
   "source": [
    "#!g1.1\n",
    "%config Completer.use_jedi = False\n",
    "%load_ext autoreload\n",
    "%autoreload 2"
   ]
  },
  {
   "cell_type": "code",
   "execution_count": 3,
   "id": "a81cfba5",
   "metadata": {
    "cellId": "e7mia9nx6dw6ks0ibie7kw"
   },
   "outputs": [
    {
     "data": {
      "text/html": [
       "<style>.container { width:90% !important; }</style>"
      ],
      "text/plain": [
       "<IPython.core.display.HTML object>"
      ]
     },
     "metadata": {},
     "output_type": "display_data"
    }
   ],
   "source": [
    "#!g1.1\n",
    "from IPython.display import display, HTML, Video\n",
    "display(HTML(\"<style>.container { width:90% !important; }</style>\"))"
   ]
  },
  {
   "cell_type": "code",
   "execution_count": 4,
   "id": "470e0918",
   "metadata": {
    "cellId": "d0grt2y6r7q34c4rx9i3lf"
   },
   "outputs": [],
   "source": [
    "#!g1.1\n",
    "import torch\n",
    "import torchaudio\n",
    "from torch.utils.data import Dataset, DataLoader\n",
    "\n",
    "import sentencepiece"
   ]
  },
  {
   "cell_type": "code",
   "execution_count": 7,
   "id": "d85c3a5f",
   "metadata": {
    "cellId": "abbs6igudujmxcpq3fxgb"
   },
   "outputs": [],
   "source": [
    "#!g1.1\n",
    "import os\n",
    "import glob\n",
    "import json\n",
    "import regex\n",
    "\n",
    "import tqdm.notebook as tqdm\n",
    "\n",
    "import numpy as np\n",
    "import pandas as pd\n",
    "\n",
    "from ipywidgets import GridBox, Audio, HBox, VBox, Box, Label, Layout\n",
    "\n",
    "import matplotlib.pyplot as plt\n",
    "# import matplotlib_inline\n",
    "\n",
    "%matplotlib inline\n",
    "# matplotlib_inline.backend_inline.set_matplotlib_formats('svg')"
   ]
  },
  {
   "cell_type": "code",
   "execution_count": 8,
   "id": "fa755a3e",
   "metadata": {
    "cellId": "qou4p005w64wph1exgchw"
   },
   "outputs": [],
   "source": [
    "#!g1.1\n",
    "base_path = '/home/jupyter/mnt/datasets'\n",
    "\n",
    "libri_speech_base_path = os.path.join(base_path, 'LibriSpeech_ds')\n",
    "golos_base_path = os.path.join(base_path, 'golos')\n",
    "device = torch.device(\"cuda\", 0)"
   ]
  },
  {
   "cell_type": "code",
   "execution_count": 9,
   "id": "286007cb",
   "metadata": {
    "cellId": "xlsjq7fz87jnd92bgs9s4e"
   },
   "outputs": [
    {
     "name": "stdout",
     "output_type": "stream",
     "text": [
      "Loaded 1400 objects\n"
     ]
    }
   ],
   "source": [
    "#!g1.1\n",
    "from src.dataset import get_libri_speech_dataset, get_golos_dataset\n",
    "\n",
    "libri_speech_dev = get_libri_speech_dataset(libri_speech_base_path, split='dev')\n",
    "\n",
    "print('Loaded {0:d} objects'.format(len(libri_speech_dev['audio_path'])))\n",
    "\n",
    "# Load tokenizer model\n",
    "sp_tokenizer = sentencepiece.SentencePieceProcessor(model_file='tokenizer.model')"
   ]
  },
  {
   "cell_type": "code",
   "execution_count": 11,
   "id": "6eb1103e",
   "metadata": {
    "cellId": "398yspr0ar7v3ehsed2z6"
   },
   "outputs": [
    {
     "name": "stderr",
     "output_type": "stream",
     "text": [
      "/usr/local/lib/python3.8/dist-packages/pandas/core/computation/expressions.py:190: UserWarning: evaluating in Python space because the '*' operator is not supported by numexpr for the bool dtype, use '&' instead\n",
      "  warnings.warn(\n"
     ]
    }
   ],
   "source": [
    "#!g1.1\n",
    "from src.dataset import AudioDataset, collate_fn\n",
    "\n",
    "libri_speech_dev_ds = AudioDataset(libri_speech_dev, sp_tokenizer, min_duration=1.36, max_duration=10.96)\n",
    "libri_speech_dev_ds[0]\n",
    "\n",
    "batch_size = 8\n",
    "num_workers = 0\n",
    "\n",
    "libri_speech_dev_dl = DataLoader(\n",
    "    libri_speech_dev_ds, batch_size=batch_size, shuffle=False,\n",
    "    num_workers=num_workers, pin_memory=False, collate_fn=collate_fn\n",
    ")\n",
    "batch = next(iter(libri_speech_dev_dl))"
   ]
  },
  {
   "cell_type": "code",
   "execution_count": 26,
   "id": "7cf5c8a5",
   "metadata": {
    "cellId": "onl9r6f5mzgug12gt7gx5"
   },
   "outputs": [
    {
     "data": {
      "text/plain": [
       "device(type='cuda', index=0)"
      ]
     },
     "execution_count": 26,
     "metadata": {},
     "output_type": "execute_result"
    }
   ],
   "source": [
    "#!g1.1\n",
    "batch[\"audio\"] = batch[\"audio\"].to(device)\n",
    "batch[\"audio_len\"] = batch[\"audio_len\"].to(device)\n",
    "batch[\"audio\"].device"
   ]
  },
  {
   "cell_type": "code",
   "execution_count": 24,
   "id": "60cc5416",
   "metadata": {
    "cellId": "as11q2daypkvtbqc3jxazj"
   },
   "outputs": [
    {
     "data": {
      "text/plain": [
       "Parameter containing:\n",
       "tensor([[[[-0.1596, -0.2013,  0.1798],\n",
       "          [ 0.0297,  0.3239, -0.1649],\n",
       "          [ 0.1801, -0.2005, -0.1177]]],\n",
       "\n",
       "\n",
       "        [[[ 0.2574, -0.1356, -0.0390],\n",
       "          [-0.3202,  0.2731, -0.2075],\n",
       "          [ 0.0405, -0.0679,  0.0415]]],\n",
       "\n",
       "\n",
       "        [[[-0.1180,  0.0774,  0.0439],\n",
       "          [ 0.3209,  0.1399, -0.2078],\n",
       "          [-0.1581, -0.0460,  0.2748]]],\n",
       "\n",
       "\n",
       "        ...,\n",
       "\n",
       "\n",
       "        [[[-0.1265, -0.0480,  0.1881],\n",
       "          [-0.2471, -0.1802, -0.1794],\n",
       "          [-0.0764, -0.1826,  0.0394]]],\n",
       "\n",
       "\n",
       "        [[[-0.0166, -0.0866, -0.1231],\n",
       "          [ 0.0027, -0.0495,  0.2153],\n",
       "          [ 0.3233, -0.0298, -0.2487]]],\n",
       "\n",
       "\n",
       "        [[[-0.2261, -0.0838, -0.1906],\n",
       "          [-0.0234,  0.0442, -0.1292],\n",
       "          [ 0.1658,  0.2391, -0.1284]]]], device='cuda:0', requires_grad=True)"
      ]
     },
     "execution_count": 24,
     "metadata": {},
     "output_type": "execute_result"
    }
   ],
   "source": [
    "#!g1.1\n",
    "from src.conformer import Conformer\n",
    "\n",
    "conformer = Conformer()\n",
    "conformer.to(device);\n",
    "list(conformer.parameters())[0]"
   ]
  },
  {
   "cell_type": "code",
   "execution_count": 29,
   "id": "4494a5ad",
   "metadata": {
    "cellId": "9scwgryj3acbc2ni71hwvc"
   },
   "outputs": [
    {
     "data": {
      "text/plain": [
       "<All keys matched successfully>"
      ]
     },
     "execution_count": 29,
     "metadata": {},
     "output_type": "execute_result"
    }
   ],
   "source": [
    "#!g1.1\n",
    "weights = torch.load(\"conformer.pt\")\n",
    "conformer.load_state_dict(weights)"
   ]
  },
  {
   "cell_type": "code",
   "execution_count": 30,
   "id": "fdd4f4da",
   "metadata": {
    "cellId": "w12nq0mdc77zidjib10zh"
   },
   "outputs": [],
   "source": [
    "#!g1.1\n",
    "conformer.eval()\n",
    "_,_, gp = conformer(batch[\"audio\"], batch[\"audio_len\"])"
   ]
  },
  {
   "cell_type": "code",
   "execution_count": 34,
   "id": "6d3e9ca2",
   "metadata": {
    "cellId": "j1n54objxuuxcc9ifdu2l"
   },
   "outputs": [
    {
     "data": {
      "text/plain": [
       "'на ггде  же перрвый ззваный гость'"
      ]
     },
     "execution_count": 34,
     "metadata": {},
     "output_type": "execute_result"
    }
   ],
   "source": [
    "#!g1.1\n",
    "sp_tokenizer.decode(gp[1][gp[1] != 128].tolist())"
   ]
  },
  {
   "cell_type": "code",
   "execution_count": 37,
   "id": "5a0717bf",
   "metadata": {
    "cellId": "xbnr4p7oqvg73o956dzsxo"
   },
   "outputs": [
    {
     "ename": "IndexError",
     "evalue": "Dimension out of range (expected to be in range of [-2, 1], but got 2)",
     "output_type": "error",
     "traceback": [
      "\u001b[0;31m---------------------------------------------------------------------------\u001b[0m",
      "\u001b[0;31mIndexError\u001b[0m                                Traceback (most recent call last)",
      "\u001b[0;32m<ipython-input-3-cf803de95d14>\u001b[0m in \u001b[0;36m<module>\u001b[0;34m\u001b[0m\n\u001b[1;32m      5\u001b[0m \u001b[0mlength\u001b[0m \u001b[0;34m=\u001b[0m \u001b[0mlen\u001b[0m\u001b[0;34m(\u001b[0m\u001b[0mlogit\u001b[0m\u001b[0;34m)\u001b[0m\u001b[0;34m\u001b[0m\u001b[0;34m\u001b[0m\u001b[0m\n\u001b[1;32m      6\u001b[0m \u001b[0;34m\u001b[0m\u001b[0m\n\u001b[0;32m----> 7\u001b[0;31m \u001b[0mhypothesis\u001b[0m \u001b[0;34m=\u001b[0m \u001b[0mctc_greedy_decoding\u001b[0m\u001b[0;34m(\u001b[0m\u001b[0mlogit\u001b[0m\u001b[0;34m,\u001b[0m \u001b[0mlength\u001b[0m\u001b[0;34m,\u001b[0m \u001b[0;36m128\u001b[0m\u001b[0;34m,\u001b[0m \u001b[0msp_tokenizer\u001b[0m\u001b[0;34m)\u001b[0m\u001b[0;34m\u001b[0m\u001b[0;34m\u001b[0m\u001b[0m\n\u001b[0m\u001b[1;32m      8\u001b[0m \u001b[0;34m\u001b[0m\u001b[0m\n\u001b[1;32m      9\u001b[0m \u001b[0mwer\u001b[0m\u001b[0;34m,\u001b[0m \u001b[0mwords\u001b[0m\u001b[0;34m,\u001b[0m \u001b[0mscores\u001b[0m \u001b[0;34m=\u001b[0m \u001b[0mword_error_rate\u001b[0m\u001b[0;34m(\u001b[0m\u001b[0mhypothesis\u001b[0m\u001b[0;34m,\u001b[0m \u001b[0mreference\u001b[0m\u001b[0;34m)\u001b[0m\u001b[0;34m\u001b[0m\u001b[0;34m\u001b[0m\u001b[0m\n",
      "\u001b[0;32m/usr/local/lib/python3.8/dist-packages/torch/autograd/grad_mode.py\u001b[0m in \u001b[0;36mdecorate_context\u001b[0;34m(*args, **kwargs)\u001b[0m\n\u001b[1;32m     26\u001b[0m         \u001b[0;32mdef\u001b[0m \u001b[0mdecorate_context\u001b[0m\u001b[0;34m(\u001b[0m\u001b[0;34m*\u001b[0m\u001b[0margs\u001b[0m\u001b[0;34m,\u001b[0m \u001b[0;34m**\u001b[0m\u001b[0mkwargs\u001b[0m\u001b[0;34m)\u001b[0m\u001b[0;34m:\u001b[0m\u001b[0;34m\u001b[0m\u001b[0;34m\u001b[0m\u001b[0m\n\u001b[1;32m     27\u001b[0m             \u001b[0;32mwith\u001b[0m \u001b[0mself\u001b[0m\u001b[0;34m.\u001b[0m\u001b[0m__class__\u001b[0m\u001b[0;34m(\u001b[0m\u001b[0;34m)\u001b[0m\u001b[0;34m:\u001b[0m\u001b[0;34m\u001b[0m\u001b[0;34m\u001b[0m\u001b[0m\n\u001b[0;32m---> 28\u001b[0;31m                 \u001b[0;32mreturn\u001b[0m \u001b[0mfunc\u001b[0m\u001b[0;34m(\u001b[0m\u001b[0;34m*\u001b[0m\u001b[0margs\u001b[0m\u001b[0;34m,\u001b[0m \u001b[0;34m**\u001b[0m\u001b[0mkwargs\u001b[0m\u001b[0;34m)\u001b[0m\u001b[0;34m\u001b[0m\u001b[0;34m\u001b[0m\u001b[0m\n\u001b[0m\u001b[1;32m     29\u001b[0m         \u001b[0;32mreturn\u001b[0m \u001b[0mcast\u001b[0m\u001b[0;34m(\u001b[0m\u001b[0mF\u001b[0m\u001b[0;34m,\u001b[0m \u001b[0mdecorate_context\u001b[0m\u001b[0;34m)\u001b[0m\u001b[0;34m\u001b[0m\u001b[0;34m\u001b[0m\u001b[0m\n\u001b[1;32m     30\u001b[0m \u001b[0;34m\u001b[0m\u001b[0m\n",
      "\u001b[0;32m~/work/resources/average_enjoyer/conformer/src/metrics.py\u001b[0m in \u001b[0;36mctc_greedy_decoding\u001b[0;34m(logits, logits_len, blank_id, tokenizer)\u001b[0m\n\u001b[1;32m     19\u001b[0m     \u001b[0mhypotheses\u001b[0m \u001b[0;34m=\u001b[0m \u001b[0;34m[\u001b[0m\u001b[0;34m]\u001b[0m\u001b[0;34m\u001b[0m\u001b[0;34m\u001b[0m\u001b[0m\n\u001b[1;32m     20\u001b[0m     \u001b[0;31m### YOUR CODE HERE\u001b[0m\u001b[0;34m\u001b[0m\u001b[0;34m\u001b[0m\u001b[0;34m\u001b[0m\u001b[0m\n\u001b[0;32m---> 21\u001b[0;31m     \u001b[0mlogits\u001b[0m \u001b[0;34m=\u001b[0m \u001b[0mtorch\u001b[0m\u001b[0;34m.\u001b[0m\u001b[0margmax\u001b[0m\u001b[0;34m(\u001b[0m\u001b[0mlogits\u001b[0m\u001b[0;34m,\u001b[0m \u001b[0mdim\u001b[0m\u001b[0;34m=\u001b[0m\u001b[0;36m2\u001b[0m\u001b[0;34m)\u001b[0m\u001b[0;34m\u001b[0m\u001b[0;34m\u001b[0m\u001b[0m\n\u001b[0m\u001b[1;32m     22\u001b[0m     \u001b[0;32mfor\u001b[0m \u001b[0mtokens_tensor\u001b[0m\u001b[0;34m,\u001b[0m \u001b[0mtokens_len\u001b[0m \u001b[0;32min\u001b[0m \u001b[0mzip\u001b[0m\u001b[0;34m(\u001b[0m\u001b[0mlogits\u001b[0m\u001b[0;34m,\u001b[0m \u001b[0mlogits_len\u001b[0m\u001b[0;34m)\u001b[0m\u001b[0;34m:\u001b[0m\u001b[0;34m\u001b[0m\u001b[0;34m\u001b[0m\u001b[0m\n\u001b[1;32m     23\u001b[0m         \u001b[0mtokens_tensor\u001b[0m \u001b[0;34m=\u001b[0m \u001b[0mtokens_tensor\u001b[0m\u001b[0;34m[\u001b[0m\u001b[0;34m:\u001b[0m\u001b[0mtokens_len\u001b[0m\u001b[0;34m]\u001b[0m\u001b[0;34m\u001b[0m\u001b[0;34m\u001b[0m\u001b[0m\n",
      "\u001b[0;31mIndexError\u001b[0m: Dimension out of range (expected to be in range of [-2, 1], but got 2)"
     ]
    }
   ],
   "source": [
    "#!g1.1\n",
    "from src.metrics import ctc_greedy_decoding, word_error_rate\n",
    "\n",
    "logit = gp\n",
    "reference = batch[\"text\"]\n",
    "length = len(logit)\n",
    "\n",
    "hypothesis = ctc_greedy_decoding(logit, length, 128, sp_tokenizer)\n",
    "\n",
    "wer, words, scores = word_error_rate(hypothesis, reference)\n",
    "print(wer[0], words[0], scores[0], sep=\"\\n\")"
   ]
  }
 ],
 "metadata": {
  "language_info": {
   "codemirror_mode": {
    "name": "ipython",
    "version": 3
   },
   "file_extension": ".py",
   "mimetype": "text/x-python",
   "name": "python",
   "nbconvert_exporter": "python",
   "pygments_lexer": "ipython3",
   "version": "3.7.7"
  },
  "notebookId": "d2cb2be1-cdaa-406a-9d85-569799d3af0a",
  "notebookPath": "average_enjoyer/conformer/Untitled.ipynb"
 },
 "nbformat": 4,
 "nbformat_minor": 5
}
