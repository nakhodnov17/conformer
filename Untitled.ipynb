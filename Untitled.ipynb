{
 "cells": [
  {
   "cell_type": "code",
   "execution_count": 211,
   "id": "28ca18dd",
   "metadata": {
    "cellId": "dvfohurqunk3ofpgj0f7of"
   },
   "outputs": [],
   "source": [
    "#!g1.1\n",
    "%config Completer.use_jedi = False\n",
    "%load_ext autoreload\n",
    "%autoreload 2"
   ]
  },
  {
   "cell_type": "code",
   "execution_count": 212,
   "id": "8e4d5adc",
   "metadata": {
    "cellId": "e7mia9nx6dw6ks0ibie7kw"
   },
   "outputs": [
    {
     "data": {
      "text/html": [
       "<style>.container { width:90% !important; }</style>"
      ],
      "text/plain": [
       "<IPython.core.display.HTML object>"
      ]
     },
     "metadata": {},
     "output_type": "display_data"
    }
   ],
   "source": [
    "#!g1.1\n",
    "from IPython.display import display, HTML, Video\n",
    "display(HTML(\"<style>.container { width:90% !important; }</style>\"))"
   ]
  },
  {
   "cell_type": "code",
   "execution_count": 213,
   "id": "db2a4e7b",
   "metadata": {
    "cellId": "d0grt2y6r7q34c4rx9i3lf"
   },
   "outputs": [],
   "source": [
    "#!g1.1\n",
    "import torch\n",
    "import torchaudio\n",
    "from torch.utils.data import Dataset, DataLoader\n",
    "\n",
    "import sentencepiece"
   ]
  },
  {
   "cell_type": "code",
   "execution_count": 214,
   "id": "9268d389",
   "metadata": {
    "cellId": "abbs6igudujmxcpq3fxgb"
   },
   "outputs": [],
   "source": [
    "#!g1.1\n",
    "import os\n",
    "import glob\n",
    "import json\n",
    "import regex\n",
    "\n",
    "import tqdm.notebook as tqdm\n",
    "\n",
    "import numpy as np\n",
    "import pandas as pd\n",
    "\n",
    "from ipywidgets import GridBox, Audio, HBox, VBox, Box, Label, Layout\n",
    "\n",
    "import matplotlib.pyplot as plt\n",
    "# import matplotlib_inline\n",
    "\n",
    "%matplotlib inline\n",
    "# matplotlib_inline.backend_inline.set_matplotlib_formats('svg')"
   ]
  },
  {
   "cell_type": "code",
   "execution_count": 215,
   "id": "07c0d159",
   "metadata": {
    "cellId": "qou4p005w64wph1exgchw"
   },
   "outputs": [],
   "source": [
    "#!g1.1\n",
    "base_path = '/home/jupyter/mnt/datasets'\n",
    "\n",
    "libri_speech_base_path = os.path.join(base_path, 'LibriSpeech_ds')\n",
    "golos_base_path = os.path.join(base_path, 'golos')\n",
    "\n",
    "device = torch.device(\"cuda\", 0)"
   ]
  },
  {
   "cell_type": "code",
   "execution_count": 216,
   "id": "ac7de045",
   "metadata": {
    "cellId": "xlsjq7fz87jnd92bgs9s4e"
   },
   "outputs": [
    {
     "name": "stdout",
     "output_type": "stream",
     "text": [
      "Loaded 1400 objects\n",
      "Loaded 54472 objects\n",
      "Loaded 1352 objects\n"
     ]
    }
   ],
   "source": [
    "#!g1.1\n",
    "from src.dataset import get_libri_speech_dataset, get_golos_dataset\n",
    "\n",
    "libri_speech_dev = get_libri_speech_dataset(libri_speech_base_path, split='dev')\n",
    "libri_speech_train = get_libri_speech_dataset(libri_speech_base_path, split='train')\n",
    "libri_speech_test = get_libri_speech_dataset(libri_speech_base_path, split='test')\n",
    "\n",
    "print('Loaded {0:d} objects'.format(len(libri_speech_dev['audio_path'])))\n",
    "print('Loaded {0:d} objects'.format(len(libri_speech_train['audio_path'])))\n",
    "print('Loaded {0:d} objects'.format(len(libri_speech_test['audio_path'])))\n",
    "\n",
    "# Load tokenizer model\n",
    "sp_tokenizer = sentencepiece.SentencePieceProcessor(model_file='tokenizer.model')"
   ]
  },
  {
   "cell_type": "code",
   "execution_count": 217,
   "id": "152639e3",
   "metadata": {
    "cellId": "398yspr0ar7v3ehsed2z6"
   },
   "outputs": [
    {
     "name": "stderr",
     "output_type": "stream",
     "text": [
      "/usr/local/lib/python3.8/dist-packages/pandas/core/computation/expressions.py:190: UserWarning: evaluating in Python space because the '*' operator is not supported by numexpr for the bool dtype, use '&' instead\n",
      "  warnings.warn(\n",
      "/usr/local/lib/python3.8/dist-packages/pandas/core/computation/expressions.py:190: UserWarning: evaluating in Python space because the '*' operator is not supported by numexpr for the bool dtype, use '&' instead\n",
      "  warnings.warn(\n",
      "/usr/local/lib/python3.8/dist-packages/pandas/core/computation/expressions.py:190: UserWarning: evaluating in Python space because the '*' operator is not supported by numexpr for the bool dtype, use '&' instead\n",
      "  warnings.warn(\n"
     ]
    }
   ],
   "source": [
    "#!g1.1\n",
    "from src.dataset import AudioDataset, collate_fn\n",
    "\n",
    "libri_speech_dev_ds = AudioDataset(libri_speech_dev, sp_tokenizer, min_duration=1.36, max_duration=10.96)\n",
    "libri_speech_train_ds = AudioDataset(libri_speech_train, sp_tokenizer, min_duration=1.36, max_duration=10.96)\n",
    "libri_speech_test_ds = AudioDataset(libri_speech_test, sp_tokenizer, min_duration=1.36, max_duration=10.96)\n",
    "\n",
    "batch_size = 8\n",
    "num_workers = 0\n",
    "\n",
    "libri_speech_dev_dl = DataLoader(\n",
    "    libri_speech_dev_ds, batch_size=batch_size, shuffle=False,\n",
    "    num_workers=num_workers, pin_memory=False, collate_fn=collate_fn\n",
    ")\n",
    "\n",
    "libri_speech_train_dl = DataLoader(\n",
    "    libri_speech_train_ds, batch_size=batch_size, shuffle=False,\n",
    "    num_workers=num_workers, pin_memory=False, collate_fn=collate_fn\n",
    ")\n",
    "\n",
    "libri_speech_test_dl = DataLoader(\n",
    "    libri_speech_test_ds, batch_size=batch_size, shuffle=False,\n",
    "    num_workers=num_workers, pin_memory=False, collate_fn=collate_fn\n",
    ")\n",
    "\n",
    "train_dataloaders = {\n",
    "    'libri_speech/train': libri_speech_train_dl, \n",
    "#     'golos/train': golos_train\n",
    "}\n",
    "\n",
    "validate_dataloaders = {\n",
    "#     'golos/test/crowd': golos_test_crowd,\n",
    "#     'golos/test/farfield': golos_test_farfield,\n",
    "    'libri_speech/dev': libri_speech_dev_dl,\n",
    "    'libri_speech/test': libri_speech_test_dl,\n",
    "}"
   ]
  },
  {
   "cell_type": "code",
   "execution_count": 218,
   "id": "7ad99aa5",
   "metadata": {
    "cellId": "onl9r6f5mzgug12gt7gx5"
   },
   "outputs": [
    {
     "ename": "TypeError",
     "evalue": "'DataLoader' object is not an iterator",
     "output_type": "error",
     "traceback": [
      "\u001b[0;31m---------------------------------------------------------------------------\u001b[0m",
      "\u001b[0;31mTypeError\u001b[0m                                 Traceback (most recent call last)",
      "\u001b[0;32m<ipython-input-8-cf13ec2747b6>\u001b[0m in \u001b[0;36m<module>\u001b[0;34m\u001b[0m\n\u001b[0;32m----> 1\u001b[0;31m \u001b[0mbatch\u001b[0m \u001b[0;34m=\u001b[0m \u001b[0mnext\u001b[0m\u001b[0;34m(\u001b[0m\u001b[0mlibri_speech_dev_dl\u001b[0m\u001b[0;34m)\u001b[0m\u001b[0;34m\u001b[0m\u001b[0;34m\u001b[0m\u001b[0m\n\u001b[0m\u001b[1;32m      2\u001b[0m \u001b[0mbatch\u001b[0m\u001b[0;34m[\u001b[0m\u001b[0;34m\"audio\"\u001b[0m\u001b[0;34m]\u001b[0m \u001b[0;34m=\u001b[0m \u001b[0mbatch\u001b[0m\u001b[0;34m[\u001b[0m\u001b[0;34m\"audio\"\u001b[0m\u001b[0;34m]\u001b[0m\u001b[0;34m.\u001b[0m\u001b[0mto\u001b[0m\u001b[0;34m(\u001b[0m\u001b[0mdevice\u001b[0m\u001b[0;34m)\u001b[0m\u001b[0;34m\u001b[0m\u001b[0;34m\u001b[0m\u001b[0m\n\u001b[1;32m      3\u001b[0m \u001b[0mbatch\u001b[0m\u001b[0;34m[\u001b[0m\u001b[0;34m\"audio_len\"\u001b[0m\u001b[0;34m]\u001b[0m \u001b[0;34m=\u001b[0m \u001b[0mbatch\u001b[0m\u001b[0;34m[\u001b[0m\u001b[0;34m\"audio_len\"\u001b[0m\u001b[0;34m]\u001b[0m\u001b[0;34m.\u001b[0m\u001b[0mto\u001b[0m\u001b[0;34m(\u001b[0m\u001b[0mdevice\u001b[0m\u001b[0;34m)\u001b[0m\u001b[0;34m\u001b[0m\u001b[0;34m\u001b[0m\u001b[0m\n\u001b[1;32m      4\u001b[0m \u001b[0mbatch\u001b[0m\u001b[0;34m[\u001b[0m\u001b[0;34m\"audio\"\u001b[0m\u001b[0;34m]\u001b[0m\u001b[0;34m.\u001b[0m\u001b[0mdevice\u001b[0m\u001b[0;34m\u001b[0m\u001b[0;34m\u001b[0m\u001b[0m\n\u001b[1;32m      5\u001b[0m \u001b[0;31m#\u001b[0m\u001b[0;34m\u001b[0m\u001b[0;34m\u001b[0m\u001b[0;34m\u001b[0m\u001b[0m\n",
      "\u001b[0;31mTypeError\u001b[0m: 'DataLoader' object is not an iterator"
     ]
    }
   ],
   "source": [
    "#!g1.1\n",
    "batch = next(libri_speech_dev_dl)\n",
    "batch[\"audio\"] = batch[\"audio\"].to(device)\n",
    "batch[\"audio_len\"] = batch[\"audio_len\"].to(device)\n",
    "batch[\"audio\"].device"
   ]
  },
  {
   "cell_type": "code",
   "execution_count": 219,
   "id": "669bca93",
   "metadata": {
    "cellId": "as11q2daypkvtbqc3jxazj"
   },
   "outputs": [],
   "source": [
    "#!g1.1\n",
    "from src.conformer import Conformer\n",
    "\n",
    "conformer = Conformer()\n",
    "conformer.to(device);"
   ]
  },
  {
   "cell_type": "code",
   "execution_count": 220,
   "id": "608d1518",
   "metadata": {
    "cellId": "9scwgryj3acbc2ni71hwvc"
   },
   "outputs": [
    {
     "data": {
      "text/plain": [
       "<All keys matched successfully>"
      ]
     },
     "execution_count": 220,
     "metadata": {},
     "output_type": "execute_result"
    }
   ],
   "source": [
    "#!g1.1\n",
    "weights = torch.load(\"conformer.pt\")\n",
    "conformer.load_state_dict(weights)"
   ]
  },
  {
   "cell_type": "code",
   "execution_count": 171,
   "id": "77a35251",
   "metadata": {
    "cellId": "w12nq0mdc77zidjib10zh"
   },
   "outputs": [
    {
     "name": "stdout",
     "output_type": "stream",
     "text": [
      "tensor([55, 55, 56, 56, 56, 57, 58, 58], device='cuda:0')\n"
     ]
    }
   ],
   "source": [
    "#!g1.1\n",
    "conformer.eval()\n",
    "log_pb, enc_len, gp = conformer(batch[\"audio\"], batch[\"audio_len\"])\n",
    "print(enc_len)"
   ]
  },
  {
   "cell_type": "code",
   "execution_count": 172,
   "id": "0b68323e",
   "metadata": {
    "cellId": "j1n54objxuuxcc9ifdu2l"
   },
   "outputs": [
    {
     "data": {
      "text/plain": [
       "'на ггде  же перрвый ззваный гость'"
      ]
     },
     "execution_count": 172,
     "metadata": {},
     "output_type": "execute_result"
    }
   ],
   "source": [
    "#!g1.1\n",
    "sp_tokenizer.decode(gp[1][gp[1] != 128].tolist())"
   ]
  },
  {
   "cell_type": "code",
   "execution_count": 173,
   "id": "86bc3c14",
   "metadata": {
    "cellId": "xbnr4p7oqvg73o956dzsxo"
   },
   "outputs": [
    {
     "name": "stdout",
     "output_type": "stream",
     "text": [
      "0.5777777777777777\n",
      "45\n",
      "26\n",
      "['дай бог чтоб просвветились мы', 'на где же первый званый гость', 'вот что хочет ссяне зоинька', 'м только лень и непоковство', 'теснимма шведов фрайд заратьюг', 'усоты куда свой танный путь', 'давновней и скорасгоралась', 'вн неемрачный дух неснал покоя']\n",
      "['дай бог чтоб просветились мы', 'но где же первый званый гость', 'вот что хочется мне зоинька', 'в нем только лень и непокорство', 'тесним мы шведов рать за ратью', 'куда свой тайный путь направил', 'давно в ней искра разгоралась', 'в нем мрачный дух не знал покоя']\n"
     ]
    }
   ],
   "source": [
    "#!g1.1\n",
    "from src.metrics import WERMetric\n",
    "\n",
    "metric = WERMetric(128, sp_tokenizer)\n",
    "\n",
    "reference = batch[\"text\"]\n",
    "\n",
    "metric.update(log_pb, enc_len, reference)\n",
    "\n",
    "wer, words, scores = metric.compute()\n",
    "print(wer, words, scores, sep=\"\\n\")\n",
    "print(hypothesis, reference, sep=\"\\n\")"
   ]
  },
  {
   "cell_type": "code",
   "execution_count": 175,
   "id": "a78e809c",
   "metadata": {
    "cellId": "qwh6w6izaeane04ok3wap"
   },
   "outputs": [],
   "source": [
    "#!g1.1\n",
    "a = conformer.loss(torch.transpose(log_pb, 0, 1), batch[\"tokens\"], enc_len, batch[\"tokens_len\"])"
   ]
  },
  {
   "cell_type": "code",
   "execution_count": null,
   "id": "fcb30183",
   "metadata": {
    "cellId": "lcso9vyze1r1rk6r4g4cr2"
   },
   "outputs": [],
   "source": [
    "#!g1.1"
   ]
  },
  {
   "cell_type": "code",
   "execution_count": 184,
   "id": "b7ae8fe2",
   "metadata": {
    "cellId": "086o86do1s05w0m2f4eulta"
   },
   "outputs": [
    {
     "name": "stderr",
     "output_type": "stream",
     "text": [
      "100%|██████████| 147/147 [00:10<00:00, 14.48it/s]\n",
      "100%|██████████| 6153/6153 [14:45<00:00,  6.95it/s]\n",
      "100%|██████████| 148/148 [00:22<00:00,  6.49it/s]\n"
     ]
    }
   ],
   "source": [
    "#!g1.1\n",
    "from src.train import evaluate\n",
    "\n",
    "wer_res_dev, ctc_res_dev = evaluate(conformer, sp_tokenizer, libri_speech_dev_dl, device)\n",
    "wer_res_train, ctc_res_train = evaluate(conformer, sp_tokenizer, libri_speech_train_dl, device)\n",
    "wer_res_test, ctc_res_test = evaluate(conformer, sp_tokenizer, libri_speech_test_dl, device)"
   ]
  },
  {
   "cell_type": "code",
   "execution_count": 185,
   "id": "97928e32",
   "metadata": {
    "cellId": "7hxsf1wve79jjxnrfe97sm"
   },
   "outputs": [
    {
     "name": "stdout",
     "output_type": "stream",
     "text": [
      "(0.5690275229357799, 13625, 7753)\n",
      "(0.48950873808021966, 539020, 263855)\n",
      "(0.573453975491593, 14036, 8049)\n"
     ]
    }
   ],
   "source": [
    "#!g1.1\n",
    "print(wer_res_dev, wer_res_train, wer_res_test, sep=\"\\n\")"
   ]
  },
  {
   "cell_type": "code",
   "execution_count": 221,
   "id": "da34f526",
   "metadata": {
    "cellId": "aycf0w9m44r3m09fqph5lb"
   },
   "outputs": [
    {
     "data": {
      "application/vnd.jupyter.widget-view+json": {
       "model_id": "d92fbfeae4a24550af2d26f9c792e138",
       "version_major": 2,
       "version_minor": 0
      },
      "text/plain": [
       "HBox(children=(HTML(value=''), FloatProgress(value=0.0, max=1.0), HTML(value='')))"
      ]
     },
     "metadata": {},
     "output_type": "display_data"
    },
    {
     "data": {
      "application/vnd.jupyter.widget-view+json": {
       "model_id": "822b6b88a19341f3afac62a1941388fa",
       "version_major": 2,
       "version_minor": 0
      },
      "text/plain": [
       "HBox(children=(HTML(value=''), FloatProgress(value=0.0, max=6153.0), HTML(value='')))"
      ]
     },
     "metadata": {},
     "output_type": "display_data"
    },
    {
     "name": "stdout",
     "output_type": "stream",
     "text": [
      "\n"
     ]
    },
    {
     "ename": "KeyboardInterrupt",
     "evalue": "",
     "output_type": "error",
     "traceback": [
      "\u001b[0;31m---------------------------------------------------------------------------\u001b[0m",
      "\u001b[0;31mKeyboardInterrupt\u001b[0m                         Traceback (most recent call last)",
      "\u001b[0;32m<ipython-input-11-9f67f31c45c1>\u001b[0m in \u001b[0;36m<module>\u001b[0;34m\u001b[0m\n\u001b[1;32m      5\u001b[0m \u001b[0mscheduler\u001b[0m \u001b[0;34m=\u001b[0m \u001b[0mNoamAnnealing\u001b[0m\u001b[0;34m(\u001b[0m\u001b[0moptimizer\u001b[0m\u001b[0;34m,\u001b[0m \u001b[0md_model\u001b[0m\u001b[0;34m=\u001b[0m\u001b[0mconformer\u001b[0m\u001b[0;34m.\u001b[0m\u001b[0md_model\u001b[0m\u001b[0;34m,\u001b[0m \u001b[0mwarmup_steps\u001b[0m\u001b[0;34m=\u001b[0m\u001b[0;36m600\u001b[0m\u001b[0;34m)\u001b[0m\u001b[0;34m\u001b[0m\u001b[0;34m\u001b[0m\u001b[0m\n\u001b[1;32m      6\u001b[0m \u001b[0;34m\u001b[0m\u001b[0m\n\u001b[0;32m----> 7\u001b[0;31m \u001b[0mtrain\u001b[0m\u001b[0;34m(\u001b[0m\u001b[0mconformer\u001b[0m\u001b[0;34m,\u001b[0m \u001b[0msp_tokenizer\u001b[0m\u001b[0;34m,\u001b[0m \u001b[0;32mNone\u001b[0m\u001b[0;34m,\u001b[0m \u001b[0moptimizer\u001b[0m\u001b[0;34m,\u001b[0m \u001b[0mscheduler\u001b[0m\u001b[0;34m,\u001b[0m \u001b[0;36m1\u001b[0m\u001b[0;34m,\u001b[0m \u001b[0mlibri_speech_train_dl\u001b[0m\u001b[0;34m,\u001b[0m \u001b[0mvalidate_dataloaders\u001b[0m\u001b[0;34m,\u001b[0m \u001b[0mdevice\u001b[0m\u001b[0;34m,\u001b[0m \u001b[0mmodel_dir\u001b[0m\u001b[0;34m=\u001b[0m\u001b[0;34m\"model_train\"\u001b[0m\u001b[0;34m)\u001b[0m\u001b[0;34m\u001b[0m\u001b[0;34m\u001b[0m\u001b[0m\n\u001b[0m\u001b[1;32m      8\u001b[0m \u001b[0;31m#\u001b[0m\u001b[0;34m\u001b[0m\u001b[0;34m\u001b[0m\u001b[0;34m\u001b[0m\u001b[0m\n",
      "\u001b[0;32m~/work/resources/average_enjoyer/conformer/src/train.py\u001b[0m in \u001b[0;36mtrain\u001b[0;34m(model, tokenizer, grad_scaler, optimizer, scheduler, num_epochs, train_dataloader, val_dataloaders, device, accumulate_grad_batches, compute_frequency, model_dir, verbose)\u001b[0m\n\u001b[1;32m     75\u001b[0m \u001b[0;34m\u001b[0m\u001b[0m\n\u001b[1;32m     76\u001b[0m             \u001b[0;31m# calculating gradients\u001b[0m\u001b[0;34m\u001b[0m\u001b[0;34m\u001b[0m\u001b[0;34m\u001b[0m\u001b[0m\n\u001b[0;32m---> 77\u001b[0;31m             \u001b[0;34m(\u001b[0m\u001b[0mloss\u001b[0m\u001b[0;34m.\u001b[0m\u001b[0mmean\u001b[0m\u001b[0;34m(\u001b[0m\u001b[0;34m)\u001b[0m\u001b[0;34m)\u001b[0m\u001b[0;34m.\u001b[0m\u001b[0mbackward\u001b[0m\u001b[0;34m(\u001b[0m\u001b[0;34m)\u001b[0m\u001b[0;34m\u001b[0m\u001b[0;34m\u001b[0m\u001b[0m\n\u001b[0m\u001b[1;32m     78\u001b[0m \u001b[0;34m\u001b[0m\u001b[0m\n\u001b[1;32m     79\u001b[0m             \u001b[0;31m# making gradient descent step w.r.t. accumulation\u001b[0m\u001b[0;34m\u001b[0m\u001b[0;34m\u001b[0m\u001b[0;34m\u001b[0m\u001b[0m\n",
      "\u001b[0;32m/usr/local/lib/python3.8/dist-packages/torch/_tensor.py\u001b[0m in \u001b[0;36mbackward\u001b[0;34m(self, gradient, retain_graph, create_graph, inputs)\u001b[0m\n\u001b[1;32m    253\u001b[0m                 \u001b[0mcreate_graph\u001b[0m\u001b[0;34m=\u001b[0m\u001b[0mcreate_graph\u001b[0m\u001b[0;34m,\u001b[0m\u001b[0;34m\u001b[0m\u001b[0;34m\u001b[0m\u001b[0m\n\u001b[1;32m    254\u001b[0m                 inputs=inputs)\n\u001b[0;32m--> 255\u001b[0;31m         \u001b[0mtorch\u001b[0m\u001b[0;34m.\u001b[0m\u001b[0mautograd\u001b[0m\u001b[0;34m.\u001b[0m\u001b[0mbackward\u001b[0m\u001b[0;34m(\u001b[0m\u001b[0mself\u001b[0m\u001b[0;34m,\u001b[0m \u001b[0mgradient\u001b[0m\u001b[0;34m,\u001b[0m \u001b[0mretain_graph\u001b[0m\u001b[0;34m,\u001b[0m \u001b[0mcreate_graph\u001b[0m\u001b[0;34m,\u001b[0m \u001b[0minputs\u001b[0m\u001b[0;34m=\u001b[0m\u001b[0minputs\u001b[0m\u001b[0;34m)\u001b[0m\u001b[0;34m\u001b[0m\u001b[0;34m\u001b[0m\u001b[0m\n\u001b[0m\u001b[1;32m    256\u001b[0m \u001b[0;34m\u001b[0m\u001b[0m\n\u001b[1;32m    257\u001b[0m     \u001b[0;32mdef\u001b[0m \u001b[0mregister_hook\u001b[0m\u001b[0;34m(\u001b[0m\u001b[0mself\u001b[0m\u001b[0;34m,\u001b[0m \u001b[0mhook\u001b[0m\u001b[0;34m)\u001b[0m\u001b[0;34m:\u001b[0m\u001b[0;34m\u001b[0m\u001b[0;34m\u001b[0m\u001b[0m\n",
      "\u001b[0;32m/usr/local/lib/python3.8/dist-packages/torch/autograd/__init__.py\u001b[0m in \u001b[0;36mbackward\u001b[0;34m(tensors, grad_tensors, retain_graph, create_graph, grad_variables, inputs)\u001b[0m\n\u001b[1;32m    145\u001b[0m         \u001b[0mretain_graph\u001b[0m \u001b[0;34m=\u001b[0m \u001b[0mcreate_graph\u001b[0m\u001b[0;34m\u001b[0m\u001b[0;34m\u001b[0m\u001b[0m\n\u001b[1;32m    146\u001b[0m \u001b[0;34m\u001b[0m\u001b[0m\n\u001b[0;32m--> 147\u001b[0;31m     Variable._execution_engine.run_backward(\n\u001b[0m\u001b[1;32m    148\u001b[0m         \u001b[0mtensors\u001b[0m\u001b[0;34m,\u001b[0m \u001b[0mgrad_tensors_\u001b[0m\u001b[0;34m,\u001b[0m \u001b[0mretain_graph\u001b[0m\u001b[0;34m,\u001b[0m \u001b[0mcreate_graph\u001b[0m\u001b[0;34m,\u001b[0m \u001b[0minputs\u001b[0m\u001b[0;34m,\u001b[0m\u001b[0;34m\u001b[0m\u001b[0;34m\u001b[0m\u001b[0m\n\u001b[1;32m    149\u001b[0m         allow_unreachable=True, accumulate_grad=True)  # allow_unreachable flag\n",
      "\u001b[0;31mKeyboardInterrupt\u001b[0m: "
     ]
    }
   ],
   "source": [
    "#!g1.1\n",
    "from src.train import train\n",
    "from src.scheduler import NoamAnnealing\n",
    "\n",
    "optimizer = torch.optim.AdamW(conformer.parameters(), lr=2, weight_decay=1e-3)\n",
    "scheduler = NoamAnnealing(optimizer, d_model=conformer.d_model, warmup_steps=600)\n",
    "\n",
    "train(conformer, sp_tokenizer, None, optimizer, scheduler, 1, libri_speech_train_dl, validate_dataloaders, device, model_dir=\"model_train\")"
   ]
  }
 ],
 "metadata": {
  "language_info": {
   "codemirror_mode": {
    "name": "ipython",
    "version": 3
   },
   "file_extension": ".py",
   "mimetype": "text/x-python",
   "name": "python",
   "nbconvert_exporter": "python",
   "pygments_lexer": "ipython3",
   "version": "3.7.7"
  },
  "notebookId": "d2cb2be1-cdaa-406a-9d85-569799d3af0a",
  "notebookPath": "average_enjoyer/conformer/Untitled.ipynb"
 },
 "nbformat": 4,
 "nbformat_minor": 5
}
