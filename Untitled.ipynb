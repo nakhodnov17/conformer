{
 "cells": [
  {
   "cell_type": "code",
   "execution_count": 249,
   "id": "9b985922",
   "metadata": {
    "cellId": "dvfohurqunk3ofpgj0f7of"
   },
   "outputs": [],
   "source": [
    "#!g1.1\n",
    "%config Completer.use_jedi = False\n",
    "%load_ext autoreload\n",
    "%autoreload 2"
   ]
  },
  {
   "cell_type": "code",
   "execution_count": 250,
   "id": "fe60f039",
   "metadata": {
    "cellId": "e7mia9nx6dw6ks0ibie7kw"
   },
   "outputs": [
    {
     "data": {
      "text/html": [
       "<style>.container { width:90% !important; }</style>"
      ],
      "text/plain": [
       "<IPython.core.display.HTML object>"
      ]
     },
     "metadata": {},
     "output_type": "display_data"
    }
   ],
   "source": [
    "#!g1.1\n",
    "from IPython.display import display, HTML, Video\n",
    "display(HTML(\"<style>.container { width:90% !important; }</style>\"))"
   ]
  },
  {
   "cell_type": "code",
   "execution_count": 251,
   "id": "9ed3cca2",
   "metadata": {
    "cellId": "d0grt2y6r7q34c4rx9i3lf"
   },
   "outputs": [],
   "source": [
    "#!g1.1\n",
    "import torch\n",
    "import torchaudio\n",
    "from torch.utils.data import Dataset, DataLoader\n",
    "\n",
    "import sentencepiece"
   ]
  },
  {
   "cell_type": "code",
   "execution_count": 252,
   "id": "717d6577",
   "metadata": {
    "cellId": "abbs6igudujmxcpq3fxgb"
   },
   "outputs": [],
   "source": [
    "#!g1.1\n",
    "import os\n",
    "import glob\n",
    "import json\n",
    "import regex\n",
    "\n",
    "import tqdm.notebook as tqdm\n",
    "\n",
    "import numpy as np\n",
    "import pandas as pd\n",
    "\n",
    "from ipywidgets import GridBox, Audio, HBox, VBox, Box, Label, Layout\n",
    "\n",
    "import matplotlib.pyplot as plt\n",
    "# import matplotlib_inline\n",
    "\n",
    "%matplotlib inline\n",
    "# matplotlib_inline.backend_inline.set_matplotlib_formats('svg')"
   ]
  },
  {
   "cell_type": "code",
   "execution_count": 253,
   "id": "8326c862",
   "metadata": {
    "cellId": "qou4p005w64wph1exgchw"
   },
   "outputs": [],
   "source": [
    "#!g1.1\n",
    "base_path = '/home/jupyter/mnt/datasets'\n",
    "\n",
    "libri_speech_base_path = os.path.join(base_path, 'LibriSpeech_ds')\n",
    "golos_base_path = os.path.join(base_path, 'golos')\n",
    "\n",
    "device = torch.device(\"cuda\", 0)"
   ]
  },
  {
   "cell_type": "code",
   "execution_count": 254,
   "id": "96f3db41",
   "metadata": {
    "cellId": "xlsjq7fz87jnd92bgs9s4e"
   },
   "outputs": [
    {
     "name": "stdout",
     "output_type": "stream",
     "text": [
      "Loaded 1400 objects\n",
      "Loaded 54472 objects\n",
      "Loaded 1352 objects\n"
     ]
    }
   ],
   "source": [
    "#!g1.1\n",
    "from src.dataset import get_libri_speech_dataset, get_golos_dataset\n",
    "\n",
    "libri_speech_dev = get_libri_speech_dataset(libri_speech_base_path, split='dev')\n",
    "libri_speech_train = get_libri_speech_dataset(libri_speech_base_path, split='train')\n",
    "libri_speech_test = get_libri_speech_dataset(libri_speech_base_path, split='test')\n",
    "\n",
    "print('Loaded {0:d} objects'.format(len(libri_speech_dev['audio_path'])))\n",
    "print('Loaded {0:d} objects'.format(len(libri_speech_train['audio_path'])))\n",
    "print('Loaded {0:d} objects'.format(len(libri_speech_test['audio_path'])))\n",
    "\n",
    "# Load tokenizer model\n",
    "sp_tokenizer = sentencepiece.SentencePieceProcessor(model_file='tokenizer.model')"
   ]
  },
  {
   "cell_type": "code",
   "execution_count": 255,
   "id": "849f5aba",
   "metadata": {
    "cellId": "398yspr0ar7v3ehsed2z6",
    "jupyter": {
     "source_hidden": true
    }
   },
   "outputs": [
    {
     "name": "stderr",
     "output_type": "stream",
     "text": [
      "/usr/local/lib/python3.8/dist-packages/pandas/core/computation/expressions.py:190: UserWarning: evaluating in Python space because the '*' operator is not supported by numexpr for the bool dtype, use '&' instead\n",
      "  warnings.warn(\n",
      "/usr/local/lib/python3.8/dist-packages/pandas/core/computation/expressions.py:190: UserWarning: evaluating in Python space because the '*' operator is not supported by numexpr for the bool dtype, use '&' instead\n",
      "  warnings.warn(\n",
      "/usr/local/lib/python3.8/dist-packages/pandas/core/computation/expressions.py:190: UserWarning: evaluating in Python space because the '*' operator is not supported by numexpr for the bool dtype, use '&' instead\n",
      "  warnings.warn(\n"
     ]
    }
   ],
   "source": [
    "#!g1.1\n",
    "from src.dataset import AudioDataset, collate_fn\n",
    "\n",
    "libri_speech_dev_ds = AudioDataset(libri_speech_dev, sp_tokenizer, min_duration=1.36, max_duration=10.96)\n",
    "libri_speech_train_ds = AudioDataset(libri_speech_train, sp_tokenizer, min_duration=1.36, max_duration=10.96)\n",
    "libri_speech_test_ds = AudioDataset(libri_speech_test, sp_tokenizer, min_duration=1.36, max_duration=10.96)\n",
    "\n",
    "batch_size = 20\n",
    "num_workers = 0\n",
    "\n",
    "libri_speech_dev_dl = DataLoader(\n",
    "    libri_speech_dev_ds, batch_size=batch_size, shuffle=False,\n",
    "    num_workers=num_workers, pin_memory=False, collate_fn=collate_fn\n",
    ")\n",
    "\n",
    "libri_speech_train_dl = DataLoader(\n",
    "    libri_speech_train_ds, batch_size=batch_size, shuffle=False,\n",
    "    num_workers=num_workers, pin_memory=False, collate_fn=collate_fn\n",
    ")\n",
    "\n",
    "libri_speech_test_dl = DataLoader(\n",
    "    libri_speech_test_ds, batch_size=batch_size, shuffle=False,\n",
    "    num_workers=num_workers, pin_memory=False, collate_fn=collate_fn\n",
    ")\n",
    "\n",
    "train_dataloaders = {\n",
    "    'libri_speech/train': libri_speech_train_dl, \n",
    "#     'golos/train': golos_train\n",
    "}\n",
    "\n",
    "validate_dataloaders = {\n",
    "#     'golos/test/crowd': golos_test_crowd,\n",
    "#     'golos/test/farfield': golos_test_farfield,\n",
    "    'libri_speech/dev': libri_speech_dev_dl,\n",
    "    'libri_speech/test': libri_speech_test_dl,\n",
    "}"
   ]
  },
  {
   "cell_type": "code",
   "execution_count": 241,
   "id": "91ba1d77",
   "metadata": {
    "cellId": "onl9r6f5mzgug12gt7gx5"
   },
   "outputs": [
    {
     "ename": "TypeError",
     "evalue": "'DataLoader' object is not an iterator",
     "output_type": "error",
     "traceback": [
      "\u001b[0;31m---------------------------------------------------------------------------\u001b[0m",
      "\u001b[0;31mTypeError\u001b[0m                                 Traceback (most recent call last)",
      "\u001b[0;32m<ipython-input-20-cf13ec2747b6>\u001b[0m in \u001b[0;36m<module>\u001b[0;34m\u001b[0m\n\u001b[0;32m----> 1\u001b[0;31m \u001b[0mbatch\u001b[0m \u001b[0;34m=\u001b[0m \u001b[0mnext\u001b[0m\u001b[0;34m(\u001b[0m\u001b[0mlibri_speech_dev_dl\u001b[0m\u001b[0;34m)\u001b[0m\u001b[0;34m\u001b[0m\u001b[0;34m\u001b[0m\u001b[0m\n\u001b[0m\u001b[1;32m      2\u001b[0m \u001b[0mbatch\u001b[0m\u001b[0;34m[\u001b[0m\u001b[0;34m\"audio\"\u001b[0m\u001b[0;34m]\u001b[0m \u001b[0;34m=\u001b[0m \u001b[0mbatch\u001b[0m\u001b[0;34m[\u001b[0m\u001b[0;34m\"audio\"\u001b[0m\u001b[0;34m]\u001b[0m\u001b[0;34m.\u001b[0m\u001b[0mto\u001b[0m\u001b[0;34m(\u001b[0m\u001b[0mdevice\u001b[0m\u001b[0;34m)\u001b[0m\u001b[0;34m\u001b[0m\u001b[0;34m\u001b[0m\u001b[0m\n\u001b[1;32m      3\u001b[0m \u001b[0mbatch\u001b[0m\u001b[0;34m[\u001b[0m\u001b[0;34m\"audio_len\"\u001b[0m\u001b[0;34m]\u001b[0m \u001b[0;34m=\u001b[0m \u001b[0mbatch\u001b[0m\u001b[0;34m[\u001b[0m\u001b[0;34m\"audio_len\"\u001b[0m\u001b[0;34m]\u001b[0m\u001b[0;34m.\u001b[0m\u001b[0mto\u001b[0m\u001b[0;34m(\u001b[0m\u001b[0mdevice\u001b[0m\u001b[0;34m)\u001b[0m\u001b[0;34m\u001b[0m\u001b[0;34m\u001b[0m\u001b[0m\n\u001b[1;32m      4\u001b[0m \u001b[0mbatch\u001b[0m\u001b[0;34m[\u001b[0m\u001b[0;34m\"audio\"\u001b[0m\u001b[0;34m]\u001b[0m\u001b[0;34m.\u001b[0m\u001b[0mdevice\u001b[0m\u001b[0;34m\u001b[0m\u001b[0;34m\u001b[0m\u001b[0m\n\u001b[1;32m      5\u001b[0m \u001b[0;31m#\u001b[0m\u001b[0;34m\u001b[0m\u001b[0;34m\u001b[0m\u001b[0;34m\u001b[0m\u001b[0m\n",
      "\u001b[0;31mTypeError\u001b[0m: 'DataLoader' object is not an iterator"
     ]
    }
   ],
   "source": [
    "#!g1.1\n",
    "batch = next(libri_speech_dev_dl)\n",
    "batch[\"audio\"] = batch[\"audio\"].to(device)\n",
    "batch[\"audio_len\"] = batch[\"audio_len\"].to(device)\n",
    "batch[\"audio\"].device"
   ]
  },
  {
   "cell_type": "code",
   "execution_count": 246,
   "id": "a5203543",
   "metadata": {
    "cellId": "as11q2daypkvtbqc3jxazj"
   },
   "outputs": [],
   "source": [
    "#!g1.1\n",
    "from src.conformer import Conformer\n",
    "\n",
    "conformer = Conformer()\n",
    "conformer.to(device);"
   ]
  },
  {
   "cell_type": "code",
   "execution_count": 247,
   "id": "02f095a6",
   "metadata": {
    "cellId": "9scwgryj3acbc2ni71hwvc"
   },
   "outputs": [
    {
     "data": {
      "text/plain": [
       "<All keys matched successfully>"
      ]
     },
     "metadata": {},
     "output_type": "display_data"
    }
   ],
   "source": [
    "#!g1.1\n",
    "weights = torch.load(\"conformer.pt\")\n",
    "conformer.load_state_dict(weights)"
   ]
  },
  {
   "cell_type": "code",
   "execution_count": 248,
   "id": "3cf705e6",
   "metadata": {
    "cellId": "w12nq0mdc77zidjib10zh",
    "execution_id": "4370bdd8-2039-48d8-8409-de601d582c0e"
   },
   "outputs": [
    {
     "ename": "NameError",
     "evalue": "name 'conformer' is not defined",
     "output_type": "error",
     "traceback": [
      "\u001b[0;31m---------------------------------------------------------------------------\u001b[0m",
      "\u001b[0;31mNameError\u001b[0m                                 Traceback (most recent call last)",
      "\u001b[0;32m<ipython-input-1-c8edaf4f51c7>\u001b[0m in \u001b[0;36m<module>\u001b[0;34m\u001b[0m\n\u001b[0;32m----> 1\u001b[0;31m \u001b[0mconformer\u001b[0m\u001b[0;34m.\u001b[0m\u001b[0meval\u001b[0m\u001b[0;34m(\u001b[0m\u001b[0;34m)\u001b[0m\u001b[0;34m\u001b[0m\u001b[0;34m\u001b[0m\u001b[0m\n\u001b[0m\u001b[1;32m      2\u001b[0m \u001b[0mlog_pb\u001b[0m\u001b[0;34m,\u001b[0m \u001b[0menc_len\u001b[0m\u001b[0;34m,\u001b[0m \u001b[0mgp\u001b[0m \u001b[0;34m=\u001b[0m \u001b[0mconformer\u001b[0m\u001b[0;34m(\u001b[0m\u001b[0mbatch\u001b[0m\u001b[0;34m[\u001b[0m\u001b[0;34m\"audio\"\u001b[0m\u001b[0;34m]\u001b[0m\u001b[0;34m,\u001b[0m \u001b[0mbatch\u001b[0m\u001b[0;34m[\u001b[0m\u001b[0;34m\"audio_len\"\u001b[0m\u001b[0;34m]\u001b[0m\u001b[0;34m)\u001b[0m\u001b[0;34m\u001b[0m\u001b[0;34m\u001b[0m\u001b[0m\n\u001b[1;32m      3\u001b[0m \u001b[0mprint\u001b[0m\u001b[0;34m(\u001b[0m\u001b[0mlog_pb\u001b[0m\u001b[0;34m)\u001b[0m\u001b[0;34m\u001b[0m\u001b[0;34m\u001b[0m\u001b[0m\n\u001b[1;32m      4\u001b[0m \u001b[0mprint\u001b[0m\u001b[0;34m(\u001b[0m\u001b[0menc_len\u001b[0m\u001b[0;34m)\u001b[0m\u001b[0;34m\u001b[0m\u001b[0;34m\u001b[0m\u001b[0m\n\u001b[1;32m      5\u001b[0m \u001b[0mprint\u001b[0m\u001b[0;34m(\u001b[0m\u001b[0mgp\u001b[0m\u001b[0;34m)\u001b[0m\u001b[0;34m\u001b[0m\u001b[0;34m\u001b[0m\u001b[0m\n",
      "\u001b[0;31mNameError\u001b[0m: name 'conformer' is not defined"
     ]
    }
   ],
   "source": [
    "#!g1.1\n",
    "conformer.eval()\n",
    "log_pb, enc_len, gp = conformer(batch[\"audio\"], batch[\"audio_len\"])\n",
    "print(log_pb)\n",
    "print(enc_len)\n",
    "print(gp)"
   ]
  },
  {
   "cell_type": "code",
   "execution_count": 172,
   "id": "ffc5a7f6",
   "metadata": {
    "cellId": "j1n54objxuuxcc9ifdu2l"
   },
   "outputs": [
    {
     "data": {
      "text/plain": [
       "'на ггде  же перрвый ззваный гость'"
      ]
     },
     "metadata": {},
     "output_type": "display_data"
    }
   ],
   "source": [
    "#!g1.1\n",
    "sp_tokenizer.decode(gp[1][gp[1] != 128].tolist())"
   ]
  },
  {
   "cell_type": "code",
   "execution_count": 173,
   "id": "5411d533",
   "metadata": {
    "cellId": "xbnr4p7oqvg73o956dzsxo"
   },
   "outputs": [
    {
     "name": "stdout",
     "output_type": "stream",
     "text": [
      "0.5777777777777777\n",
      "45\n",
      "26\n",
      "['дай бог чтоб просвветились мы', 'на где же первый званый гость', 'вот что хочет ссяне зоинька', 'м только лень и непоковство', 'теснимма шведов фрайд заратьюг', 'усоты куда свой танный путь', 'давновней и скорасгоралась', 'вн неемрачный дух неснал покоя']\n",
      "['дай бог чтоб просветились мы', 'но где же первый званый гость', 'вот что хочется мне зоинька', 'в нем только лень и непокорство', 'тесним мы шведов рать за ратью', 'куда свой тайный путь направил', 'давно в ней искра разгоралась', 'в нем мрачный дух не знал покоя']\n"
     ]
    }
   ],
   "source": [
    "#!g1.1\n",
    "from src.metrics import WERMetric\n",
    "\n",
    "metric = WERMetric(128, sp_tokenizer)\n",
    "\n",
    "reference = batch[\"text\"]\n",
    "\n",
    "metric.update(log_pb, enc_len, reference)\n",
    "\n",
    "wer, words, scores = metric.compute()\n",
    "print(wer, words, scores, sep=\"\\n\")\n",
    "print(hypothesis, reference, sep=\"\\n\")"
   ]
  },
  {
   "cell_type": "code",
   "execution_count": 175,
   "id": "b76d229e",
   "metadata": {
    "cellId": "qwh6w6izaeane04ok3wap"
   },
   "outputs": [],
   "source": [
    "#!g1.1\n",
    "a = conformer.loss(torch.transpose(log_pb, 0, 1), batch[\"tokens\"], enc_len, batch[\"tokens_len\"])"
   ]
  },
  {
   "cell_type": "code",
   "execution_count": null,
   "id": "1dfe48e6",
   "metadata": {
    "cellId": "lcso9vyze1r1rk6r4g4cr2"
   },
   "outputs": [],
   "source": [
    "#!g1.1"
   ]
  },
  {
   "cell_type": "code",
   "execution_count": 184,
   "id": "0636e220",
   "metadata": {
    "cellId": "086o86do1s05w0m2f4eulta"
   },
   "outputs": [
    {
     "name": "stderr",
     "output_type": "stream",
     "text": [
      "100%|██████████| 147/147 [00:10<00:00, 14.48it/s]\n",
      "100%|██████████| 6153/6153 [14:45<00:00,  6.95it/s]\n",
      "100%|██████████| 148/148 [00:22<00:00,  6.49it/s]\n"
     ]
    }
   ],
   "source": [
    "#!g1.1\n",
    "from src.train import evaluate\n",
    "\n",
    "wer_res_dev, ctc_res_dev = evaluate(conformer, sp_tokenizer, libri_speech_dev_dl, device)\n",
    "wer_res_train, ctc_res_train = evaluate(conformer, sp_tokenizer, libri_speech_train_dl, device)\n",
    "wer_res_test, ctc_res_test = evaluate(conformer, sp_tokenizer, libri_speech_test_dl, device)"
   ]
  },
  {
   "cell_type": "code",
   "execution_count": 185,
   "id": "ec6a3fd0",
   "metadata": {
    "cellId": "7hxsf1wve79jjxnrfe97sm"
   },
   "outputs": [
    {
     "name": "stdout",
     "output_type": "stream",
     "text": [
      "(0.5690275229357799, 13625, 7753)\n",
      "(0.48950873808021966, 539020, 263855)\n",
      "(0.573453975491593, 14036, 8049)\n"
     ]
    }
   ],
   "source": [
    "#!g1.1\n",
    "print(wer_res_dev, wer_res_train, wer_res_test, sep=\"\\n\")"
   ]
  },
  {
   "cell_type": "code",
   "execution_count": null,
   "id": "e929c7a9",
   "metadata": {
    "cellId": "aycf0w9m44r3m09fqph5lb",
    "execution_id": "80783292-4136-4e45-b609-d57eb8769ebc"
   },
   "outputs": [
    {
     "data": {
      "application/vnd.jupyter.widget-view+json": {
       "model_id": "b676aab2421e4b29a832b2ef23ddec0d",
       "version_major": 2,
       "version_minor": 0
      },
      "text/plain": [
       "HBox(children=(HTML(value=''), FloatProgress(value=0.0, max=10.0), HTML(value='')))"
      ]
     },
     "metadata": {},
     "output_type": "display_data"
    },
    {
     "data": {
      "application/vnd.jupyter.widget-view+json": {
       "model_id": "06e9283f9fad4746a6c8126e25fe4224",
       "version_major": 2,
       "version_minor": 0
      },
      "text/plain": [
       "HBox(children=(HTML(value=''), FloatProgress(value=0.0, max=59.0), HTML(value='')))"
      ]
     },
     "metadata": {},
     "output_type": "display_data"
    }
   ],
   "source": [
    "#!g1.1\n",
    "from src.train import train\n",
    "from src.scheduler import NoamAnnealing\n",
    "\n",
    "optimizer = torch.optim.AdamW(conformer.parameters(), lr=2, weight_decay=1e-3)\n",
    "scheduler = NoamAnnealing(optimizer, d_model=conformer.d_model, warmup_steps=600)\n",
    "\n",
    "train(conformer, sp_tokenizer, None, optimizer, scheduler, 10, libri_speech_dev_dl, validate_dataloaders, device, model_dir=\"model_train\")"
   ]
  }
 ],
 "metadata": {
  "language_info": {
   "codemirror_mode": {
    "name": "ipython",
    "version": 3
   },
   "file_extension": ".py",
   "mimetype": "text/x-python",
   "name": "python",
   "nbconvert_exporter": "python",
   "pygments_lexer": "ipython3",
   "version": "3.7.7"
  },
  "notebookId": "eb70484e-b52c-49dd-8e10-23f8f003c2c9",
  "notebookPath": "Nazarov/conformer/Untitled.ipynb"
 },
 "nbformat": 4,
 "nbformat_minor": 5
}
