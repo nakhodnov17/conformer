{
 "cells": [
  {
   "cell_type": "code",
   "execution_count": 83,
   "id": "cb0b8bc8",
   "metadata": {
    "ExecuteTime": {
     "end_time": "2022-12-15T05:56:58.376896Z",
     "start_time": "2022-12-15T05:56:58.276236Z"
    },
    "cellId": "g1m13ei85hamg0ne70v97k"
   },
   "outputs": [],
   "source": [
    "%config Completer.use_jedi = False\n",
    "%load_ext autoreload\n",
    "%autoreload 2"
   ]
  },
  {
   "cell_type": "code",
   "execution_count": 40,
   "id": "da068da9",
   "metadata": {
    "cellId": "173qq1ecjb4j43jg2nann"
   },
   "outputs": [
    {
     "name": "stdout",
     "output_type": "stream",
     "text": [
      "Merge made by the 'recursive' strategy.\n",
      " Conformer. Audio Preprocessing.ipynb | 51145 +++++++++++++++++++++++++++++++++\n",
      " src/augmentation.py                  |   137 +\n",
      " 2 files changed, 51282 insertions(+)\n",
      " create mode 100644 Conformer. Audio Preprocessing.ipynb\n",
      " create mode 100644 src/augmentation.py\n"
     ]
    },
    {
     "name": "stderr",
     "output_type": "stream",
     "text": [
      "From https://github.com/nakhodnov17/conformer\n",
      " * branch            main       -> FETCH_HEAD\n"
     ]
    }
   ],
   "source": [
    "!git config --global user.email dpsdanilpar@gmail.com\n",
    "!git config --global user.name Unknown030405\n",
    "!git pull origin main"
   ]
  },
  {
   "cell_type": "code",
   "execution_count": 84,
   "id": "c0bfddce",
   "metadata": {
    "ExecuteTime": {
     "end_time": "2022-12-15T05:57:00.239237Z",
     "start_time": "2022-12-15T05:57:00.111558Z"
    },
    "cellId": "0nvwxfaqotmwm47ht2ag"
   },
   "outputs": [
    {
     "data": {
      "text/html": [
       "<style>.container { width:90% !important; }</style>"
      ],
      "text/plain": [
       "<IPython.core.display.HTML object>"
      ]
     },
     "metadata": {},
     "output_type": "display_data"
    }
   ],
   "source": [
    "from IPython.display import display, HTML, Video\n",
    "display(HTML(\"<style>.container { width:90% !important; }</style>\"))"
   ]
  },
  {
   "cell_type": "code",
   "execution_count": 50,
   "id": "a301d967",
   "metadata": {
    "cellId": "lc13yutevv82hcg9xnxrd7"
   },
   "outputs": [
    {
     "name": "stdout",
     "output_type": "stream",
     "text": [
      "Defaulting to user installation because normal site-packages is not writeable\n",
      "Requirement already satisfied: matplotlib_inline in /usr/local/lib/python3.8/dist-packages (0.1.3)\n",
      "Requirement already satisfied: traitlets in /kernel/lib/python3.8/site-packages (from matplotlib_inline) (5.5.0)\n",
      "\u001b[33mWARNING: You are using pip version 21.3.1; however, version 22.3.1 is available.\n",
      "You should consider upgrading via the '/usr/local/bin/python3 -m pip install --upgrade pip' command.\u001b[0m\n"
     ]
    }
   ],
   "source": [
    "%pip install matplotlib_inline"
   ]
  },
  {
   "cell_type": "markdown",
   "id": "25a9ade6",
   "metadata": {
    "cellId": "y7265o92kktb0eeamjv1i"
   },
   "source": [
    "# Load data"
   ]
  },
  {
   "cell_type": "code",
   "execution_count": 85,
   "id": "38114715",
   "metadata": {
    "ExecuteTime": {
     "end_time": "2022-12-15T05:57:10.900782Z",
     "start_time": "2022-12-15T05:57:10.821247Z"
    },
    "cellId": "yrzl1trgvzhuzms358ijxn"
   },
   "outputs": [],
   "source": [
    "import torch\n",
    "import torchaudio\n",
    "from torch.utils.data import Dataset, DataLoader\n",
    "\n",
    "import sentencepiece"
   ]
  },
  {
   "cell_type": "code",
   "execution_count": 86,
   "id": "af75fd9f",
   "metadata": {
    "ExecuteTime": {
     "end_time": "2022-12-15T05:57:18.404387Z",
     "start_time": "2022-12-15T05:57:18.319804Z"
    },
    "cellId": "srv9o8tnutr5fkdu8gtth8"
   },
   "outputs": [],
   "source": [
    "import os\n",
    "import glob\n",
    "import json\n",
    "import regex\n",
    "\n",
    "import tqdm.notebook as tqdm\n",
    "\n",
    "import numpy as np\n",
    "import pandas as pd\n",
    "\n",
    "from ipywidgets import GridBox, Audio, HBox, VBox, Box, Label, Layout\n",
    "\n",
    "import matplotlib.pyplot as plt\n",
    "# import matplotlib_inline\n",
    "\n",
    "# %matplotlib inline\n",
    "# matplotlib_inline.backend_inline.set_matplotlib_formats('svg')"
   ]
  },
  {
   "cell_type": "code",
   "execution_count": 87,
   "id": "24ae4507",
   "metadata": {
    "ExecuteTime": {
     "end_time": "2022-12-15T05:57:20.737904Z",
     "start_time": "2022-12-15T05:57:20.660118Z"
    },
    "cellId": "y7xi69gsnco0t96btngfj"
   },
   "outputs": [],
   "source": [
    "base_path = '/home/jupyter/mnt/datasets'\n",
    "\n",
    "libri_speech_base_path = os.path.join(base_path, 'LibriSpeech_ds')\n",
    "golos_base_path = os.path.join(base_path, 'golos')"
   ]
  },
  {
   "cell_type": "code",
   "execution_count": 88,
   "id": "958d241c",
   "metadata": {
    "ExecuteTime": {
     "end_time": "2022-12-15T05:57:27.014833Z",
     "start_time": "2022-12-15T05:57:26.928989Z"
    },
    "cellId": "u8x8od7znmsl28bzkldj9m"
   },
   "outputs": [],
   "source": [
    "from src.dataset import get_libri_speech_dataset, get_golos_dataset"
   ]
  },
  {
   "cell_type": "code",
   "execution_count": 89,
   "id": "f722428d",
   "metadata": {
    "ExecuteTime": {
     "end_time": "2022-12-15T05:57:28.302872Z",
     "start_time": "2022-12-15T05:57:28.183587Z"
    },
    "cellId": "lpi8oti4s1g6woick61gyf"
   },
   "outputs": [],
   "source": [
    "def sample_dataset(dataset, n=4):\n",
    "    grid = []\n",
    "    for idx in range(n):\n",
    "        grid.append(\n",
    "            VBox([\n",
    "                Label('{0:d}, {1}, {2:.1f}'.format(idx, dataset['text'][idx], dataset['duration'][idx])),\n",
    "                Audio.from_file(dataset['audio_path'][idx], autoplay=False, loop=False),\n",
    "            ])\n",
    "        )\n",
    "    \n",
    "    return HBox([VBox(grid[0::2]), VBox(grid[1::2])])"
   ]
  },
  {
   "cell_type": "code",
   "execution_count": 90,
   "id": "99cadf78",
   "metadata": {
    "ExecuteTime": {
     "end_time": "2022-12-15T05:57:33.203986Z",
     "start_time": "2022-12-15T05:57:29.309426Z"
    },
    "cellId": "10jarwb5sygbk5tkhc7mjv"
   },
   "outputs": [
    {
     "name": "stdout",
     "output_type": "stream",
     "text": [
      "Loaded 1400 objects\n",
      "Loaded 1352 objects\n",
      "Loaded 54472 objects\n"
     ]
    }
   ],
   "source": [
    "libri_speech_dev = get_libri_speech_dataset(libri_speech_base_path, split='dev')\n",
    "libri_speech_test = get_libri_speech_dataset(libri_speech_base_path, split='test')\n",
    "libri_speech_train = get_libri_speech_dataset(libri_speech_base_path, split='train')\n",
    "\n",
    "print('Loaded {0:d} objects'.format(len(libri_speech_dev['audio_path'])))\n",
    "print('Loaded {0:d} objects'.format(len(libri_speech_test['audio_path'])))\n",
    "print('Loaded {0:d} objects'.format(len(libri_speech_train['audio_path'])))"
   ]
  },
  {
   "cell_type": "code",
   "execution_count": null,
   "id": "122488e4",
   "metadata": {
    "ExecuteTime": {
     "end_time": "2022-12-15T05:57:33.479625Z",
     "start_time": "2022-12-15T05:57:33.206376Z"
    },
    "cellId": "p65wyh5csxp9axa16cd5mf"
   },
   "outputs": [],
   "source": [
    "sample_dataset(libri_speech_dev)"
   ]
  },
  {
   "cell_type": "code",
   "execution_count": null,
   "id": "c0a40397",
   "metadata": {
    "ExecuteTime": {
     "end_time": "2022-12-15T05:57:33.701869Z",
     "start_time": "2022-12-15T05:57:33.481835Z"
    },
    "cellId": "m7qtzh3htlht0i6ao1bbij"
   },
   "outputs": [],
   "source": [
    "sample_dataset(libri_speech_test)"
   ]
  },
  {
   "cell_type": "code",
   "execution_count": null,
   "id": "380be5db",
   "metadata": {
    "ExecuteTime": {
     "end_time": "2022-12-15T05:57:33.970652Z",
     "start_time": "2022-12-15T05:57:33.705048Z"
    },
    "cellId": "t5i11mypexbjyavd0a9p29"
   },
   "outputs": [],
   "source": [
    "sample_dataset(libri_speech_train)"
   ]
  },
  {
   "cell_type": "code",
   "execution_count": null,
   "id": "7088be12",
   "metadata": {
    "ExecuteTime": {
     "end_time": "2022-12-15T05:58:02.982333Z",
     "start_time": "2022-12-15T05:57:36.984319Z"
    },
    "cellId": "20pu8dgpp7uhnf0k9rn3x"
   },
   "outputs": [],
   "source": [
    "golos_train = get_golos_dataset(golos_base_path, split='train')\n",
    "golos_test_crowd = get_golos_dataset(golos_base_path, split='test/crowd')\n",
    "golos_test_farfield = get_golos_dataset(golos_base_path, split='test/farfield')\n",
    "\n",
    "print('Loaded {0:d} objects'.format(len(golos_train['audio_path'])))\n",
    "print('Loaded {0:d} objects'.format(len(golos_test_crowd['audio_path'])))\n",
    "print('Loaded {0:d} objects'.format(len(golos_test_farfield['audio_path'])))"
   ]
  },
  {
   "cell_type": "code",
   "execution_count": null,
   "id": "d9ee6358",
   "metadata": {
    "ExecuteTime": {
     "end_time": "2022-12-15T05:58:03.143388Z",
     "start_time": "2022-12-15T05:58:02.985074Z"
    },
    "cellId": "quz0bt0825zfjrcrwe6eg"
   },
   "outputs": [],
   "source": [
    "sample_dataset(golos_train)"
   ]
  },
  {
   "cell_type": "code",
   "execution_count": null,
   "id": "fd1f227b",
   "metadata": {
    "ExecuteTime": {
     "end_time": "2022-12-15T05:58:03.290549Z",
     "start_time": "2022-12-15T05:58:03.145140Z"
    },
    "cellId": "468l1adg3rmvlojcion2k"
   },
   "outputs": [],
   "source": [
    "sample_dataset(golos_test_crowd)"
   ]
  },
  {
   "cell_type": "code",
   "execution_count": null,
   "id": "b1723080",
   "metadata": {
    "ExecuteTime": {
     "end_time": "2022-12-15T05:58:03.497079Z",
     "start_time": "2022-12-15T05:58:03.292790Z"
    },
    "cellId": "4ca7ir3jhqiobro1wjvz6"
   },
   "outputs": [],
   "source": [
    "sample_dataset(golos_test_farfield)"
   ]
  },
  {
   "cell_type": "code",
   "execution_count": 91,
   "id": "25b19a55",
   "metadata": {
    "ExecuteTime": {
     "end_time": "2022-12-15T05:58:03.573068Z",
     "start_time": "2022-12-15T05:58:03.498891Z"
    },
    "cellId": "bfqt5esc4ewav2jg1l441k"
   },
   "outputs": [],
   "source": [
    "train_datasets = {\n",
    "    'libri_speech/train': libri_speech_train, \n",
    "#     'golos/train': golos_train\n",
    "}\n",
    "\n",
    "test_datasets = {\n",
    "#     'golos/test/crowd': golos_test_crowd,\n",
    "#     'golos/test/farfield': golos_test_farfield,\n",
    "    'libri_speech/dev': libri_speech_dev,\n",
    "    'libri_speech/test': libri_speech_test,\n",
    "}"
   ]
  },
  {
   "cell_type": "code",
   "execution_count": 70,
   "id": "820e7139",
   "metadata": {
    "cellId": "5521umy1kej385y8z0z0gp"
   },
   "outputs": [
    {
     "data": {
      "text/html": [
       "<div>\n",
       "<style scoped>\n",
       "    .dataframe tbody tr th:only-of-type {\n",
       "        vertical-align: middle;\n",
       "    }\n",
       "\n",
       "    .dataframe tbody tr th {\n",
       "        vertical-align: top;\n",
       "    }\n",
       "\n",
       "    .dataframe thead th {\n",
       "        text-align: right;\n",
       "    }\n",
       "</style>\n",
       "<table border=\"1\" class=\"dataframe\">\n",
       "  <thead>\n",
       "    <tr style=\"text-align: right;\">\n",
       "      <th></th>\n",
       "      <th>audio_path</th>\n",
       "      <th>text</th>\n",
       "      <th>duration</th>\n",
       "    </tr>\n",
       "  </thead>\n",
       "  <tbody>\n",
       "    <tr>\n",
       "      <th>0</th>\n",
       "      <td>/home/jupyter/mnt/datasets/LibriSpeech_ds/trai...</td>\n",
       "      <td>он сделал это так неловко что задел образок мо...</td>\n",
       "      <td>9.76</td>\n",
       "    </tr>\n",
       "    <tr>\n",
       "      <th>1</th>\n",
       "      <td>/home/jupyter/mnt/datasets/LibriSpeech_ds/trai...</td>\n",
       "      <td>я высунул нос из под одеяла остановил рукою об...</td>\n",
       "      <td>11.30</td>\n",
       "    </tr>\n",
       "    <tr>\n",
       "      <th>2</th>\n",
       "      <td>/home/jupyter/mnt/datasets/LibriSpeech_ds/trai...</td>\n",
       "      <td>он же в пестром ваточном халате подпоясанном п...</td>\n",
       "      <td>16.08</td>\n",
       "    </tr>\n",
       "    <tr>\n",
       "      <th>3</th>\n",
       "      <td>/home/jupyter/mnt/datasets/LibriSpeech_ds/trai...</td>\n",
       "      <td>отчего он не бьет мух около володи ной постели...</td>\n",
       "      <td>4.01</td>\n",
       "    </tr>\n",
       "    <tr>\n",
       "      <th>4</th>\n",
       "      <td>/home/jupyter/mnt/datasets/LibriSpeech_ds/trai...</td>\n",
       "      <td>нет володя старше меня а я меньше всех оттого ...</td>\n",
       "      <td>4.04</td>\n",
       "    </tr>\n",
       "    <tr>\n",
       "      <th>...</th>\n",
       "      <td>...</td>\n",
       "      <td>...</td>\n",
       "      <td>...</td>\n",
       "    </tr>\n",
       "    <tr>\n",
       "      <th>54467</th>\n",
       "      <td>/home/jupyter/mnt/datasets/LibriSpeech_ds/trai...</td>\n",
       "      <td>все персоны захлопали и лорд епископ и городск...</td>\n",
       "      <td>6.46</td>\n",
       "    </tr>\n",
       "    <tr>\n",
       "      <th>54468</th>\n",
       "      <td>/home/jupyter/mnt/datasets/LibriSpeech_ds/trai...</td>\n",
       "      <td>я уже не хочу описывать как мне показывали зав...</td>\n",
       "      <td>5.20</td>\n",
       "    </tr>\n",
       "    <tr>\n",
       "      <th>54469</th>\n",
       "      <td>/home/jupyter/mnt/datasets/LibriSpeech_ds/trai...</td>\n",
       "      <td>достаточно будет одной детали</td>\n",
       "      <td>2.20</td>\n",
       "    </tr>\n",
       "    <tr>\n",
       "      <th>54470</th>\n",
       "      <td>/home/jupyter/mnt/datasets/LibriSpeech_ds/trai...</td>\n",
       "      <td>впереди шел епископ он председательствовал на ...</td>\n",
       "      <td>15.10</td>\n",
       "    </tr>\n",
       "    <tr>\n",
       "      <th>54471</th>\n",
       "      <td>/home/jupyter/mnt/datasets/LibriSpeech_ds/trai...</td>\n",
       "      <td>как только мы показались оркестр заиграл боже ...</td>\n",
       "      <td>12.60</td>\n",
       "    </tr>\n",
       "  </tbody>\n",
       "</table>\n",
       "<p>54472 rows × 3 columns</p>\n",
       "</div>"
      ],
      "text/plain": [
       "                                              audio_path  \\\n",
       "0      /home/jupyter/mnt/datasets/LibriSpeech_ds/trai...   \n",
       "1      /home/jupyter/mnt/datasets/LibriSpeech_ds/trai...   \n",
       "2      /home/jupyter/mnt/datasets/LibriSpeech_ds/trai...   \n",
       "3      /home/jupyter/mnt/datasets/LibriSpeech_ds/trai...   \n",
       "4      /home/jupyter/mnt/datasets/LibriSpeech_ds/trai...   \n",
       "...                                                  ...   \n",
       "54467  /home/jupyter/mnt/datasets/LibriSpeech_ds/trai...   \n",
       "54468  /home/jupyter/mnt/datasets/LibriSpeech_ds/trai...   \n",
       "54469  /home/jupyter/mnt/datasets/LibriSpeech_ds/trai...   \n",
       "54470  /home/jupyter/mnt/datasets/LibriSpeech_ds/trai...   \n",
       "54471  /home/jupyter/mnt/datasets/LibriSpeech_ds/trai...   \n",
       "\n",
       "                                                    text  duration  \n",
       "0      он сделал это так неловко что задел образок мо...      9.76  \n",
       "1      я высунул нос из под одеяла остановил рукою об...     11.30  \n",
       "2      он же в пестром ваточном халате подпоясанном п...     16.08  \n",
       "3      отчего он не бьет мух около володи ной постели...      4.01  \n",
       "4      нет володя старше меня а я меньше всех оттого ...      4.04  \n",
       "...                                                  ...       ...  \n",
       "54467  все персоны захлопали и лорд епископ и городск...      6.46  \n",
       "54468  я уже не хочу описывать как мне показывали зав...      5.20  \n",
       "54469                      достаточно будет одной детали      2.20  \n",
       "54470  впереди шел епископ он председательствовал на ...     15.10  \n",
       "54471  как только мы показались оркестр заиграл боже ...     12.60  \n",
       "\n",
       "[54472 rows x 3 columns]"
      ]
     },
     "execution_count": 70,
     "metadata": {},
     "output_type": "execute_result"
    }
   ],
   "source": [
    "libri_speech_train"
   ]
  },
  {
   "cell_type": "markdown",
   "id": "c243133e",
   "metadata": {
    "cellId": "ixsegrvhqqn5ib2tnanhc5"
   },
   "source": [
    "# Create tokenizer"
   ]
  },
  {
   "cell_type": "code",
   "execution_count": 92,
   "id": "595d0c42",
   "metadata": {
    "ExecuteTime": {
     "end_time": "2022-12-15T05:58:59.640053Z",
     "start_time": "2022-12-15T05:58:58.856457Z"
    },
    "cellId": "0y9gq8y6va9h59bgcmwgn9j"
   },
   "outputs": [],
   "source": [
    "# Save text from all train datasets to file\n",
    "### YOUR CODE HERE\n",
    "with open(\"texts.txt\", \"w\") as file:\n",
    "    for value in train_datasets.values():\n",
    "        for elm in value[\"text\"]:\n",
    "#             print(elm)\n",
    "            file.write(elm + '\\n')"
   ]
  },
  {
   "cell_type": "code",
   "execution_count": 93,
   "id": "1338cae4",
   "metadata": {
    "ExecuteTime": {
     "end_time": "2022-12-15T06:00:53.563417Z",
     "start_time": "2022-12-15T05:59:59.437421Z"
    },
    "cellId": "utp681t7izhvn2vqiixt5"
   },
   "outputs": [
    {
     "name": "stderr",
     "output_type": "stream",
     "text": [
      "sentencepiece_trainer.cc(77) LOG(INFO) Starts training with : \n",
      "trainer_spec {\n",
      "  input: texts.txt\n",
      "  input_format: \n",
      "  model_prefix: tokenizer\n",
      "  model_type: UNIGRAM\n",
      "  vocab_size: 128\n",
      "  self_test_sample_size: 0\n",
      "  character_coverage: 1\n",
      "  input_sentence_size: 0\n",
      "  shuffle_input_sentence: 1\n",
      "  seed_sentencepiece_size: 1000000\n",
      "  shrinking_factor: 0.75\n",
      "  max_sentence_length: 4192\n",
      "  num_threads: 16\n",
      "  num_sub_iterations: 2\n",
      "  max_sentencepiece_length: 16\n",
      "  split_by_unicode_script: 1\n",
      "  split_by_number: 1\n",
      "  split_by_whitespace: 1\n",
      "  split_digits: 0\n",
      "  treat_whitespace_as_suffix: 0\n",
      "  allow_whitespace_only_pieces: 0\n",
      "  required_chars: \n",
      "  byte_fallback: 0\n",
      "  vocabulary_output_piece_score: 1\n",
      "  train_extremely_large_corpus: 0\n",
      "  hard_vocab_limit: 1\n",
      "  use_all_vocab: 0\n",
      "  unk_id: 0\n",
      "  bos_id: -1\n",
      "  eos_id: -1\n",
      "  pad_id: -1\n",
      "  unk_piece: <unk>\n",
      "  bos_piece: <s>\n",
      "  eos_piece: </s>\n",
      "  pad_piece: <pad>\n",
      "  unk_surface:  ⁇ \n",
      "  enable_differential_privacy: 0\n",
      "  differential_privacy_noise_level: 0\n",
      "  differential_privacy_clipping_threshold: 0\n",
      "}\n",
      "normalizer_spec {\n",
      "  name: nmt_nfkc\n",
      "  add_dummy_prefix: 1\n",
      "  remove_extra_whitespaces: 1\n",
      "  escape_whitespaces: 1\n",
      "  normalization_rule_tsv: \n",
      "}\n",
      "denormalizer_spec {}\n",
      "trainer_interface.cc(350) LOG(INFO) SentenceIterator is not specified. Using MultiFileSentenceIterator.\n",
      "trainer_interface.cc(181) LOG(INFO) Loading corpus: texts.txt\n",
      "trainer_interface.cc(406) LOG(INFO) Loaded all 54472 sentences\n",
      "trainer_interface.cc(422) LOG(INFO) Adding meta_piece: <unk>\n",
      "trainer_interface.cc(427) LOG(INFO) Normalizing sentences...\n",
      "trainer_interface.cc(536) LOG(INFO) all chars count=4153328\n",
      "trainer_interface.cc(557) LOG(INFO) Alphabet size=33\n",
      "trainer_interface.cc(558) LOG(INFO) Final character coverage=1\n",
      "trainer_interface.cc(590) LOG(INFO) Done! preprocessed 54472 sentences.\n",
      "unigram_model_trainer.cc(146) LOG(INFO) Making suffix array...\n",
      "unigram_model_trainer.cc(150) LOG(INFO) Extracting frequent sub strings...\n",
      "unigram_model_trainer.cc(201) LOG(INFO) Initialized 208573 seed sentencepieces\n",
      "trainer_interface.cc(596) LOG(INFO) Tokenizing input sentences with whitespace: 54472\n",
      "trainer_interface.cc(607) LOG(INFO) Done! 80526\n",
      "unigram_model_trainer.cc(491) LOG(INFO) Using 80526 sentences for EM training\n",
      "unigram_model_trainer.cc(507) LOG(INFO) EM sub_iter=0 size=58759 obj=11.1926 num_tokens=138043 num_tokens/piece=2.34931\n",
      "unigram_model_trainer.cc(507) LOG(INFO) EM sub_iter=1 size=50150 obj=9.29404 num_tokens=138855 num_tokens/piece=2.76879\n",
      "unigram_model_trainer.cc(507) LOG(INFO) EM sub_iter=0 size=37608 obj=9.30825 num_tokens=148776 num_tokens/piece=3.95597\n",
      "unigram_model_trainer.cc(507) LOG(INFO) EM sub_iter=1 size=37565 obj=9.26242 num_tokens=148825 num_tokens/piece=3.9618\n",
      "unigram_model_trainer.cc(507) LOG(INFO) EM sub_iter=0 size=28171 obj=9.45984 num_tokens=162759 num_tokens/piece=5.77754\n",
      "unigram_model_trainer.cc(507) LOG(INFO) EM sub_iter=1 size=28169 obj=9.40605 num_tokens=162775 num_tokens/piece=5.77852\n",
      "unigram_model_trainer.cc(507) LOG(INFO) EM sub_iter=0 size=21126 obj=9.66199 num_tokens=177815 num_tokens/piece=8.41688\n",
      "unigram_model_trainer.cc(507) LOG(INFO) EM sub_iter=1 size=21126 obj=9.60041 num_tokens=177816 num_tokens/piece=8.41693\n",
      "unigram_model_trainer.cc(507) LOG(INFO) EM sub_iter=0 size=15844 obj=9.89361 num_tokens=194102 num_tokens/piece=12.2508\n",
      "unigram_model_trainer.cc(507) LOG(INFO) EM sub_iter=1 size=15844 obj=9.82975 num_tokens=194075 num_tokens/piece=12.2491\n",
      "unigram_model_trainer.cc(507) LOG(INFO) EM sub_iter=0 size=11883 obj=10.1521 num_tokens=210941 num_tokens/piece=17.7515\n",
      "unigram_model_trainer.cc(507) LOG(INFO) EM sub_iter=1 size=11883 obj=10.0875 num_tokens=210927 num_tokens/piece=17.7503\n",
      "unigram_model_trainer.cc(507) LOG(INFO) EM sub_iter=0 size=8912 obj=10.4415 num_tokens=227800 num_tokens/piece=25.561\n",
      "unigram_model_trainer.cc(507) LOG(INFO) EM sub_iter=1 size=8912 obj=10.3729 num_tokens=227989 num_tokens/piece=25.5822\n",
      "unigram_model_trainer.cc(507) LOG(INFO) EM sub_iter=0 size=6684 obj=10.7509 num_tokens=244613 num_tokens/piece=36.5968\n",
      "unigram_model_trainer.cc(507) LOG(INFO) EM sub_iter=1 size=6684 obj=10.6807 num_tokens=244656 num_tokens/piece=36.6032\n",
      "unigram_model_trainer.cc(507) LOG(INFO) EM sub_iter=0 size=5013 obj=11.075 num_tokens=260353 num_tokens/piece=51.9356\n",
      "unigram_model_trainer.cc(507) LOG(INFO) EM sub_iter=1 size=5013 obj=11.0016 num_tokens=260347 num_tokens/piece=51.9344\n",
      "unigram_model_trainer.cc(507) LOG(INFO) EM sub_iter=0 size=3759 obj=11.4303 num_tokens=277333 num_tokens/piece=73.7784\n",
      "unigram_model_trainer.cc(507) LOG(INFO) EM sub_iter=1 size=3759 obj=11.3537 num_tokens=277359 num_tokens/piece=73.7853\n",
      "unigram_model_trainer.cc(507) LOG(INFO) EM sub_iter=0 size=2819 obj=11.8029 num_tokens=293224 num_tokens/piece=104.017\n",
      "unigram_model_trainer.cc(507) LOG(INFO) EM sub_iter=1 size=2819 obj=11.7209 num_tokens=293256 num_tokens/piece=104.028\n",
      "unigram_model_trainer.cc(507) LOG(INFO) EM sub_iter=0 size=2114 obj=12.1875 num_tokens=309517 num_tokens/piece=146.413\n",
      "unigram_model_trainer.cc(507) LOG(INFO) EM sub_iter=1 size=2114 obj=12.1019 num_tokens=309530 num_tokens/piece=146.419\n",
      "unigram_model_trainer.cc(507) LOG(INFO) EM sub_iter=0 size=1585 obj=12.589 num_tokens=323577 num_tokens/piece=204.15\n",
      "unigram_model_trainer.cc(507) LOG(INFO) EM sub_iter=1 size=1585 obj=12.4973 num_tokens=323608 num_tokens/piece=204.169\n",
      "unigram_model_trainer.cc(507) LOG(INFO) EM sub_iter=0 size=1188 obj=13.0019 num_tokens=340351 num_tokens/piece=286.491\n",
      "unigram_model_trainer.cc(507) LOG(INFO) EM sub_iter=1 size=1188 obj=12.8952 num_tokens=340382 num_tokens/piece=286.517\n",
      "unigram_model_trainer.cc(507) LOG(INFO) EM sub_iter=0 size=891 obj=13.4117 num_tokens=355812 num_tokens/piece=399.34\n",
      "unigram_model_trainer.cc(507) LOG(INFO) EM sub_iter=1 size=891 obj=13.3039 num_tokens=355832 num_tokens/piece=399.363\n",
      "unigram_model_trainer.cc(507) LOG(INFO) EM sub_iter=0 size=668 obj=13.8285 num_tokens=373895 num_tokens/piece=559.723\n",
      "unigram_model_trainer.cc(507) LOG(INFO) EM sub_iter=1 size=668 obj=13.6973 num_tokens=373958 num_tokens/piece=559.817\n",
      "unigram_model_trainer.cc(507) LOG(INFO) EM sub_iter=0 size=501 obj=14.2424 num_tokens=389391 num_tokens/piece=777.228\n",
      "unigram_model_trainer.cc(507) LOG(INFO) EM sub_iter=1 size=501 obj=14.1057 num_tokens=389404 num_tokens/piece=777.253\n",
      "unigram_model_trainer.cc(507) LOG(INFO) EM sub_iter=0 size=375 obj=14.7425 num_tokens=408766 num_tokens/piece=1090.04\n",
      "unigram_model_trainer.cc(507) LOG(INFO) EM sub_iter=1 size=375 obj=14.5588 num_tokens=408777 num_tokens/piece=1090.07\n",
      "unigram_model_trainer.cc(507) LOG(INFO) EM sub_iter=0 size=281 obj=15.1314 num_tokens=427004 num_tokens/piece=1519.59\n",
      "unigram_model_trainer.cc(507) LOG(INFO) EM sub_iter=1 size=281 obj=14.9631 num_tokens=427010 num_tokens/piece=1519.61\n",
      "unigram_model_trainer.cc(507) LOG(INFO) EM sub_iter=0 size=210 obj=15.6867 num_tokens=452420 num_tokens/piece=2154.38\n",
      "unigram_model_trainer.cc(507) LOG(INFO) EM sub_iter=1 size=210 obj=15.484 num_tokens=452425 num_tokens/piece=2154.4\n",
      "unigram_model_trainer.cc(507) LOG(INFO) EM sub_iter=0 size=157 obj=16.1598 num_tokens=479755 num_tokens/piece=3055.76\n",
      "unigram_model_trainer.cc(507) LOG(INFO) EM sub_iter=1 size=157 obj=15.9293 num_tokens=479755 num_tokens/piece=3055.76\n",
      "unigram_model_trainer.cc(507) LOG(INFO) EM sub_iter=0 size=140 obj=16.1811 num_tokens=486523 num_tokens/piece=3475.16\n",
      "unigram_model_trainer.cc(507) LOG(INFO) EM sub_iter=1 size=140 obj=16.0792 num_tokens=487660 num_tokens/piece=3483.29\n",
      "trainer_interface.cc(685) LOG(INFO) Saving model: tokenizer.model\n",
      "trainer_interface.cc(697) LOG(INFO) Saving vocabs: tokenizer.vocab\n"
     ]
    }
   ],
   "source": [
    "# Train sentencepiece tokenizer\n",
    "sentencepiece.SentencePieceTrainer.train(\n",
    "    input='texts.txt', model_prefix='tokenizer', vocab_size=128, model_type='unigram',\n",
    "    bos_id=-1, eos_id=-1, character_coverage=1.0\n",
    ")"
   ]
  },
  {
   "cell_type": "code",
   "execution_count": 94,
   "id": "cc0a60f6",
   "metadata": {
    "ExecuteTime": {
     "end_time": "2022-12-15T06:12:32.240399Z",
     "start_time": "2022-12-15T06:12:32.150484Z"
    },
    "cellId": "syk61jy8q4au45crqi6t4"
   },
   "outputs": [],
   "source": [
    "# Load tokenizer model\n",
    "sp_tokenizer = sentencepiece.SentencePieceProcessor(model_file='tokenizer.model')"
   ]
  },
  {
   "cell_type": "code",
   "execution_count": 95,
   "id": "4bda97f8",
   "metadata": {
    "ExecuteTime": {
     "end_time": "2022-12-15T06:13:09.554131Z",
     "start_time": "2022-12-15T06:13:09.471836Z"
    },
    "cellId": "l0x5j8effcqjnfhsmsm7o"
   },
   "outputs": [
    {
     "data": {
      "text/plain": [
       "[[89, 8, 62, 0, 87, 1, 47, 25, 11, 1, 17, 15, 8, 12, 9]]"
      ]
     },
     "execution_count": 95,
     "metadata": {},
     "output_type": "execute_result"
    }
   ],
   "source": [
    "# Check if it is working\n",
    "sp_tokenizer.encode_as_ids(['привет, как тебя зовут'])"
   ]
  },
  {
   "cell_type": "code",
   "execution_count": 96,
   "id": "18cd6379",
   "metadata": {
    "ExecuteTime": {
     "end_time": "2022-12-15T06:13:16.892358Z",
     "start_time": "2022-12-15T06:13:16.808572Z"
    },
    "cellId": "ra60n7q0idl1vy06ytd2mp"
   },
   "outputs": [
    {
     "name": "stdout",
     "output_type": "stream",
     "text": [
      "[['▁при', 'в', 'ет', ',', '▁как', '▁', 'те', 'б', 'я', '▁', 'з', 'о', 'в', 'у', 'т']]\n"
     ]
    }
   ],
   "source": [
    "print(sp_tokenizer.encode_as_pieces(['привет, как тебя зовут']))"
   ]
  },
  {
   "cell_type": "markdown",
   "id": "2c0a8e1e",
   "metadata": {
    "cellId": "a1djgblzy39uayqd80ep1"
   },
   "source": [
    "# Create Dataset"
   ]
  },
  {
   "cell_type": "code",
   "execution_count": 97,
   "id": "70db228b",
   "metadata": {
    "ExecuteTime": {
     "end_time": "2022-12-15T06:13:25.649253Z",
     "start_time": "2022-12-15T06:13:25.566057Z"
    },
    "cellId": "wcyax9slfx9fe5nfon338"
   },
   "outputs": [],
   "source": [
    "from src.dataset import AudioDataset, collate_fn"
   ]
  },
  {
   "cell_type": "code",
   "execution_count": 98,
   "id": "390dd2e7",
   "metadata": {
    "ExecuteTime": {
     "end_time": "2022-12-15T06:13:40.564508Z",
     "start_time": "2022-12-15T06:13:27.303477Z"
    },
    "cellId": "90v9ykaptas6o6vpmrwq"
   },
   "outputs": [
    {
     "name": "stderr",
     "output_type": "stream",
     "text": [
      "/usr/local/lib/python3.8/dist-packages/pandas/core/computation/expressions.py:190: UserWarning: evaluating in Python space because the '*' operator is not supported by numexpr for the bool dtype, use '&' instead\n",
      "  warnings.warn(\n",
      "/usr/local/lib/python3.8/dist-packages/pandas/core/computation/expressions.py:190: UserWarning: evaluating in Python space because the '*' operator is not supported by numexpr for the bool dtype, use '&' instead\n",
      "  warnings.warn(\n",
      "/usr/local/lib/python3.8/dist-packages/pandas/core/computation/expressions.py:190: UserWarning: evaluating in Python space because the '*' operator is not supported by numexpr for the bool dtype, use '&' instead\n",
      "  warnings.warn(\n",
      "/usr/local/lib/python3.8/dist-packages/pandas/core/computation/expressions.py:190: UserWarning: evaluating in Python space because the '*' operator is not supported by numexpr for the bool dtype, use '&' instead\n",
      "  warnings.warn(\n"
     ]
    }
   ],
   "source": [
    "ds_train = AudioDataset(pd.concat(train_datasets.values()), sp_tokenizer, min_duration=1.36, max_duration=10.96)\n",
    "\n",
    "ds_test_dict = {\n",
    "    name: AudioDataset(dataset, sp_tokenizer, min_duration=1.36, max_duration=10.96)\n",
    "    for name, dataset in test_datasets.items()\n",
    "}\n",
    "ds_train_dict = {\n",
    "    name: AudioDataset(dataset, sp_tokenizer, min_duration=1.36, max_duration=10.96)\n",
    "    for name, dataset in train_datasets.items()\n",
    "}"
   ]
  },
  {
   "cell_type": "code",
   "execution_count": 99,
   "id": "19213628",
   "metadata": {
    "ExecuteTime": {
     "end_time": "2022-12-15T06:13:41.298463Z",
     "start_time": "2022-12-15T06:13:40.566827Z"
    },
    "cellId": "ksn374cuebbsrxtb3cl3"
   },
   "outputs": [
    {
     "data": {
      "text/plain": [
       "('/home/jupyter/mnt/datasets/LibriSpeech_ds/train/audio/8086/11365/shortstories_11_garshin_0260.wav',\n",
       " tensor([-3.0518e-05,  0.0000e+00,  9.1553e-05,  ..., -1.6235e-02,\n",
       "         -2.4017e-02, -3.4882e-02]),\n",
       " 21760,\n",
       " 'быть может еще успею',\n",
       " tensor([ 75,  56,  90,  61,   9,   1,   2, 126,   2,  51,   7,  34,   2,  28]),\n",
       " 14)"
      ]
     },
     "execution_count": 99,
     "metadata": {},
     "output_type": "execute_result"
    }
   ],
   "source": [
    "ds_train[0]"
   ]
  },
  {
   "cell_type": "markdown",
   "id": "9d239c57",
   "metadata": {
    "cellId": "7369i0fiq1f7jsuweud97d"
   },
   "source": [
    "# Create Dataloader"
   ]
  },
  {
   "cell_type": "code",
   "execution_count": 100,
   "id": "fa934ccd",
   "metadata": {
    "ExecuteTime": {
     "end_time": "2022-12-15T06:14:02.761682Z",
     "start_time": "2022-12-15T06:14:02.660777Z"
    },
    "cellId": "cfjeo2kks2i53buxxyj622"
   },
   "outputs": [],
   "source": [
    "batch_size = 8\n",
    "num_workers = 0\n",
    "\n",
    "dl_train = DataLoader(\n",
    "    ds_train, batch_size=batch_size, shuffle=True,\n",
    "    num_workers=num_workers, pin_memory=False, collate_fn=collate_fn\n",
    ")\n",
    "\n",
    "dl_test_dict = {\n",
    "    name: DataLoader(\n",
    "        dataset, batch_size=batch_size, shuffle=False,\n",
    "        num_workers=num_workers, pin_memory=False, collate_fn=collate_fn\n",
    "    )\n",
    "    for name, dataset in ds_test_dict.items()\n",
    "}\n",
    "dl_train_dict = {\n",
    "    name: DataLoader(\n",
    "        dataset, batch_size=batch_size, shuffle=False,\n",
    "        num_workers=num_workers, pin_memory=False, collate_fn=collate_fn\n",
    "    )\n",
    "    for name, dataset in ds_train_dict.items()\n",
    "}"
   ]
  },
  {
   "cell_type": "code",
   "execution_count": null,
   "id": "8964391f",
   "metadata": {
    "ExecuteTime": {
     "end_time": "2022-12-15T06:14:04.015396Z",
     "start_time": "2022-12-15T06:14:03.509360Z"
    },
    "cellId": "3qwgnsk9z49ncckob6i4l"
   },
   "outputs": [],
   "source": [
    "next(iter(dl_train))"
   ]
  }
 ],
 "metadata": {
  "language_info": {
   "codemirror_mode": {
    "name": "ipython",
    "version": 3
   },
   "file_extension": ".py",
   "mimetype": "text/x-python",
   "name": "python",
   "nbconvert_exporter": "python",
   "pygments_lexer": "ipython3",
   "version": "3.7.7"
  },
  "notebookId": "9521e089-6ffb-42fa-8a30-9e3d2cc998b8",
  "notebookPath": "average_enjoyer/conformer/Conformer. Data Loading.ipynb"
 },
 "nbformat": 4,
 "nbformat_minor": 5
}
