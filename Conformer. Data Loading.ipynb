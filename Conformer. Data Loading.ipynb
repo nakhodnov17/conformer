{
 "cells": [
  {
   "cell_type": "code",
   "execution_count": 37,
   "id": "199900ae",
   "metadata": {
    "ExecuteTime": {
     "end_time": "2022-12-15T05:56:58.376896Z",
     "start_time": "2022-12-15T05:56:58.276236Z"
    },
    "cellId": "17gykwfi3dro2posopm038"
   },
   "outputs": [],
   "source": [
    "%config Completer.use_jedi = False\n",
    "%load_ext autoreload\n",
    "%autoreload 2"
   ]
  },
  {
   "cell_type": "code",
   "execution_count": 38,
   "id": "8c9ba47f",
   "metadata": {
    "ExecuteTime": {
     "end_time": "2022-12-15T05:57:00.239237Z",
     "start_time": "2022-12-15T05:57:00.111558Z"
    },
    "cellId": "x8td2xyvacnjwtkctwcdz"
   },
   "outputs": [
    {
     "data": {
      "text/html": [
       "<style>.container { width:90% !important; }</style>"
      ],
      "text/plain": [
       "<IPython.core.display.HTML object>"
      ]
     },
     "metadata": {},
     "output_type": "display_data"
    }
   ],
   "source": [
    "from IPython.display import display, HTML, Video\n",
    "display(HTML(\"<style>.container { width:90% !important; }</style>\"))"
   ]
  },
  {
   "cell_type": "markdown",
   "id": "f68d58d0",
   "metadata": {
    "cellId": "7fbmtjb30gmg0h2065mfuo",
    "execution_id": "f7db8442-a64b-48d0-a4b1-a97984254bc3"
   },
   "source": [
    "# Load data"
   ]
  },
  {
   "cell_type": "code",
   "execution_count": 39,
   "id": "7bbc630e",
   "metadata": {
    "ExecuteTime": {
     "end_time": "2022-12-15T05:57:10.900782Z",
     "start_time": "2022-12-15T05:57:10.821247Z"
    },
    "cellId": "zo527iz79rrfh8iol4fy"
   },
   "outputs": [],
   "source": [
    "import torch\n",
    "import torchaudio\n",
    "from torch.utils.data import Dataset, DataLoader\n",
    "\n",
    "import sentencepiece"
   ]
  },
  {
   "cell_type": "code",
   "execution_count": 40,
   "id": "05fece27",
   "metadata": {
    "ExecuteTime": {
     "end_time": "2022-12-15T05:57:18.404387Z",
     "start_time": "2022-12-15T05:57:18.319804Z"
    },
    "cellId": "c33qtkuv8gfzgryzg2zlf"
   },
   "outputs": [],
   "source": [
    "import os\n",
    "import glob\n",
    "import json\n",
    "import regex\n",
    "\n",
    "import tqdm.notebook as tqdm\n",
    "\n",
    "import numpy as np\n",
    "import pandas as pd\n",
    "\n",
    "from ipywidgets import GridBox, Audio, HBox, VBox, Box, Label, Layout\n",
    "\n",
    "import matplotlib.pyplot as plt\n",
    "import matplotlib_inline\n",
    "\n",
    "%matplotlib inline\n",
    "# matplotlib_inline.backend_inline.set_matplotlib_formats('svg')"
   ]
  },
  {
   "cell_type": "code",
   "execution_count": 41,
   "id": "1556914d",
   "metadata": {
    "ExecuteTime": {
     "end_time": "2022-12-15T05:57:20.737904Z",
     "start_time": "2022-12-15T05:57:20.660118Z"
    },
    "cellId": "nn70tfgk8inefoq2wenq7"
   },
   "outputs": [],
   "source": [
    "base_path = '/home/jupyter/mnt/datasets/'\n",
    "\n",
    "libri_speech_base_path = os.path.join(base_path, 'LibriSpeech_ds')\n",
    "golos_base_path = os.path.join(base_path, 'golos')"
   ]
  },
  {
   "cell_type": "code",
   "execution_count": 42,
   "id": "35cb1c76",
   "metadata": {
    "ExecuteTime": {
     "end_time": "2022-12-15T05:57:27.014833Z",
     "start_time": "2022-12-15T05:57:26.928989Z"
    },
    "cellId": "6nx69yeot8ch7m5jsi29y7"
   },
   "outputs": [],
   "source": [
    "from src.dataset import get_libri_speech_dataset, get_golos_dataset"
   ]
  },
  {
   "cell_type": "code",
   "execution_count": 43,
   "id": "cb670965",
   "metadata": {
    "ExecuteTime": {
     "end_time": "2022-12-15T05:57:28.302872Z",
     "start_time": "2022-12-15T05:57:28.183587Z"
    },
    "cellId": "1o2zp6a64vzw1fjpv7ksb"
   },
   "outputs": [],
   "source": [
    "def sample_dataset(dataset, n=4):\n",
    "    grid = []\n",
    "    for idx in range(n):\n",
    "        grid.append(\n",
    "            VBox([\n",
    "                Label('{0:d}, {1}, {2:.1f}'.format(idx, dataset['text'][idx], dataset['duration'][idx])),\n",
    "                Audio.from_file(dataset['audio_path'][idx], autoplay=False, loop=False),\n",
    "            ])\n",
    "        )\n",
    "    \n",
    "    return HBox([VBox(grid[0::2]), VBox(grid[1::2])])"
   ]
  },
  {
   "cell_type": "code",
   "execution_count": 44,
   "id": "66744227",
   "metadata": {
    "ExecuteTime": {
     "end_time": "2022-12-15T05:57:33.203986Z",
     "start_time": "2022-12-15T05:57:29.309426Z"
    },
    "cellId": "r38sknxem8ar0m781etvf"
   },
   "outputs": [
    {
     "name": "stdout",
     "output_type": "stream",
     "text": [
      "Loaded 1400 objects\n",
      "Loaded 1352 objects\n",
      "Loaded 54472 objects\n"
     ]
    }
   ],
   "source": [
    "libri_speech_dev = get_libri_speech_dataset(libri_speech_base_path, split='dev')\n",
    "libri_speech_test = get_libri_speech_dataset(libri_speech_base_path, split='test')\n",
    "libri_speech_train = get_libri_speech_dataset(libri_speech_base_path, split='train')\n",
    "\n",
    "print('Loaded {0:d} objects'.format(len(libri_speech_dev['audio_path'])))\n",
    "print('Loaded {0:d} objects'.format(len(libri_speech_test['audio_path'])))\n",
    "print('Loaded {0:d} objects'.format(len(libri_speech_train['audio_path'])))"
   ]
  },
  {
   "cell_type": "code",
   "execution_count": 45,
   "id": "9c46d636",
   "metadata": {
    "cellId": "05xr5ddgfwv3kxoi42934a"
   },
   "outputs": [
    {
     "data": {
      "text/html": [
       "<div>\n",
       "<style scoped>\n",
       "    .dataframe tbody tr th:only-of-type {\n",
       "        vertical-align: middle;\n",
       "    }\n",
       "\n",
       "    .dataframe tbody tr th {\n",
       "        vertical-align: top;\n",
       "    }\n",
       "\n",
       "    .dataframe thead th {\n",
       "        text-align: right;\n",
       "    }\n",
       "</style>\n",
       "<table border=\"1\" class=\"dataframe\">\n",
       "  <thead>\n",
       "    <tr style=\"text-align: right;\">\n",
       "      <th></th>\n",
       "      <th>audio_path</th>\n",
       "      <th>text</th>\n",
       "      <th>duration</th>\n",
       "    </tr>\n",
       "  </thead>\n",
       "  <tbody>\n",
       "    <tr>\n",
       "      <th>0</th>\n",
       "      <td>/home/jupyter/mnt/datasets/LibriSpeech_ds/dev/...</td>\n",
       "      <td>воистину еврейки молодой мне дорого душевное с...</td>\n",
       "      <td>4.58</td>\n",
       "    </tr>\n",
       "    <tr>\n",
       "      <th>1</th>\n",
       "      <td>/home/jupyter/mnt/datasets/LibriSpeech_ds/dev/...</td>\n",
       "      <td>приди ко мне прелестный ангел мой и мирное при...</td>\n",
       "      <td>7.80</td>\n",
       "    </tr>\n",
       "    <tr>\n",
       "      <th>2</th>\n",
       "      <td>/home/jupyter/mnt/datasets/LibriSpeech_ds/dev/...</td>\n",
       "      <td>любезных уст улыбкою довольный царю небес и го...</td>\n",
       "      <td>7.18</td>\n",
       "    </tr>\n",
       "    <tr>\n",
       "      <th>3</th>\n",
       "      <td>/home/jupyter/mnt/datasets/LibriSpeech_ds/dev/...</td>\n",
       "      <td>смиренных струн быть может наконец ее пленят ц...</td>\n",
       "      <td>8.00</td>\n",
       "    </tr>\n",
       "    <tr>\n",
       "      <th>4</th>\n",
       "      <td>/home/jupyter/mnt/datasets/LibriSpeech_ds/dev/...</td>\n",
       "      <td>властитель он и мыслей и сердец</td>\n",
       "      <td>2.68</td>\n",
       "    </tr>\n",
       "    <tr>\n",
       "      <th>...</th>\n",
       "      <td>...</td>\n",
       "      <td>...</td>\n",
       "      <td>...</td>\n",
       "    </tr>\n",
       "    <tr>\n",
       "      <th>1395</th>\n",
       "      <td>/home/jupyter/mnt/datasets/LibriSpeech_ds/dev/...</td>\n",
       "      <td>и над тесниной торжествуя как муж на страже в ...</td>\n",
       "      <td>8.90</td>\n",
       "    </tr>\n",
       "    <tr>\n",
       "      <th>1396</th>\n",
       "      <td>/home/jupyter/mnt/datasets/LibriSpeech_ds/dev/...</td>\n",
       "      <td>сатрап смутился изумленный и гнев в нем душу п...</td>\n",
       "      <td>4.94</td>\n",
       "    </tr>\n",
       "    <tr>\n",
       "      <th>1397</th>\n",
       "      <td>/home/jupyter/mnt/datasets/LibriSpeech_ds/dev/...</td>\n",
       "      <td>и свой совет разноплеменный он любопытный вопр...</td>\n",
       "      <td>7.14</td>\n",
       "    </tr>\n",
       "    <tr>\n",
       "      <th>1398</th>\n",
       "      <td>/home/jupyter/mnt/datasets/LibriSpeech_ds/dev/...</td>\n",
       "      <td>и что их сила и кто им вождь и отчего сердца и...</td>\n",
       "      <td>8.40</td>\n",
       "    </tr>\n",
       "    <tr>\n",
       "      <th>1399</th>\n",
       "      <td>/home/jupyter/mnt/datasets/LibriSpeech_ds/dev/...</td>\n",
       "      <td>и встал тогда сынов аммона военачальник ахиор ...</td>\n",
       "      <td>11.48</td>\n",
       "    </tr>\n",
       "  </tbody>\n",
       "</table>\n",
       "<p>1400 rows × 3 columns</p>\n",
       "</div>"
      ],
      "text/plain": [
       "                                             audio_path  \\\n",
       "0     /home/jupyter/mnt/datasets/LibriSpeech_ds/dev/...   \n",
       "1     /home/jupyter/mnt/datasets/LibriSpeech_ds/dev/...   \n",
       "2     /home/jupyter/mnt/datasets/LibriSpeech_ds/dev/...   \n",
       "3     /home/jupyter/mnt/datasets/LibriSpeech_ds/dev/...   \n",
       "4     /home/jupyter/mnt/datasets/LibriSpeech_ds/dev/...   \n",
       "...                                                 ...   \n",
       "1395  /home/jupyter/mnt/datasets/LibriSpeech_ds/dev/...   \n",
       "1396  /home/jupyter/mnt/datasets/LibriSpeech_ds/dev/...   \n",
       "1397  /home/jupyter/mnt/datasets/LibriSpeech_ds/dev/...   \n",
       "1398  /home/jupyter/mnt/datasets/LibriSpeech_ds/dev/...   \n",
       "1399  /home/jupyter/mnt/datasets/LibriSpeech_ds/dev/...   \n",
       "\n",
       "                                                   text  duration  \n",
       "0     воистину еврейки молодой мне дорого душевное с...      4.58  \n",
       "1     приди ко мне прелестный ангел мой и мирное при...      7.80  \n",
       "2     любезных уст улыбкою довольный царю небес и го...      7.18  \n",
       "3     смиренных струн быть может наконец ее пленят ц...      8.00  \n",
       "4                       властитель он и мыслей и сердец      2.68  \n",
       "...                                                 ...       ...  \n",
       "1395  и над тесниной торжествуя как муж на страже в ...      8.90  \n",
       "1396  сатрап смутился изумленный и гнев в нем душу п...      4.94  \n",
       "1397  и свой совет разноплеменный он любопытный вопр...      7.14  \n",
       "1398  и что их сила и кто им вождь и отчего сердца и...      8.40  \n",
       "1399  и встал тогда сынов аммона военачальник ахиор ...     11.48  \n",
       "\n",
       "[1400 rows x 3 columns]"
      ]
     },
     "execution_count": 45,
     "metadata": {},
     "output_type": "execute_result"
    }
   ],
   "source": [
    "libri_speech_dev"
   ]
  },
  {
   "cell_type": "code",
   "execution_count": 46,
   "id": "39764cf2",
   "metadata": {
    "ExecuteTime": {
     "end_time": "2022-12-15T05:57:33.479625Z",
     "start_time": "2022-12-15T05:57:33.206376Z"
    },
    "cellId": "pv5wjzgq08l9kxgqr5hdm"
   },
   "outputs": [
    {
     "data": {
      "application/vnd.jupyter.widget-view+json": {
       "model_id": "2cd3a47a0d32447c91a34b404f55e576",
       "version_major": 2,
       "version_minor": 0
      },
      "text/plain": [
       "HBox(children=(VBox(children=(VBox(children=(Label(value='0, воистину еврейки молодой мне дорого душевное спас…"
      ]
     },
     "metadata": {},
     "output_type": "display_data"
    }
   ],
   "source": [
    "sample_dataset(libri_speech_dev)"
   ]
  },
  {
   "cell_type": "code",
   "execution_count": 47,
   "id": "3d436eb4",
   "metadata": {
    "ExecuteTime": {
     "end_time": "2022-12-15T05:57:33.701869Z",
     "start_time": "2022-12-15T05:57:33.481835Z"
    },
    "cellId": "tpcwxrdwhcdxa14w5uxxq"
   },
   "outputs": [
    {
     "data": {
      "application/vnd.jupyter.widget-view+json": {
       "model_id": "39f82a9ad89b48f4b666a9b2a85f0a2e",
       "version_major": 2,
       "version_minor": 0
      },
      "text/plain": [
       "HBox(children=(VBox(children=(VBox(children=(Label(value='0, для вас души моей царицы красавицы для вас одних …"
      ]
     },
     "metadata": {},
     "output_type": "display_data"
    }
   ],
   "source": [
    "sample_dataset(libri_speech_test)"
   ]
  },
  {
   "cell_type": "code",
   "execution_count": 48,
   "id": "9ce070e7",
   "metadata": {
    "ExecuteTime": {
     "end_time": "2022-12-15T05:57:33.970652Z",
     "start_time": "2022-12-15T05:57:33.705048Z"
    },
    "cellId": "o7ndmokz88t5lfxp7sfmi"
   },
   "outputs": [
    {
     "data": {
      "application/vnd.jupyter.widget-view+json": {
       "model_id": "e94692bf936141d6bc8aa9a7a41c4df3",
       "version_major": 2,
       "version_minor": 0
      },
      "text/plain": [
       "HBox(children=(VBox(children=(VBox(children=(Label(value='0, он сделал это так неловко что задел образок моего…"
      ]
     },
     "metadata": {},
     "output_type": "display_data"
    }
   ],
   "source": [
    "sample_dataset(libri_speech_train)"
   ]
  },
  {
   "cell_type": "code",
   "execution_count": 49,
   "id": "0dcc12f1",
   "metadata": {
    "ExecuteTime": {
     "end_time": "2022-12-15T05:58:02.982333Z",
     "start_time": "2022-12-15T05:57:36.984319Z"
    },
    "cellId": "ri3akjgagpgcuru8mq20e"
   },
   "outputs": [],
   "source": [
    "# golos_train = get_golos_dataset(golos_base_path, split='train')\n",
    "# golos_test_crowd = get_golos_dataset(golos_base_path, split='test/crowd')\n",
    "# golos_test_farfield = get_golos_dataset(golos_base_path, split='test/farfield')\n",
    "\n",
    "# print('Loaded {0:d} objects'.format(len(golos_train['audio_path'])))\n",
    "# print('Loaded {0:d} objects'.format(len(golos_test_crowd['audio_path'])))\n",
    "# print('Loaded {0:d} objects'.format(len(golos_test_farfield['audio_path'])))"
   ]
  },
  {
   "cell_type": "code",
   "execution_count": 50,
   "id": "ac016503",
   "metadata": {
    "ExecuteTime": {
     "end_time": "2022-12-15T05:58:03.143388Z",
     "start_time": "2022-12-15T05:58:02.985074Z"
    },
    "cellId": "hh5vtpaknuyzmo83a8c5b"
   },
   "outputs": [],
   "source": [
    "# sample_dataset(golos_train)"
   ]
  },
  {
   "cell_type": "code",
   "execution_count": 51,
   "id": "bcae71ed",
   "metadata": {
    "ExecuteTime": {
     "end_time": "2022-12-15T05:58:03.290549Z",
     "start_time": "2022-12-15T05:58:03.145140Z"
    },
    "cellId": "3b5khitcssm5hqr7bl1ne"
   },
   "outputs": [],
   "source": [
    "# sample_dataset(golos_test_crowd)"
   ]
  },
  {
   "cell_type": "code",
   "execution_count": 52,
   "id": "ec830206",
   "metadata": {
    "ExecuteTime": {
     "end_time": "2022-12-15T05:58:03.497079Z",
     "start_time": "2022-12-15T05:58:03.292790Z"
    },
    "cellId": "fv2r0beqjlvce2iafpwr"
   },
   "outputs": [],
   "source": [
    "# sample_dataset(golos_test_farfield)"
   ]
  },
  {
   "cell_type": "code",
   "execution_count": 53,
   "id": "af8fe1f4",
   "metadata": {
    "ExecuteTime": {
     "end_time": "2022-12-15T05:58:03.573068Z",
     "start_time": "2022-12-15T05:58:03.498891Z"
    },
    "cellId": "j7oa2j2rgyhmn3i9h06s6"
   },
   "outputs": [],
   "source": [
    "train_datasets = {\n",
    "    'libri_speech/train': libri_speech_train, \n",
    "#     'golos/train': golos_train\n",
    "}\n",
    "\n",
    "test_datasets = {\n",
    "#     'golos/test/crowd': golos_test_crowd,\n",
    "#     'golos/test/farfield': golos_test_farfield,\n",
    "    'libri_speech/dev': libri_speech_dev,\n",
    "    'libri_speech/test': libri_speech_test,\n",
    "}"
   ]
  },
  {
   "cell_type": "markdown",
   "id": "703932d3",
   "metadata": {
    "cellId": "biqukns6uul5yfen2jh7pt",
    "execution_id": "af66d8e6-80f2-4fa3-8c4a-e6b58f85c8fe"
   },
   "source": [
    "# Create tokenizer"
   ]
  },
  {
   "cell_type": "code",
   "execution_count": 54,
   "id": "28afb38b",
   "metadata": {
    "cellId": "xmzpha8k0xx3ve5lpkrtn"
   },
   "outputs": [
    {
     "data": {
      "text/html": [
       "<div>\n",
       "<style scoped>\n",
       "    .dataframe tbody tr th:only-of-type {\n",
       "        vertical-align: middle;\n",
       "    }\n",
       "\n",
       "    .dataframe tbody tr th {\n",
       "        vertical-align: top;\n",
       "    }\n",
       "\n",
       "    .dataframe thead th {\n",
       "        text-align: right;\n",
       "    }\n",
       "</style>\n",
       "<table border=\"1\" class=\"dataframe\">\n",
       "  <thead>\n",
       "    <tr style=\"text-align: right;\">\n",
       "      <th></th>\n",
       "      <th>audio_path</th>\n",
       "      <th>text</th>\n",
       "      <th>duration</th>\n",
       "    </tr>\n",
       "  </thead>\n",
       "  <tbody>\n",
       "    <tr>\n",
       "      <th>0</th>\n",
       "      <td>/home/jupyter/mnt/datasets/LibriSpeech_ds/trai...</td>\n",
       "      <td>он сделал это так неловко что задел образок мо...</td>\n",
       "      <td>9.76</td>\n",
       "    </tr>\n",
       "    <tr>\n",
       "      <th>1</th>\n",
       "      <td>/home/jupyter/mnt/datasets/LibriSpeech_ds/trai...</td>\n",
       "      <td>я высунул нос из под одеяла остановил рукою об...</td>\n",
       "      <td>11.30</td>\n",
       "    </tr>\n",
       "    <tr>\n",
       "      <th>2</th>\n",
       "      <td>/home/jupyter/mnt/datasets/LibriSpeech_ds/trai...</td>\n",
       "      <td>он же в пестром ваточном халате подпоясанном п...</td>\n",
       "      <td>16.08</td>\n",
       "    </tr>\n",
       "    <tr>\n",
       "      <th>3</th>\n",
       "      <td>/home/jupyter/mnt/datasets/LibriSpeech_ds/trai...</td>\n",
       "      <td>отчего он не бьет мух около володи ной постели...</td>\n",
       "      <td>4.01</td>\n",
       "    </tr>\n",
       "    <tr>\n",
       "      <th>4</th>\n",
       "      <td>/home/jupyter/mnt/datasets/LibriSpeech_ds/trai...</td>\n",
       "      <td>нет володя старше меня а я меньше всех оттого ...</td>\n",
       "      <td>4.04</td>\n",
       "    </tr>\n",
       "    <tr>\n",
       "      <th>...</th>\n",
       "      <td>...</td>\n",
       "      <td>...</td>\n",
       "      <td>...</td>\n",
       "    </tr>\n",
       "    <tr>\n",
       "      <th>54467</th>\n",
       "      <td>/home/jupyter/mnt/datasets/LibriSpeech_ds/trai...</td>\n",
       "      <td>все персоны захлопали и лорд епископ и городск...</td>\n",
       "      <td>6.46</td>\n",
       "    </tr>\n",
       "    <tr>\n",
       "      <th>54468</th>\n",
       "      <td>/home/jupyter/mnt/datasets/LibriSpeech_ds/trai...</td>\n",
       "      <td>я уже не хочу описывать как мне показывали зав...</td>\n",
       "      <td>5.20</td>\n",
       "    </tr>\n",
       "    <tr>\n",
       "      <th>54469</th>\n",
       "      <td>/home/jupyter/mnt/datasets/LibriSpeech_ds/trai...</td>\n",
       "      <td>достаточно будет одной детали</td>\n",
       "      <td>2.20</td>\n",
       "    </tr>\n",
       "    <tr>\n",
       "      <th>54470</th>\n",
       "      <td>/home/jupyter/mnt/datasets/LibriSpeech_ds/trai...</td>\n",
       "      <td>впереди шел епископ он председательствовал на ...</td>\n",
       "      <td>15.10</td>\n",
       "    </tr>\n",
       "    <tr>\n",
       "      <th>54471</th>\n",
       "      <td>/home/jupyter/mnt/datasets/LibriSpeech_ds/trai...</td>\n",
       "      <td>как только мы показались оркестр заиграл боже ...</td>\n",
       "      <td>12.60</td>\n",
       "    </tr>\n",
       "  </tbody>\n",
       "</table>\n",
       "<p>54472 rows × 3 columns</p>\n",
       "</div>"
      ],
      "text/plain": [
       "                                              audio_path  \\\n",
       "0      /home/jupyter/mnt/datasets/LibriSpeech_ds/trai...   \n",
       "1      /home/jupyter/mnt/datasets/LibriSpeech_ds/trai...   \n",
       "2      /home/jupyter/mnt/datasets/LibriSpeech_ds/trai...   \n",
       "3      /home/jupyter/mnt/datasets/LibriSpeech_ds/trai...   \n",
       "4      /home/jupyter/mnt/datasets/LibriSpeech_ds/trai...   \n",
       "...                                                  ...   \n",
       "54467  /home/jupyter/mnt/datasets/LibriSpeech_ds/trai...   \n",
       "54468  /home/jupyter/mnt/datasets/LibriSpeech_ds/trai...   \n",
       "54469  /home/jupyter/mnt/datasets/LibriSpeech_ds/trai...   \n",
       "54470  /home/jupyter/mnt/datasets/LibriSpeech_ds/trai...   \n",
       "54471  /home/jupyter/mnt/datasets/LibriSpeech_ds/trai...   \n",
       "\n",
       "                                                    text  duration  \n",
       "0      он сделал это так неловко что задел образок мо...      9.76  \n",
       "1      я высунул нос из под одеяла остановил рукою об...     11.30  \n",
       "2      он же в пестром ваточном халате подпоясанном п...     16.08  \n",
       "3      отчего он не бьет мух около володи ной постели...      4.01  \n",
       "4      нет володя старше меня а я меньше всех оттого ...      4.04  \n",
       "...                                                  ...       ...  \n",
       "54467  все персоны захлопали и лорд епископ и городск...      6.46  \n",
       "54468  я уже не хочу описывать как мне показывали зав...      5.20  \n",
       "54469                      достаточно будет одной детали      2.20  \n",
       "54470  впереди шел епископ он председательствовал на ...     15.10  \n",
       "54471  как только мы показались оркестр заиграл боже ...     12.60  \n",
       "\n",
       "[54472 rows x 3 columns]"
      ]
     },
     "execution_count": 54,
     "metadata": {},
     "output_type": "execute_result"
    }
   ],
   "source": [
    "libri_speech_train"
   ]
  },
  {
   "cell_type": "code",
   "execution_count": 55,
   "id": "d3172998",
   "metadata": {
    "ExecuteTime": {
     "end_time": "2022-12-15T05:58:59.640053Z",
     "start_time": "2022-12-15T05:58:58.856457Z"
    },
    "cellId": "3clfynr1v6ph3dtdkpluzc"
   },
   "outputs": [],
   "source": [
    "# # Save text from all train datasets to file\n",
    "# ### YOUR CODE HERE\n",
    "# with open('texts.txt', 'w', encoding = 'utf-8') as file:    \n",
    "#     for key, value in train_datasets.items():\n",
    "#         for key1, value1 in value.iterrows():\n",
    "#             value1['text']\n",
    "#             print(value1['text'], file = file, sep = '\\n')\n",
    "# ..."
   ]
  },
  {
   "cell_type": "code",
   "execution_count": 56,
   "id": "042eeebf",
   "metadata": {
    "ExecuteTime": {
     "end_time": "2022-12-15T06:00:53.563417Z",
     "start_time": "2022-12-15T05:59:59.437421Z"
    },
    "cellId": "13dtg8gqs49lg6ueyyxb1b"
   },
   "outputs": [],
   "source": [
    "# # Train sentencepiece tokenizer\n",
    "# sentencepiece.SentencePieceTrainer.train(\n",
    "#     input='texts.txt', model_prefix='tokenizer', vocab_size=128, model_type='unigram',\n",
    "#     bos_id=-1, eos_id=-1, character_coverage=1.0\n",
    "# )"
   ]
  },
  {
   "cell_type": "code",
   "execution_count": 57,
   "id": "ed4cbcd6",
   "metadata": {
    "ExecuteTime": {
     "end_time": "2022-12-15T06:12:32.240399Z",
     "start_time": "2022-12-15T06:12:32.150484Z"
    },
    "cellId": "dll6nszhkr8hc72or8lf6w"
   },
   "outputs": [],
   "source": [
    "# Load tokenizer model\n",
    "sp_tokenizer = sentencepiece.SentencePieceProcessor(model_file='tokenizer.model')"
   ]
  },
  {
   "cell_type": "code",
   "execution_count": 58,
   "id": "6d534b85",
   "metadata": {
    "ExecuteTime": {
     "end_time": "2022-12-15T06:13:09.554131Z",
     "start_time": "2022-12-15T06:13:09.471836Z"
    },
    "cellId": "t3yhlgwpe3ywjse6r1vf"
   },
   "outputs": [
    {
     "data": {
      "text/plain": [
       "[[89, 7, 62, 0, 87, 1, 47, 25, 11, 1, 17, 15, 7, 12, 9]]"
      ]
     },
     "execution_count": 58,
     "metadata": {},
     "output_type": "execute_result"
    }
   ],
   "source": [
    "# Check if it is working\n",
    "sp_tokenizer.encode_as_ids(['привет, как тебя зовут'])"
   ]
  },
  {
   "cell_type": "code",
   "execution_count": 59,
   "id": "8d38b733",
   "metadata": {
    "ExecuteTime": {
     "end_time": "2022-12-15T06:13:16.892358Z",
     "start_time": "2022-12-15T06:13:16.808572Z"
    },
    "cellId": "7n4trt1upflr23b9oj3x"
   },
   "outputs": [
    {
     "data": {
      "text/plain": [
       "[['▁при',\n",
       "  'в',\n",
       "  'ет',\n",
       "  ',',\n",
       "  '▁как',\n",
       "  '▁',\n",
       "  'те',\n",
       "  'б',\n",
       "  'я',\n",
       "  '▁',\n",
       "  'з',\n",
       "  'о',\n",
       "  'в',\n",
       "  'у',\n",
       "  'т']]"
      ]
     },
     "execution_count": 59,
     "metadata": {},
     "output_type": "execute_result"
    }
   ],
   "source": [
    "sp_tokenizer.encode_as_pieces(['привет, как тебя зовут'])"
   ]
  },
  {
   "cell_type": "markdown",
   "id": "3e9301ab",
   "metadata": {
    "cellId": "kwjea8ivpqentie8v9s2s",
    "execution_id": "f9800c82-b39d-47d8-a34b-12500bce4830"
   },
   "source": [
    "# Create Dataset"
   ]
  },
  {
   "cell_type": "code",
   "execution_count": 60,
   "id": "def795af",
   "metadata": {
    "ExecuteTime": {
     "end_time": "2022-12-15T06:13:25.649253Z",
     "start_time": "2022-12-15T06:13:25.566057Z"
    },
    "cellId": "7x5ott29ft46y0ls5dc8m4"
   },
   "outputs": [],
   "source": [
    "from src.dataset import AudioDataset, collate_fn"
   ]
  },
  {
   "cell_type": "code",
   "execution_count": 61,
   "id": "f4eb3fdc",
   "metadata": {
    "ExecuteTime": {
     "end_time": "2022-12-15T06:13:40.564508Z",
     "start_time": "2022-12-15T06:13:27.303477Z"
    },
    "cellId": "u2ngbc8i7oa1jvsh16ybqf"
   },
   "outputs": [
    {
     "name": "stderr",
     "output_type": "stream",
     "text": [
      "/usr/local/lib/python3.8/dist-packages/pandas/core/computation/expressions.py:190: UserWarning: evaluating in Python space because the '*' operator is not supported by numexpr for the bool dtype, use '&' instead\n",
      "  warnings.warn(\n",
      "/usr/local/lib/python3.8/dist-packages/pandas/core/computation/expressions.py:190: UserWarning: evaluating in Python space because the '*' operator is not supported by numexpr for the bool dtype, use '&' instead\n",
      "  warnings.warn(\n",
      "/usr/local/lib/python3.8/dist-packages/pandas/core/computation/expressions.py:190: UserWarning: evaluating in Python space because the '*' operator is not supported by numexpr for the bool dtype, use '&' instead\n",
      "  warnings.warn(\n",
      "/usr/local/lib/python3.8/dist-packages/pandas/core/computation/expressions.py:190: UserWarning: evaluating in Python space because the '*' operator is not supported by numexpr for the bool dtype, use '&' instead\n",
      "  warnings.warn(\n"
     ]
    }
   ],
   "source": [
    "ds_train = AudioDataset(pd.concat(train_datasets.values()), sp_tokenizer, min_duration=1.36, max_duration=10.96)\n",
    "\n",
    "ds_test_dict = {\n",
    "    name: AudioDataset(dataset, sp_tokenizer, min_duration=1.36, max_duration=10.96)\n",
    "    for name, dataset in test_datasets.items()\n",
    "}\n",
    "ds_train_dict = {\n",
    "    name: AudioDataset(dataset, sp_tokenizer, min_duration=1.36, max_duration=10.96)\n",
    "    for name, dataset in train_datasets.items()\n",
    "}"
   ]
  },
  {
   "cell_type": "code",
   "execution_count": 62,
   "id": "109329fc",
   "metadata": {
    "ExecuteTime": {
     "end_time": "2022-12-15T06:13:41.298463Z",
     "start_time": "2022-12-15T06:13:40.566827Z"
    },
    "cellId": "bhgeo72irrgv5me7nbqvn"
   },
   "outputs": [
    {
     "data": {
      "text/plain": [
       "('/home/jupyter/mnt/datasets/LibriSpeech_ds/train/audio/8086/11365/shortstories_11_garshin_0260.wav',\n",
       " tensor([-3.0518e-05,  0.0000e+00,  9.1553e-05,  ..., -1.6235e-02,\n",
       "         -2.4017e-02, -3.4882e-02]),\n",
       " 21760,\n",
       " 'быть может еще успею',\n",
       " tensor([ 75,  56,  90,  61,   9,   1,   2, 126,   2,  51,   8,  34,   2,  28]),\n",
       " 14)"
      ]
     },
     "execution_count": 62,
     "metadata": {},
     "output_type": "execute_result"
    }
   ],
   "source": [
    "ds_train[0]"
   ]
  },
  {
   "cell_type": "markdown",
   "id": "98a0086c",
   "metadata": {
    "cellId": "b8rymk2wixtf52m55r5au"
   },
   "source": [
    "# Create Dataloader"
   ]
  },
  {
   "cell_type": "code",
   "execution_count": 65,
   "id": "1b3305a9",
   "metadata": {
    "ExecuteTime": {
     "end_time": "2022-12-15T06:14:02.761682Z",
     "start_time": "2022-12-15T06:14:02.660777Z"
    },
    "cellId": "1u3f8tzj8tirea0vlxkh"
   },
   "outputs": [],
   "source": [
    "batch_size = 8\n",
    "num_workers = 0\n",
    "\n",
    "dl_train = DataLoader(\n",
    "    ds_train, batch_size=batch_size, shuffle=True,\n",
    "    num_workers=num_workers, pin_memory=False, collate_fn=collate_fn\n",
    ")\n",
    "\n",
    "dl_test_dict = {\n",
    "    name: DataLoader(\n",
    "        dataset, batch_size=batch_size, shuffle=False,\n",
    "        num_workers=num_workers, pin_memory=False, collate_fn=collate_fn\n",
    "    )\n",
    "    for name, dataset in ds_test_dict.items()\n",
    "}\n",
    "dl_train_dict = {\n",
    "    name: DataLoader(\n",
    "        dataset, batch_size=batch_size, shuffle=False,\n",
    "        num_workers=num_workers, pin_memory=False, collate_fn=collate_fn\n",
    "    )\n",
    "    for name, dataset in ds_train_dict.items()\n",
    "}"
   ]
  },
  {
   "cell_type": "code",
   "execution_count": 66,
   "id": "57058245",
   "metadata": {
    "ExecuteTime": {
     "end_time": "2022-12-15T06:14:04.015396Z",
     "start_time": "2022-12-15T06:14:03.509360Z"
    },
    "cellId": "4ey2nkc2b0ftchgr3jb36p"
   },
   "outputs": [
    {
     "data": {
      "text/plain": [
       "{'audio_path': ('/home/jupyter/mnt/datasets/LibriSpeech_ds/train/audio/8086/11365/shortstories_18_garshin_0175.wav',\n",
       "  tensor([-0.0075, -0.0183,  0.0360,  ...,  0.0020,  0.0021,  0.0020]),\n",
       "  125120,\n",
       "  'солгал он таким странным голосом что на лице смотревшей ему в глаза дуняши выразилось недоумение',\n",
       "  tensor([103,   5,  35,   3,   5,  68, 117,   6,   4,   1,  39,  24,  20,  55,\n",
       "            4,   1,  29,  38,   8,  15,   4,  66,  33,   1,  27,  59,   2,  10,\n",
       "            4,  15,   9,  40,   7,  95,  13,   1,   2,  91,  18,  92,  30,  17,\n",
       "            3,   1,  94,  20,  11, 119,  96,  24,  17,   6,  38,  71,  21,  86,\n",
       "           12,   4,   2,  22,   2]),\n",
       "  61),\n",
       " 'audio': tensor([[-0.0075, -0.0183,  0.0360,  ...,  0.0000,  0.0000,  0.0000],\n",
       "         [-0.0002, -0.0002, -0.0001,  ...,  0.0000,  0.0000,  0.0000],\n",
       "         [-0.0004,  0.0008, -0.0029,  ...,  0.0003,  0.0003,  0.0007],\n",
       "         ...,\n",
       "         [ 0.0000, -0.0002, -0.0003,  ...,  0.0000,  0.0000,  0.0000],\n",
       "         [ 0.0139,  0.0176,  0.0199,  ...,  0.0000,  0.0000,  0.0000],\n",
       "         [ 0.0002, -0.0016,  0.0040,  ...,  0.0000,  0.0000,  0.0000]]),\n",
       " 'audio_len': tensor([125120, 119520, 166720,  75680,  84160,  31360, 109600,  76000]),\n",
       " 'text': ('/home/jupyter/mnt/datasets/LibriSpeech_ds/train/audio/9014/11018/eugeneonegin_01_pushkin_0119.wav',\n",
       "  tensor([-0.0003, -0.0004, -0.0004,  ...,  0.0014,  0.0017,  0.0029]),\n",
       "  75680,\n",
       "  'красавицы не долго были предмет его привычных дум измены утомить успели',\n",
       "  tensor([ 69,  24,   8,   3,   7,   6,  59,  31,  21,  98,   5,  29,  75,  27,\n",
       "           52,  40,  16,   4,  62, 121,  89,   7,  31,  53,  55,  26,   1,  94,\n",
       "            4,  14,  17,   4,   2,  55,  51,  46,  73,  56,  51,   8,  34,   2,\n",
       "           27]),\n",
       "  43),\n",
       " 'tokens': tensor([[103,   5,  35,   3,   5,  68, 117,   6,   4,   1,  39,  24,  20,  55,\n",
       "            4,   1,  29,  38,   8,  15,   4,  66,  33,   1,  27,  59,   2,  10,\n",
       "            4,  15,   9,  40,   7,  95,  13,   1,   2,  91,  18,  92,  30,  17,\n",
       "            3,   1,  94,  20,  11, 119,  96,  24,  17,   6,  38,  71,  21,  86,\n",
       "           12,   4,   2,  22,   2,   0],\n",
       "         [ 23,  16,  67,   3,   5,  48,  26,   6,  19,   4,  96,  17,  15,  38,\n",
       "           60,  20,  55,  13,  18,   6,  54, 126,   6,  13,   1, 107,  34,   6,\n",
       "           86,  20,  18,   2,  71,  18,  52,  11,   9,  57,  26,  23,  27,  20,\n",
       "           11,   7, 119,  13,  33,   9,  11,  35,   6, 125,   1,  39,  40,   5,\n",
       "           12,  18,  23,  39,   2,  58],\n",
       "         [  1,   3,  69,  33,   4,  63,  95,   5,  68,  18,   1,  24,  25,  64,\n",
       "            2,   4,   1,  17,  24,  41,   2,  14, 117,  14, 123,  82,   9,  21,\n",
       "           14,   4,   2,  11,  92,  49,  92,  30,   7,  31,  89,  41,  38,  22,\n",
       "           56,  80,  52,  62,  77,  25,  12,  32,  35,   3,  98,   1,  45,   4,\n",
       "           81,   9,  72,   0,   0,   0],\n",
       "         [ 69,  24,   8,   3,   7,   6,  59,  31,  21,  98,   5,  29,  75,  27,\n",
       "           52,  40,  16,   4,  62, 121,  89,   7,  31,  53,  55,  26,   1,  94,\n",
       "            4,  14,  17,   4,   2,  55,  51,  46,  73,  56,  51,   8,  34,   2,\n",
       "           27,   0,   0,   0,   0,   0,   0,   0,   0,   0,   0,   0,   0,   0,\n",
       "            0,   0,   0,   0,   0,   0],\n",
       "         [ 99,   9,  52,   2,  40,  25,  64,  28,   9,  14,  26,  63,   7,   9,\n",
       "           24,  14,  14,  17,  93,  13,   1, 108,  54, 102,   1,  59,  31,  35,\n",
       "            3,  20,  23,  38,   7,   6,  57,  23,  13,  49,   9,  23,   1,  73,\n",
       "           84,   0,   0,   0,   0,   0,   0,   0,   0,   0,   0,   0,   0,   0,\n",
       "            0,   0,   0,   0,   0,   0],\n",
       "         [  1,   9,  12,   9,  75,  27,  18,   6,  41,   2,  20,  56,   2,   7,\n",
       "           14, 122,  32, 113,   6, 110,  45,   0,   0,   0,   0,   0,   0,   0,\n",
       "            0,   0,   0,   0,   0,   0,   0,   0,   0,   0,   0,   0,   0,   0,\n",
       "            0,   0,   0,   0,   0,   0,   0,   0,   0,   0,   0,   0,   0,   0,\n",
       "            0,   0,   0,   0,   0,   0],\n",
       "         [  1,  97,  65,   9,  90,  95,  20,  22,  41,   1,  40,  70,  56,  18,\n",
       "            1,  53,  12, 100,  26,  10,   2,  20,  11,  26,   1,  76, 117,  18,\n",
       "            6,  16,  19,   1,  26,   4,   2,   5,   2,  20,   1,   2, 126,   2,\n",
       "            1,   5,  12,  53,  95,   0,   0,   0,   0,   0,   0,   0,   0,   0,\n",
       "            0,   0,   0,   0,   0,   0],\n",
       "         [  1,  39,  24,  44,  19,  67,   2,  49,  18,  92,  30,  17,   3,  18,\n",
       "           17,  35, 112,  76,  56,  18,  17,  86,  32,   1,   3,  20,  46,  20,\n",
       "            0,   0,   0,   0,   0,   0,   0,   0,   0,   0,   0,   0,   0,   0,\n",
       "            0,   0,   0,   0,   0,   0,   0,   0,   0,   0,   0,   0,   0,   0,\n",
       "            0,   0,   0,   0,   0,   0]]),\n",
       " 'tokens_len': tensor([61, 62, 59, 43, 43, 21, 47, 28])}"
      ]
     },
     "execution_count": 66,
     "metadata": {},
     "output_type": "execute_result"
    }
   ],
   "source": [
    "next(iter(dl_train))"
   ]
  },
  {
   "cell_type": "code",
   "execution_count": null,
   "id": "608cbe64",
   "metadata": {
    "cellId": "esv61cm5oh3pzd1j4s1st"
   },
   "outputs": [],
   "source": []
  }
 ],
 "metadata": {
  "language_info": {
   "codemirror_mode": {
    "name": "ipython",
    "version": 3
   },
   "file_extension": ".py",
   "mimetype": "text/x-python",
   "name": "python",
   "nbconvert_exporter": "python",
   "pygments_lexer": "ipython3",
   "version": "3.7.7"
  },
  "notebookId": "7dc0eddb-8d67-420f-8364-2732c9144b87",
  "notebookPath": "shadambl/conformer/Conformer. Data Loading.ipynb"
 },
 "nbformat": 4,
 "nbformat_minor": 5
}
