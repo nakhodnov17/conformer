{
 "cells": [
  {
   "cell_type": "code",
   "execution_count": 3,
   "id": "00876ea5",
   "metadata": {
    "ExecuteTime": {
     "end_time": "2022-12-15T05:56:58.376896Z",
     "start_time": "2022-12-15T05:56:58.276236Z"
    }
   },
   "outputs": [],
   "source": [
    "%config Completer.use_jedi = False\n",
    "%load_ext autoreload\n",
    "%autoreload 2"
   ]
  },
  {
   "cell_type": "code",
   "execution_count": 4,
   "id": "31e7ae5f",
   "metadata": {
    "ExecuteTime": {
     "end_time": "2022-12-15T05:57:00.239237Z",
     "start_time": "2022-12-15T05:57:00.111558Z"
    }
   },
   "outputs": [
    {
     "data": {
      "text/html": [
       "<style>.container { width:90% !important; }</style>"
      ],
      "text/plain": [
       "<IPython.core.display.HTML object>"
      ]
     },
     "metadata": {},
     "output_type": "display_data"
    }
   ],
   "source": [
    "from IPython.display import display, HTML, Video\n",
    "display(HTML(\"<style>.container { width:90% !important; }</style>\"))"
   ]
  },
  {
   "cell_type": "markdown",
   "id": "da3f8f48",
   "metadata": {},
   "source": [
    "# Load data"
   ]
  },
  {
   "cell_type": "code",
   "execution_count": 5,
   "id": "e48a16cb",
   "metadata": {
    "ExecuteTime": {
     "end_time": "2022-12-15T05:57:10.900782Z",
     "start_time": "2022-12-15T05:57:10.821247Z"
    }
   },
   "outputs": [],
   "source": [
    "import torch\n",
    "import torchaudio\n",
    "from torch.utils.data import Dataset, DataLoader\n",
    "\n",
    "import sentencepiece"
   ]
  },
  {
   "cell_type": "code",
   "execution_count": 6,
   "id": "a86e4de5",
   "metadata": {
    "ExecuteTime": {
     "end_time": "2022-12-15T05:57:18.404387Z",
     "start_time": "2022-12-15T05:57:18.319804Z"
    }
   },
   "outputs": [],
   "source": [
    "import os\n",
    "import glob\n",
    "import json\n",
    "import regex\n",
    "\n",
    "import tqdm.notebook as tqdm\n",
    "\n",
    "import numpy as np\n",
    "import pandas as pd\n",
    "\n",
    "from ipywidgets import GridBox, Audio, HBox, VBox, Box, Label, Layout\n",
    "\n",
    "import matplotlib.pyplot as plt\n",
    "import matplotlib_inline\n",
    "\n",
    "%matplotlib inline\n",
    "matplotlib_inline.backend_inline.set_matplotlib_formats('svg')"
   ]
  },
  {
   "cell_type": "code",
   "execution_count": 7,
   "id": "4cbecc0e",
   "metadata": {
    "ExecuteTime": {
     "end_time": "2022-12-15T05:57:20.737904Z",
     "start_time": "2022-12-15T05:57:20.660118Z"
    }
   },
   "outputs": [],
   "source": [
    "base_path = './dataset/'\n",
    "\n",
    "libri_speech_base_path = os.path.join(base_path, 'LibriSpeech/ruls_data')\n",
    "golos_base_path = os.path.join(base_path, 'golos')"
   ]
  },
  {
   "cell_type": "code",
   "execution_count": 8,
   "id": "2518c1ae",
   "metadata": {
    "ExecuteTime": {
     "end_time": "2022-12-15T05:57:27.014833Z",
     "start_time": "2022-12-15T05:57:26.928989Z"
    }
   },
   "outputs": [],
   "source": [
    "from src.dataset import get_libri_speech_dataset, get_golos_dataset"
   ]
  },
  {
   "cell_type": "code",
   "execution_count": 9,
   "id": "37001e01",
   "metadata": {
    "ExecuteTime": {
     "end_time": "2022-12-15T05:57:28.302872Z",
     "start_time": "2022-12-15T05:57:28.183587Z"
    }
   },
   "outputs": [],
   "source": [
    "def sample_dataset(dataset, n=4):\n",
    "    grid = []\n",
    "    for idx in range(n):\n",
    "        grid.append(\n",
    "            VBox([\n",
    "                Label('{0:d}, {1}, {2:.1f}'.format(idx, dataset['text'][idx], dataset['duration'][idx])),\n",
    "                Audio.from_file(dataset['audio_path'][idx], autoplay=False, loop=False),\n",
    "            ])\n",
    "        )\n",
    "    \n",
    "    return HBox([VBox(grid[0::2]), VBox(grid[1::2])])"
   ]
  },
  {
   "cell_type": "code",
   "execution_count": 10,
   "id": "e63ff610",
   "metadata": {
    "ExecuteTime": {
     "end_time": "2022-12-15T05:57:33.203986Z",
     "start_time": "2022-12-15T05:57:29.309426Z"
    }
   },
   "outputs": [
    {
     "name": "stdout",
     "output_type": "stream",
     "text": [
      "Loaded 1400 objects\n",
      "Loaded 1352 objects\n",
      "Loaded 54472 objects\n"
     ]
    }
   ],
   "source": [
    "libri_speech_dev = get_libri_speech_dataset(libri_speech_base_path, split='dev')\n",
    "libri_speech_test = get_libri_speech_dataset(libri_speech_base_path, split='test')\n",
    "libri_speech_train = get_libri_speech_dataset(libri_speech_base_path, split='train')\n",
    "\n",
    "print('Loaded {0:d} objects'.format(len(libri_speech_dev['audio_path'])))\n",
    "print('Loaded {0:d} objects'.format(len(libri_speech_test['audio_path'])))\n",
    "print('Loaded {0:d} objects'.format(len(libri_speech_train['audio_path'])))"
   ]
  },
  {
   "cell_type": "code",
   "execution_count": 11,
   "id": "52277c1d",
   "metadata": {
    "ExecuteTime": {
     "end_time": "2022-12-15T05:57:33.479625Z",
     "start_time": "2022-12-15T05:57:33.206376Z"
    }
   },
   "outputs": [
    {
     "data": {
      "application/vnd.jupyter.widget-view+json": {
       "model_id": "608a290d064e4026b85ebc1791192a73",
       "version_major": 2,
       "version_minor": 0
      },
      "text/plain": [
       "HBox(children=(VBox(children=(VBox(children=(Label(value='0, воистину еврейки молодой мне дорого душевное спас…"
      ]
     },
     "execution_count": 11,
     "metadata": {},
     "output_type": "execute_result"
    }
   ],
   "source": [
    "sample_dataset(libri_speech_dev)"
   ]
  },
  {
   "cell_type": "code",
   "execution_count": 12,
   "id": "15700884",
   "metadata": {
    "ExecuteTime": {
     "end_time": "2022-12-15T05:57:33.701869Z",
     "start_time": "2022-12-15T05:57:33.481835Z"
    }
   },
   "outputs": [
    {
     "data": {
      "application/vnd.jupyter.widget-view+json": {
       "model_id": "e818847968e04fe2b58c24db530af575",
       "version_major": 2,
       "version_minor": 0
      },
      "text/plain": [
       "HBox(children=(VBox(children=(VBox(children=(Label(value='0, для вас души моей царицы красавицы для вас одних …"
      ]
     },
     "execution_count": 12,
     "metadata": {},
     "output_type": "execute_result"
    }
   ],
   "source": [
    "sample_dataset(libri_speech_test)"
   ]
  },
  {
   "cell_type": "code",
   "execution_count": 13,
   "id": "2d9ae6ba",
   "metadata": {
    "ExecuteTime": {
     "end_time": "2022-12-15T05:57:33.970652Z",
     "start_time": "2022-12-15T05:57:33.705048Z"
    }
   },
   "outputs": [
    {
     "data": {
      "application/vnd.jupyter.widget-view+json": {
       "model_id": "7031cf3d5d3d488aa3fc7cce981bf782",
       "version_major": 2,
       "version_minor": 0
      },
      "text/plain": [
       "HBox(children=(VBox(children=(VBox(children=(Label(value='0, он сделал это так неловко что задел образок моего…"
      ]
     },
     "execution_count": 13,
     "metadata": {},
     "output_type": "execute_result"
    }
   ],
   "source": [
    "sample_dataset(libri_speech_train)"
   ]
  },
  {
   "cell_type": "code",
   "execution_count": 14,
   "id": "c6f679b3",
   "metadata": {
    "ExecuteTime": {
     "end_time": "2022-12-15T05:58:02.982333Z",
     "start_time": "2022-12-15T05:57:36.984319Z"
    }
   },
   "outputs": [
    {
     "name": "stdout",
     "output_type": "stream",
     "text": [
      "Loaded 1103799 objects\n",
      "Loaded 9994 objects\n",
      "Loaded 1916 objects\n"
     ]
    }
   ],
   "source": [
    "golos_train = get_golos_dataset(golos_base_path, split='train')\n",
    "golos_test_crowd = get_golos_dataset(golos_base_path, split='test/crowd')\n",
    "golos_test_farfield = get_golos_dataset(golos_base_path, split='test/farfield')\n",
    "\n",
    "print('Loaded {0:d} objects'.format(len(golos_train['audio_path'])))\n",
    "print('Loaded {0:d} objects'.format(len(golos_test_crowd['audio_path'])))\n",
    "print('Loaded {0:d} objects'.format(len(golos_test_farfield['audio_path'])))"
   ]
  },
  {
   "cell_type": "code",
   "execution_count": 15,
   "id": "0dafc886",
   "metadata": {
    "ExecuteTime": {
     "end_time": "2022-12-15T05:58:03.143388Z",
     "start_time": "2022-12-15T05:58:02.985074Z"
    }
   },
   "outputs": [
    {
     "data": {
      "application/vnd.jupyter.widget-view+json": {
       "model_id": "2056286390174cf8b695ebeea34c445d",
       "version_major": 2,
       "version_minor": 0
      },
      "text/plain": [
       "HBox(children=(VBox(children=(VBox(children=(Label(value='0, алиби, 1.2'), Audio(value=b'RIFFd\\x97\\x00\\x00WAVE…"
      ]
     },
     "execution_count": 15,
     "metadata": {},
     "output_type": "execute_result"
    }
   ],
   "source": [
    "sample_dataset(golos_train)"
   ]
  },
  {
   "cell_type": "code",
   "execution_count": 16,
   "id": "eeab5225",
   "metadata": {
    "ExecuteTime": {
     "end_time": "2022-12-15T05:58:03.290549Z",
     "start_time": "2022-12-15T05:58:03.145140Z"
    }
   },
   "outputs": [
    {
     "data": {
      "application/vnd.jupyter.widget-view+json": {
       "model_id": "8b04fb46734242bcb728da1c32d7ee91",
       "version_major": 2,
       "version_minor": 0
      },
      "text/plain": [
       "HBox(children=(VBox(children=(VBox(children=(Label(value='0, афина воспроизведи музыку вперемешку, 4.9'), Audi…"
      ]
     },
     "execution_count": 16,
     "metadata": {},
     "output_type": "execute_result"
    }
   ],
   "source": [
    "sample_dataset(golos_test_crowd)"
   ]
  },
  {
   "cell_type": "code",
   "execution_count": 17,
   "id": "43b4fa06",
   "metadata": {
    "ExecuteTime": {
     "end_time": "2022-12-15T05:58:03.497079Z",
     "start_time": "2022-12-15T05:58:03.292790Z"
    }
   },
   "outputs": [
    {
     "data": {
      "application/vnd.jupyter.widget-view+json": {
       "model_id": "b5d0a9be7f8a4c7eae5b4cf586c9c984",
       "version_major": 2,
       "version_minor": 0
      },
      "text/plain": [
       "HBox(children=(VBox(children=(VBox(children=(Label(value='0, джой хватит, 1.7'), Audio(value=b'RIFFZ\\xa8\\x01\\x…"
      ]
     },
     "execution_count": 17,
     "metadata": {},
     "output_type": "execute_result"
    }
   ],
   "source": [
    "sample_dataset(golos_test_farfield)"
   ]
  },
  {
   "cell_type": "code",
   "execution_count": 18,
   "id": "ebc823eb",
   "metadata": {
    "ExecuteTime": {
     "end_time": "2022-12-15T05:58:03.573068Z",
     "start_time": "2022-12-15T05:58:03.498891Z"
    }
   },
   "outputs": [],
   "source": [
    "train_datasets = {\n",
    "    'libri_speech/train': libri_speech_train, \n",
    "    'golos/train': golos_train\n",
    "}\n",
    "\n",
    "test_datasets = {\n",
    "    'golos/test/crowd': golos_test_crowd,\n",
    "    'golos/test/farfield': golos_test_farfield,\n",
    "    'libri_speech/dev': libri_speech_dev,\n",
    "    'libri_speech/test': libri_speech_test,\n",
    "}"
   ]
  },
  {
   "cell_type": "markdown",
   "id": "147edb0c",
   "metadata": {},
   "source": [
    "# Create tokenizer"
   ]
  },
  {
   "cell_type": "code",
   "execution_count": 19,
   "id": "3ecc3c93",
   "metadata": {
    "ExecuteTime": {
     "end_time": "2022-12-15T05:58:59.640053Z",
     "start_time": "2022-12-15T05:58:58.856457Z"
    }
   },
   "outputs": [],
   "source": [
    "# Save text from all train datasets to file\n",
    "### YOUR CODE HERE\n",
    "..."
   ]
  },
  {
   "cell_type": "code",
   "execution_count": 20,
   "id": "ae6da04f",
   "metadata": {
    "ExecuteTime": {
     "end_time": "2022-12-15T06:00:53.563417Z",
     "start_time": "2022-12-15T05:59:59.437421Z"
    }
   },
   "outputs": [
    {
     "name": "stderr",
     "output_type": "stream",
     "text": [
      "sentencepiece_trainer.cc(77) LOG(INFO) Starts training with : \n",
      "trainer_spec {\n",
      "  input: texts.txt\n",
      "  input_format: \n",
      "  model_prefix: tokenizer\n",
      "  model_type: UNIGRAM\n",
      "  vocab_size: 128\n",
      "  self_test_sample_size: 0\n",
      "  character_coverage: 1\n",
      "  input_sentence_size: 0\n",
      "  shuffle_input_sentence: 1\n",
      "  seed_sentencepiece_size: 1000000\n",
      "  shrinking_factor: 0.75\n",
      "  max_sentence_length: 4192\n",
      "  num_threads: 16\n",
      "  num_sub_iterations: 2\n",
      "  max_sentencepiece_length: 16\n",
      "  split_by_unicode_script: 1\n",
      "  split_by_number: 1\n",
      "  split_by_whitespace: 1\n",
      "  split_digits: 0\n",
      "  treat_whitespace_as_suffix: 0\n",
      "  allow_whitespace_only_pieces: 0\n",
      "  required_chars: \n",
      "  byte_fallback: 0\n",
      "  vocabulary_output_piece_score: 1\n",
      "  train_extremely_large_corpus: 0\n",
      "  hard_vocab_limit: 1\n",
      "  use_all_vocab: 0\n",
      "  unk_id: 0\n",
      "  bos_id: -1\n",
      "  eos_id: -1\n",
      "  pad_id: -1\n",
      "  unk_piece: <unk>\n",
      "  bos_piece: <s>\n",
      "  eos_piece: </s>\n",
      "  pad_piece: <pad>\n",
      "  unk_surface:  ⁇ \n",
      "  enable_differential_privacy: 0\n",
      "  differential_privacy_noise_level: 0\n",
      "  differential_privacy_clipping_threshold: 0\n",
      "}\n",
      "normalizer_spec {\n",
      "  name: nmt_nfkc\n",
      "  add_dummy_prefix: 1\n",
      "  remove_extra_whitespaces: 1\n",
      "  escape_whitespaces: 1\n",
      "  normalization_rule_tsv: \n",
      "}\n",
      "denormalizer_spec {}\n",
      "trainer_interface.cc(350) LOG(INFO) SentenceIterator is not specified. Using MultiFileSentenceIterator.\n",
      "trainer_interface.cc(181) LOG(INFO) Loading corpus: texts.txt\n",
      "trainer_interface.cc(143) LOG(INFO) Loaded 1000000 lines\n",
      "trainer_interface.cc(120) LOG(WARNING) Too many sentences are loaded! (1148489), which may slow down training.\n",
      "trainer_interface.cc(122) LOG(WARNING) Consider using --input_sentence_size=<size> and --shuffle_input_sentence=true.\n",
      "trainer_interface.cc(125) LOG(WARNING) They allow to randomly sample <size> sentences from the entire corpus.\n",
      "trainer_interface.cc(406) LOG(INFO) Loaded all 1148489 sentences\n",
      "trainer_interface.cc(422) LOG(INFO) Adding meta_piece: <unk>\n",
      "trainer_interface.cc(427) LOG(INFO) Normalizing sentences...\n",
      "trainer_interface.cc(536) LOG(INFO) all chars count=41592113\n",
      "trainer_interface.cc(557) LOG(INFO) Alphabet size=33\n",
      "trainer_interface.cc(558) LOG(INFO) Final character coverage=1\n",
      "trainer_interface.cc(590) LOG(INFO) Done! preprocessed 1148489 sentences.\n",
      "unigram_model_trainer.cc(146) LOG(INFO) Making suffix array...\n",
      "unigram_model_trainer.cc(150) LOG(INFO) Extracting frequent sub strings...\n",
      "unigram_model_trainer.cc(201) LOG(INFO) Initialized 489873 seed sentencepieces\n",
      "trainer_interface.cc(596) LOG(INFO) Tokenizing input sentences with whitespace: 1148489\n",
      "trainer_interface.cc(607) LOG(INFO) Done! 200739\n",
      "unigram_model_trainer.cc(491) LOG(INFO) Using 200739 sentences for EM training\n",
      "unigram_model_trainer.cc(507) LOG(INFO) EM sub_iter=0 size=149245 obj=10.6949 num_tokens=337803 num_tokens/piece=2.26341\n",
      "unigram_model_trainer.cc(507) LOG(INFO) EM sub_iter=1 size=123877 obj=8.58975 num_tokens=337717 num_tokens/piece=2.72623\n",
      "unigram_model_trainer.cc(507) LOG(INFO) EM sub_iter=0 size=92899 obj=8.56289 num_tokens=360372 num_tokens/piece=3.87918\n",
      "unigram_model_trainer.cc(507) LOG(INFO) EM sub_iter=1 size=92853 obj=8.54722 num_tokens=360778 num_tokens/piece=3.88547\n",
      "unigram_model_trainer.cc(507) LOG(INFO) EM sub_iter=0 size=69638 obj=8.61677 num_tokens=394687 num_tokens/piece=5.6677\n",
      "unigram_model_trainer.cc(507) LOG(INFO) EM sub_iter=1 size=69637 obj=8.5997 num_tokens=394687 num_tokens/piece=5.66778\n",
      "unigram_model_trainer.cc(507) LOG(INFO) EM sub_iter=0 size=52227 obj=8.69964 num_tokens=429380 num_tokens/piece=8.22142\n",
      "unigram_model_trainer.cc(507) LOG(INFO) EM sub_iter=1 size=52227 obj=8.67818 num_tokens=429328 num_tokens/piece=8.22042\n",
      "unigram_model_trainer.cc(507) LOG(INFO) EM sub_iter=0 size=39170 obj=8.80653 num_tokens=464510 num_tokens/piece=11.8588\n",
      "unigram_model_trainer.cc(507) LOG(INFO) EM sub_iter=1 size=39170 obj=8.78108 num_tokens=464446 num_tokens/piece=11.8572\n",
      "unigram_model_trainer.cc(507) LOG(INFO) EM sub_iter=0 size=29377 obj=8.9386 num_tokens=497870 num_tokens/piece=16.9476\n",
      "unigram_model_trainer.cc(507) LOG(INFO) EM sub_iter=1 size=29377 obj=8.90884 num_tokens=497812 num_tokens/piece=16.9456\n",
      "unigram_model_trainer.cc(507) LOG(INFO) EM sub_iter=0 size=22032 obj=9.09411 num_tokens=531686 num_tokens/piece=24.1324\n",
      "unigram_model_trainer.cc(507) LOG(INFO) EM sub_iter=1 size=22032 obj=9.05988 num_tokens=531687 num_tokens/piece=24.1325\n",
      "unigram_model_trainer.cc(507) LOG(INFO) EM sub_iter=0 size=16524 obj=9.27788 num_tokens=564707 num_tokens/piece=34.175\n",
      "unigram_model_trainer.cc(507) LOG(INFO) EM sub_iter=1 size=16524 obj=9.23884 num_tokens=564702 num_tokens/piece=34.1747\n",
      "unigram_model_trainer.cc(507) LOG(INFO) EM sub_iter=0 size=12393 obj=9.48705 num_tokens=595854 num_tokens/piece=48.0799\n",
      "unigram_model_trainer.cc(507) LOG(INFO) EM sub_iter=1 size=12393 obj=9.44251 num_tokens=595837 num_tokens/piece=48.0785\n",
      "unigram_model_trainer.cc(507) LOG(INFO) EM sub_iter=0 size=9294 obj=9.72108 num_tokens=628390 num_tokens/piece=67.6124\n",
      "unigram_model_trainer.cc(507) LOG(INFO) EM sub_iter=1 size=9294 obj=9.67073 num_tokens=628422 num_tokens/piece=67.6159\n",
      "unigram_model_trainer.cc(507) LOG(INFO) EM sub_iter=0 size=6970 obj=9.97531 num_tokens=659050 num_tokens/piece=94.5552\n",
      "unigram_model_trainer.cc(507) LOG(INFO) EM sub_iter=1 size=6970 obj=9.91915 num_tokens=659161 num_tokens/piece=94.5712\n",
      "unigram_model_trainer.cc(507) LOG(INFO) EM sub_iter=0 size=5227 obj=10.2571 num_tokens=691712 num_tokens/piece=132.334\n",
      "unigram_model_trainer.cc(507) LOG(INFO) EM sub_iter=1 size=5227 obj=10.1944 num_tokens=691820 num_tokens/piece=132.355\n",
      "unigram_model_trainer.cc(507) LOG(INFO) EM sub_iter=0 size=3920 obj=10.5639 num_tokens=725342 num_tokens/piece=185.036\n",
      "unigram_model_trainer.cc(507) LOG(INFO) EM sub_iter=1 size=3920 obj=10.4935 num_tokens=725440 num_tokens/piece=185.061\n",
      "unigram_model_trainer.cc(507) LOG(INFO) EM sub_iter=0 size=2940 obj=10.8941 num_tokens=759978 num_tokens/piece=258.496\n",
      "unigram_model_trainer.cc(507) LOG(INFO) EM sub_iter=1 size=2940 obj=10.8117 num_tokens=760075 num_tokens/piece=258.529\n",
      "unigram_model_trainer.cc(507) LOG(INFO) EM sub_iter=0 size=2205 obj=11.2417 num_tokens=795730 num_tokens/piece=360.875\n",
      "unigram_model_trainer.cc(507) LOG(INFO) EM sub_iter=1 size=2205 obj=11.1546 num_tokens=796047 num_tokens/piece=361.019\n",
      "unigram_model_trainer.cc(507) LOG(INFO) EM sub_iter=0 size=1653 obj=11.6258 num_tokens=832204 num_tokens/piece=503.451\n",
      "unigram_model_trainer.cc(507) LOG(INFO) EM sub_iter=1 size=1653 obj=11.5253 num_tokens=832201 num_tokens/piece=503.449\n",
      "unigram_model_trainer.cc(507) LOG(INFO) EM sub_iter=0 size=1239 obj=12.0288 num_tokens=866334 num_tokens/piece=699.22\n",
      "unigram_model_trainer.cc(507) LOG(INFO) EM sub_iter=1 size=1239 obj=11.9231 num_tokens=866467 num_tokens/piece=699.328\n",
      "unigram_model_trainer.cc(507) LOG(INFO) EM sub_iter=0 size=929 obj=12.4808 num_tokens=907753 num_tokens/piece=977.129\n",
      "unigram_model_trainer.cc(507) LOG(INFO) EM sub_iter=1 size=929 obj=12.35 num_tokens=907838 num_tokens/piece=977.221\n",
      "unigram_model_trainer.cc(507) LOG(INFO) EM sub_iter=0 size=696 obj=13.0008 num_tokens=951633 num_tokens/piece=1367.29\n",
      "unigram_model_trainer.cc(507) LOG(INFO) EM sub_iter=1 size=696 obj=12.854 num_tokens=951661 num_tokens/piece=1367.33\n",
      "unigram_model_trainer.cc(507) LOG(INFO) EM sub_iter=0 size=522 obj=13.5392 num_tokens=997371 num_tokens/piece=1910.67\n",
      "unigram_model_trainer.cc(507) LOG(INFO) EM sub_iter=1 size=522 obj=13.3755 num_tokens=997373 num_tokens/piece=1910.68\n",
      "unigram_model_trainer.cc(507) LOG(INFO) EM sub_iter=0 size=391 obj=14.1951 num_tokens=1044472 num_tokens/piece=2671.28\n",
      "unigram_model_trainer.cc(507) LOG(INFO) EM sub_iter=1 size=391 obj=14.0114 num_tokens=1044471 num_tokens/piece=2671.28\n",
      "unigram_model_trainer.cc(507) LOG(INFO) EM sub_iter=0 size=293 obj=14.8914 num_tokens=1105300 num_tokens/piece=3772.35\n",
      "unigram_model_trainer.cc(507) LOG(INFO) EM sub_iter=1 size=293 obj=14.6486 num_tokens=1105300 num_tokens/piece=3772.35\n",
      "unigram_model_trainer.cc(507) LOG(INFO) EM sub_iter=0 size=219 obj=15.586 num_tokens=1195989 num_tokens/piece=5461.14\n",
      "unigram_model_trainer.cc(507) LOG(INFO) EM sub_iter=1 size=219 obj=15.2714 num_tokens=1195991 num_tokens/piece=5461.15\n",
      "unigram_model_trainer.cc(507) LOG(INFO) EM sub_iter=0 size=164 obj=16.1654 num_tokens=1285843 num_tokens/piece=7840.51\n",
      "unigram_model_trainer.cc(507) LOG(INFO) EM sub_iter=1 size=164 obj=15.8785 num_tokens=1285843 num_tokens/piece=7840.51\n",
      "unigram_model_trainer.cc(507) LOG(INFO) EM sub_iter=0 size=140 obj=16.4133 num_tokens=1326178 num_tokens/piece=9472.7\n",
      "unigram_model_trainer.cc(507) LOG(INFO) EM sub_iter=1 size=140 obj=16.24 num_tokens=1326178 num_tokens/piece=9472.7\n",
      "trainer_interface.cc(685) LOG(INFO) Saving model: tokenizer.model\n",
      "trainer_interface.cc(697) LOG(INFO) Saving vocabs: tokenizer.vocab\n"
     ]
    }
   ],
   "source": [
    "# Train sentencepiece tokenizer\n",
    "sentencepiece.SentencePieceTrainer.train(\n",
    "    input='texts.txt', model_prefix='tokenizer', vocab_size=128, model_type='unigram',\n",
    "    bos_id=-1, eos_id=-1, character_coverage=1.0\n",
    ")"
   ]
  },
  {
   "cell_type": "code",
   "execution_count": 22,
   "id": "1b90e9b7",
   "metadata": {
    "ExecuteTime": {
     "end_time": "2022-12-15T06:12:32.240399Z",
     "start_time": "2022-12-15T06:12:32.150484Z"
    }
   },
   "outputs": [],
   "source": [
    "# Load tokenizer model\n",
    "sp_tokenizer = sentencepiece.SentencePieceProcessor(model_file='tokenizer.model')"
   ]
  },
  {
   "cell_type": "code",
   "execution_count": 27,
   "id": "9a2652d0",
   "metadata": {
    "ExecuteTime": {
     "end_time": "2022-12-15T06:13:09.554131Z",
     "start_time": "2022-12-15T06:13:09.471836Z"
    }
   },
   "outputs": [
    {
     "data": {
      "text/plain": [
       "[[34, 56, 58, 8, 0, 78, 90, 1, 21, 68, 10, 8]]"
      ]
     },
     "execution_count": 27,
     "metadata": {},
     "output_type": "execute_result"
    }
   ],
   "source": [
    "# Check if it is working\n",
    "sp_tokenizer.encode_as_ids(['привет, как тебя зовут'])"
   ]
  },
  {
   "cell_type": "code",
   "execution_count": 28,
   "id": "b83c6a0a",
   "metadata": {
    "ExecuteTime": {
     "end_time": "2022-12-15T06:13:16.892358Z",
     "start_time": "2022-12-15T06:13:16.808572Z"
    }
   },
   "outputs": [
    {
     "data": {
      "text/plain": [
       "[['▁п', 'ри', 'ве', 'т', ',', '▁как', '▁тебя', '▁', 'з', 'ов', 'у', 'т']]"
      ]
     },
     "execution_count": 28,
     "metadata": {},
     "output_type": "execute_result"
    }
   ],
   "source": [
    "sp_tokenizer.encode_as_pieces(['привет, как тебя зовут'])"
   ]
  },
  {
   "cell_type": "markdown",
   "id": "76d179f3",
   "metadata": {},
   "source": [
    "# Create Dataset"
   ]
  },
  {
   "cell_type": "code",
   "execution_count": 29,
   "id": "c53d5ab2",
   "metadata": {
    "ExecuteTime": {
     "end_time": "2022-12-15T06:13:25.649253Z",
     "start_time": "2022-12-15T06:13:25.566057Z"
    }
   },
   "outputs": [],
   "source": [
    "from src.dataset import AudioDataset, collate_fn"
   ]
  },
  {
   "cell_type": "code",
   "execution_count": 30,
   "id": "e4421de7",
   "metadata": {
    "ExecuteTime": {
     "end_time": "2022-12-15T06:13:40.564508Z",
     "start_time": "2022-12-15T06:13:27.303477Z"
    }
   },
   "outputs": [],
   "source": [
    "ds_train = AudioDataset(pd.concat(train_datasets.values()), sp_tokenizer, min_duration=1.36, max_duration=10.96)\n",
    "\n",
    "ds_test_dict = {\n",
    "    name: AudioDataset(dataset, sp_tokenizer, min_duration=1.36, max_duration=10.96)\n",
    "    for name, dataset in test_datasets.items()\n",
    "}\n",
    "ds_train_dict = {\n",
    "    name: AudioDataset(dataset, sp_tokenizer, min_duration=1.36, max_duration=10.96)\n",
    "    for name, dataset in train_datasets.items()\n",
    "}"
   ]
  },
  {
   "cell_type": "code",
   "execution_count": 31,
   "id": "8e55b650",
   "metadata": {
    "ExecuteTime": {
     "end_time": "2022-12-15T06:13:41.298463Z",
     "start_time": "2022-12-15T06:13:40.566827Z"
    }
   },
   "outputs": [
    {
     "data": {
      "text/plain": [
       "('./dataset/golos/train/crowd/9/458139fb831999abeb2b69254d4480ea.wav',\n",
       " tensor([ 0.0000e+00,  0.0000e+00,  3.0518e-05,  ...,  2.1362e-04,\n",
       "         -7.3242e-04, -8.5449e-04]),\n",
       " 21760,\n",
       " 'глобус фото',\n",
       " tensor([77, 67, 22, 10,  5,  1, 63,  6, 40]),\n",
       " 9)"
      ]
     },
     "execution_count": 31,
     "metadata": {},
     "output_type": "execute_result"
    }
   ],
   "source": [
    "ds_train[0]"
   ]
  },
  {
   "cell_type": "markdown",
   "id": "c577f785",
   "metadata": {},
   "source": [
    "# Create Dataloader"
   ]
  },
  {
   "cell_type": "code",
   "execution_count": 35,
   "id": "634bf782",
   "metadata": {
    "ExecuteTime": {
     "end_time": "2022-12-15T06:14:02.761682Z",
     "start_time": "2022-12-15T06:14:02.660777Z"
    }
   },
   "outputs": [],
   "source": [
    "batch_size = 8\n",
    "num_workers = 0\n",
    "\n",
    "dl_train = DataLoader(\n",
    "    ds_train, batch_size=batch_size, shuffle=True,\n",
    "    num_workers=num_workers, pin_memory=False, collate_fn=collate_fn\n",
    ")\n",
    "\n",
    "dl_test_dict = {\n",
    "    name: DataLoader(\n",
    "        dataset, batch_size=batch_size, shuffle=False,\n",
    "        num_workers=num_workers, pin_memory=False, collate_fn=collate_fn\n",
    "    )\n",
    "    for name, dataset in ds_test_dict.items()\n",
    "}\n",
    "dl_train_dict = {\n",
    "    name: DataLoader(\n",
    "        dataset, batch_size=batch_size, shuffle=False,\n",
    "        num_workers=num_workers, pin_memory=False, collate_fn=collate_fn\n",
    "    )\n",
    "    for name, dataset in ds_train_dict.items()\n",
    "}"
   ]
  },
  {
   "cell_type": "code",
   "execution_count": 36,
   "id": "d15b4446",
   "metadata": {
    "ExecuteTime": {
     "end_time": "2022-12-15T06:14:04.015396Z",
     "start_time": "2022-12-15T06:14:03.509360Z"
    }
   },
   "outputs": [
    {
     "data": {
      "text/plain": [
       "{'audio_path': ('./dataset/LibriSpeech/ruls_data/train/audio/8169/14105/obyknovennayaistoriya_08_goncharov_0136.wav',\n",
       "  './dataset/golos/train/crowd/4/b880489e1465a3172b757c8d2b45fd31.wav',\n",
       "  './dataset/golos/train/crowd/1/505ccf5cd724d5ae290ec27e8b5c6f63.wav',\n",
       "  './dataset/golos/train/farfield/175c04c29b26272231f82570a64aba83.wav',\n",
       "  './dataset/golos/train/crowd/3/470cc640ad5f32a5f2c3bba137996fef.wav',\n",
       "  './dataset/golos/train/crowd/7/62a1af671ce1cc629fe217e925f22df1.wav',\n",
       "  './dataset/golos/train/crowd/0/380dabd87c705a935a9ef14e44587c05.wav',\n",
       "  './dataset/golos/train/crowd/8/c8dfdd33c23841cd3725983250409f37.wav'),\n",
       " 'audio': tensor([[-0.0246, -0.0266, -0.0275,  ..., -0.0005, -0.0002,  0.0002],\n",
       "         [ 0.0005,  0.0005,  0.0004,  ...,  0.0000,  0.0000,  0.0000],\n",
       "         [ 0.0000,  0.0000,  0.0000,  ...,  0.0000,  0.0000,  0.0000],\n",
       "         ...,\n",
       "         [ 0.0000,  0.0000,  0.0000,  ...,  0.0000,  0.0000,  0.0000],\n",
       "         [ 0.0005,  0.0008,  0.0009,  ...,  0.0000,  0.0000,  0.0000],\n",
       "         [ 0.0000,  0.0000,  0.0000,  ...,  0.0000,  0.0000,  0.0000]]),\n",
       " 'audio_len': tensor([153280,  32384,  82471,  68996,  56320,  31573,  49152,  52160]),\n",
       " 'text': ('он должен обозревать покойным и светлым взглядом жизнь и людей вообще иначе выразит только свое я до которого никому нет дела',\n",
       "  'новые игры манчестер юнайтед',\n",
       "  'у тебя в загашнике есть сериальчик нулевой канал',\n",
       "  'денежная валюта которая используется в стране руанда',\n",
       "  'полный привод покажи',\n",
       "  'джой включи рок',\n",
       "  'игра челси манчестер сити',\n",
       "  'володиной'),\n",
       " 'tokens': tensor([[ 49,   7,  26,   6,  16,  27,   2,   7,  49,  22,   6,  21,  45,  46,\n",
       "           31,  38,  55,  12,  71,   9,  57,  17,  58,   8,  16,  20,   9,  18,\n",
       "           21,  29,  16,  14,  13,   6,   9,   1,  27,   4,  21,   7,  42,  57,\n",
       "            1,  87,  50,  12,  18,   6,   6,  22,  91,   2,  57,  32,  19,   2,\n",
       "           18,  20,  28,  21,   4,   8,   1,  40,  47,  55,  17,  73,   2,   1,\n",
       "           14,  26,   6,  81,  40,  43,  60,   1,  41,  55,   9,  10,  86,   8,\n",
       "           26,   2,  51],\n",
       "         [  1,   7,  68,  20,   2,  57,  29,  11,  20, 126,   1,  52,  32,  12,\n",
       "           54,  13,   0,   0,   0,   0,   0,   0,   0,   0,   0,   0,   0,   0,\n",
       "            0,   0,   0,   0,   0,   0,   0,   0,   0,   0,   0,   0,   0,   0,\n",
       "            0,   0,   0,   0,   0,   0,   0,   0,   0,   0,   0,   0,   0,   0,\n",
       "            0,   0,   0,   0,   0,   0,   0,   0,   0,   0,   0,   0,   0,   0,\n",
       "            0,   0,   0,   0,   0,   0,   0,   0,   0,   0,   0,   0,   0,   0,\n",
       "            0,   0,   0],\n",
       "         [ 66,  90,  18,  64,  29,   3,  33,  41,  15,   2,  99, 103,  42,  19,\n",
       "            4,  15,   1,   7,  10,  44,  73,  12, 112,   0,   0,   0,   0,   0,\n",
       "            0,   0,   0,   0,   0,   0,   0,   0,   0,   0,   0,   0,   0,   0,\n",
       "            0,   0,   0,   0,   0,   0,   0,   0,   0,   0,   0,   0,   0,   0,\n",
       "            0,   0,   0,   0,   0,   0,   0,   0,   0,   0,   0,   0,   0,   0,\n",
       "            0,   0,   0,   0,   0,   0,   0,   0,   0,   0,   0,   0,   0,   0,\n",
       "            0,   0,   0],\n",
       "         [ 26,   2,   7,   2,  27,  32,  14,  18,   3,  87,  65,  81,  40,  28,\n",
       "           14,  57,   5,  24,   6,  47,  21,  10,   2,   8,  69,  18,  17,   8,\n",
       "           28,   7,   2,   1,  75,   3,   7,  13,   3,   0,   0,   0,   0,   0,\n",
       "            0,   0,   0,   0,   0,   0,   0,   0,   0,   0,   0,   0,   0,   0,\n",
       "            0,   0,   0,   0,   0,   0,   0,   0,   0,   0,   0,   0,   0,   0,\n",
       "            0,   0,   0,   0,   0,   0,   0,   0,   0,   0,   0,   0,   0,   0,\n",
       "            0,   0,   0],\n",
       "         [ 38,  16,  71,  12,  34,  56,  73,  13, 108,   0,   0,   0,   0,   0,\n",
       "            0,   0,   0,   0,   0,   0,   0,   0,   0,   0,   0,   0,   0,   0,\n",
       "            0,   0,   0,   0,   0,   0,   0,   0,   0,   0,   0,   0,   0,   0,\n",
       "            0,   0,   0,   0,   0,   0,   0,   0,   0,   0,   0,   0,   0,   0,\n",
       "            0,   0,   0,   0,   0,   0,   0,   0,   0,   0,   0,   0,   0,   0,\n",
       "            0,   0,   0,   0,   0,   0,   0,   0,   0,   0,   0,   0,   0,   0,\n",
       "            0,   0,   0],\n",
       "         [ 97,  74,   1,  43,  15,   0,   0,   0,   0,   0,   0,   0,   0,   0,\n",
       "            0,   0,   0,   0,   0,   0,   0,   0,   0,   0,   0,   0,   0,   0,\n",
       "            0,   0,   0,   0,   0,   0,   0,   0,   0,   0,   0,   0,   0,   0,\n",
       "            0,   0,   0,   0,   0,   0,   0,   0,   0,   0,   0,   0,   0,   0,\n",
       "            0,   0,   0,   0,   0,   0,   0,   0,   0,   0,   0,   0,   0,   0,\n",
       "            0,   0,   0,   0,   0,   0,   0,   0,   0,   0,   0,   0,   0,   0,\n",
       "            0,   0,   0],\n",
       "         [ 57,  29,  28,   1,  19,   2,  16,   5,   4, 126,  17,   4,  59,   0,\n",
       "            0,   0,   0,   0,   0,   0,   0,   0,   0,   0,   0,   0,   0,   0,\n",
       "            0,   0,   0,   0,   0,   0,   0,   0,   0,   0,   0,   0,   0,   0,\n",
       "            0,   0,   0,   0,   0,   0,   0,   0,   0,   0,   0,   0,   0,   0,\n",
       "            0,   0,   0,   0,   0,   0,   0,   0,   0,   0,   0,   0,   0,   0,\n",
       "            0,   0,   0,   0,   0,   0,   0,   0,   0,   0,   0,   0,   0,   0,\n",
       "            0,   0,   0],\n",
       "         [ 18,   6,  67,  80,  35,  12,   0,   0,   0,   0,   0,   0,   0,   0,\n",
       "            0,   0,   0,   0,   0,   0,   0,   0,   0,   0,   0,   0,   0,   0,\n",
       "            0,   0,   0,   0,   0,   0,   0,   0,   0,   0,   0,   0,   0,   0,\n",
       "            0,   0,   0,   0,   0,   0,   0,   0,   0,   0,   0,   0,   0,   0,\n",
       "            0,   0,   0,   0,   0,   0,   0,   0,   0,   0,   0,   0,   0,   0,\n",
       "            0,   0,   0,   0,   0,   0,   0,   0,   0,   0,   0,   0,   0,   0,\n",
       "            0,   0,   0]]),\n",
       " 'tokens_len': tensor([87, 16, 23, 37,  9,  5, 13,  6])}"
      ]
     },
     "execution_count": 36,
     "metadata": {},
     "output_type": "execute_result"
    }
   ],
   "source": [
    "next(iter(dl_train))"
   ]
  }
 ],
 "metadata": {
  "kernelspec": {
   "display_name": "Python 3 (ipykernel)",
   "language": "python",
   "name": "python3"
  },
  "language_info": {
   "codemirror_mode": {
    "name": "ipython",
    "version": 3
   },
   "file_extension": ".py",
   "mimetype": "text/x-python",
   "name": "python",
   "nbconvert_exporter": "python",
   "pygments_lexer": "ipython3",
   "version": "3.9.12"
  }
 },
 "nbformat": 4,
 "nbformat_minor": 5
}
