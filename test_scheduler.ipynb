{
 "cells": [
  {
   "cell_type": "code",
   "execution_count": 36,
   "id": "ce62d89d",
   "metadata": {
    "cellId": "ylhoefoi691ebzs5f4wbp"
   },
   "outputs": [],
   "source": [
    "import torch\n",
    "import matplotlib.pyplot as plt\n",
    "\n",
    "a = torch.tensor([1, 2, 3])\n",
    "optimizer = torch.optim.Adam([a], betas=(0.9, 0.98), eps=1e-9, lr=2)"
   ]
  },
  {
   "cell_type": "code",
   "execution_count": 37,
   "id": "4dad4072",
   "metadata": {
    "cellId": "9jbiz2kcsuf0sh29h0ki85d"
   },
   "outputs": [],
   "source": [
    "from src.scheduler import NoamAnnealing\n",
    "\n",
    "na = NoamAnnealing(optimizer=optimizer, d_model=512, warmup_steps=4000, min_lr=0.0003)"
   ]
  },
  {
   "cell_type": "code",
   "execution_count": 38,
   "id": "8b271dbf",
   "metadata": {
    "cellId": "yfmrex7t7dxoos4umxdui"
   },
   "outputs": [
    {
     "name": "stderr",
     "output_type": "stream",
     "text": [
      "/usr/local/lib/python3.8/dist-packages/torch/optim/lr_scheduler.py:129: UserWarning: Detected call of `lr_scheduler.step()` before `optimizer.step()`. In PyTorch 1.1.0 and later, you should call them in the opposite order: `optimizer.step()` before `lr_scheduler.step()`.  Failure to do this will result in PyTorch skipping the first value of the learning rate schedule. See more details at https://pytorch.org/docs/stable/optim.html#how-to-adjust-learning-rate\n",
      "  warnings.warn(\"Detected call of `lr_scheduler.step()` before `optimizer.step()`. \"\n"
     ]
    }
   ],
   "source": [
    "l = []\n",
    "for step in range(50000):\n",
    "    na.step()\n",
    "    l.append(optimizer.param_groups[0]['lr'])"
   ]
  },
  {
   "cell_type": "code",
   "execution_count": 39,
   "id": "1aa41d02",
   "metadata": {
    "cellId": "ovmdwt1r6feouroga1y0v"
   },
   "outputs": [
    {
     "data": {
      "text/plain": [
       "[<matplotlib.lines.Line2D at 0x7f9ee843e940>]"
      ]
     },
     "execution_count": 39,
     "metadata": {},
     "output_type": "execute_result"
    },
    {
     "data": {
      "image/png": "[encoded data removed]",
      "text/plain": [
       "<Figure size 432x288 with 1 Axes>"
      ]
     },
     "metadata": {
      "needs_background": "light"
     },
     "output_type": "display_data"
    }
   ],
   "source": [
    "plt.plot(l)"
   ]
  },
  {
   "cell_type": "code",
   "execution_count": null,
   "id": "9e78299c",
   "metadata": {
    "cellId": "qpvyv9d1k9wodtiu3m4y"
   },
   "outputs": [],
   "source": []
  }
 ],
 "metadata": {
  "language_info": {
   "codemirror_mode": {
    "name": "ipython",
    "version": 3
   },
   "file_extension": ".py",
   "mimetype": "text/x-python",
   "name": "python",
   "nbconvert_exporter": "python",
   "pygments_lexer": "ipython3",
   "version": "3.7.7"
  },
  "notebookId": "3d96fa7e-487c-4481-9440-3cc061a3d28b",
  "notebookPath": "Nazarov/conformer/Untitled.ipynb"
 },
 "nbformat": 4,
 "nbformat_minor": 5
}
