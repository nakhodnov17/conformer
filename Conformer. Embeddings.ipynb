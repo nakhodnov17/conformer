{
 "cells": [
  {
   "cell_type": "code",
   "execution_count": 1,
   "id": "00876ea5",
   "metadata": {
    "ExecuteTime": {
     "end_time": "2022-12-19T12:11:27.053284Z",
     "start_time": "2022-12-19T12:11:26.937526Z"
    }
   },
   "outputs": [],
   "source": [
    "%config Completer.use_jedi = False\n",
    "%load_ext autoreload\n",
    "%autoreload 2"
   ]
  },
  {
   "cell_type": "code",
   "execution_count": 2,
   "id": "31e7ae5f",
   "metadata": {
    "ExecuteTime": {
     "end_time": "2022-12-19T12:11:27.087110Z",
     "start_time": "2022-12-19T12:11:27.056905Z"
    }
   },
   "outputs": [
    {
     "data": {
      "text/html": [
       "<style>.container { width:90% !important; }</style>"
      ],
      "text/plain": [
       "<IPython.core.display.HTML object>"
      ]
     },
     "metadata": {},
     "output_type": "display_data"
    }
   ],
   "source": [
    "from IPython.display import display, HTML, Video\n",
    "display(HTML(\"<style>.container { width:90% !important; }</style>\"))"
   ]
  },
  {
   "cell_type": "markdown",
   "id": "da3f8f48",
   "metadata": {},
   "source": [
    "# Load data"
   ]
  },
  {
   "cell_type": "code",
   "execution_count": 3,
   "id": "e48a16cb",
   "metadata": {
    "ExecuteTime": {
     "end_time": "2022-12-19T12:11:52.626587Z",
     "start_time": "2022-12-19T12:11:27.092077Z"
    }
   },
   "outputs": [],
   "source": [
    "import torch\n",
    "import torchaudio\n",
    "from torch.utils.data import Dataset, DataLoader\n",
    "\n",
    "import sentencepiece"
   ]
  },
  {
   "cell_type": "code",
   "execution_count": 4,
   "id": "a86e4de5",
   "metadata": {
    "ExecuteTime": {
     "end_time": "2022-12-19T12:12:05.959275Z",
     "start_time": "2022-12-19T12:11:52.641584Z"
    }
   },
   "outputs": [],
   "source": [
    "import os\n",
    "import glob\n",
    "import json\n",
    "import regex\n",
    "\n",
    "import tqdm.notebook as tqdm\n",
    "\n",
    "import numpy as np\n",
    "import pandas as pd\n",
    "\n",
    "from ipywidgets import GridBox, Audio, HBox, VBox, Box, Label, Layout\n",
    "\n",
    "import matplotlib.pyplot as plt\n",
    "import matplotlib_inline\n",
    "\n",
    "%matplotlib inline\n",
    "matplotlib_inline.backend_inline.set_matplotlib_formats('svg')"
   ]
  },
  {
   "cell_type": "code",
   "execution_count": 5,
   "id": "0c201f17",
   "metadata": {
    "ExecuteTime": {
     "end_time": "2022-12-19T12:12:06.051593Z",
     "start_time": "2022-12-19T12:12:05.964920Z"
    }
   },
   "outputs": [],
   "source": [
    "def sample_dataset(dataset, n=4):\n",
    "    grid = []\n",
    "    for idx in range(n):\n",
    "        grid.append(\n",
    "            VBox([\n",
    "                Label('{0:d}, {1}, {2:.1f}'.format(idx, dataset['text'][idx], dataset.get('duration', dataset['audio_len'])[idx])),\n",
    "                Audio.from_file(dataset['audio_path'][idx], autoplay=False, loop=False),\n",
    "            ])\n",
    "        )\n",
    "    \n",
    "    return HBox([VBox(grid[0::2]), VBox(grid[1::2])])"
   ]
  },
  {
   "cell_type": "code",
   "execution_count": 6,
   "id": "4cbecc0e",
   "metadata": {
    "ExecuteTime": {
     "end_time": "2022-12-19T12:12:06.117704Z",
     "start_time": "2022-12-19T12:12:06.057683Z"
    }
   },
   "outputs": [],
   "source": [
    "base_path = './dataset/'\n",
    "\n",
    "libri_speech_base_path = os.path.join(base_path, 'LibriSpeech/ruls_data')"
   ]
  },
  {
   "cell_type": "code",
   "execution_count": 7,
   "id": "2518c1ae",
   "metadata": {
    "ExecuteTime": {
     "end_time": "2022-12-19T12:12:35.827854Z",
     "start_time": "2022-12-19T12:12:06.127660Z"
    }
   },
   "outputs": [],
   "source": [
    "from src.dataset import get_libri_speech_dataset, get_golos_dataset"
   ]
  },
  {
   "cell_type": "code",
   "execution_count": 28,
   "id": "e63ff610",
   "metadata": {
    "ExecuteTime": {
     "end_time": "2022-12-19T12:12:39.927056Z",
     "start_time": "2022-12-19T12:12:39.765008Z"
    }
   },
   "outputs": [
    {
     "name": "stdout",
     "output_type": "stream",
     "text": [
      "Loaded 1400 objects\n"
     ]
    }
   ],
   "source": [
    "libri_speech_dev = get_libri_speech_dataset(libri_speech_base_path, split='dev')\n",
    "\n",
    "print('Loaded {0:d} objects'.format(len(libri_speech_dev['audio_path'])))"
   ]
  },
  {
   "cell_type": "code",
   "execution_count": 9,
   "id": "1b90e9b7",
   "metadata": {
    "ExecuteTime": {
     "end_time": "2022-12-19T12:12:36.396693Z",
     "start_time": "2022-12-19T12:12:36.186059Z"
    }
   },
   "outputs": [],
   "source": [
    "# Load tokenizer model\n",
    "sp_tokenizer = sentencepiece.SentencePieceProcessor(model_file='tokenizer.model')"
   ]
  },
  {
   "cell_type": "code",
   "execution_count": 10,
   "id": "a0cb8aa3",
   "metadata": {
    "ExecuteTime": {
     "end_time": "2022-12-19T12:12:36.515656Z",
     "start_time": "2022-12-19T12:12:36.406856Z"
    }
   },
   "outputs": [],
   "source": [
    "from src.dataset import AudioDataset, collate_fn"
   ]
  },
  {
   "cell_type": "code",
   "execution_count": 11,
   "id": "e4421de7",
   "metadata": {
    "ExecuteTime": {
     "end_time": "2022-12-19T12:12:37.200460Z",
     "start_time": "2022-12-19T12:12:36.522372Z"
    }
   },
   "outputs": [
    {
     "data": {
      "text/plain": [
       "('./dataset/LibriSpeech/ruls_data/dev/audio/5397/2145/poemi_16_pushkin_0039.wav',\n",
       " tensor([-4.8218e-03, -4.8828e-03, -4.7913e-03,  ...,  3.0518e-05,\n",
       "          0.0000e+00,  3.0518e-05]),\n",
       " 34720,\n",
       " 'дай бог чтоб просветились мы',\n",
       " tensor([ 26,   3,  12,  39,   6,  29, 113,  22,  89,   5,  58,  59,  37,   5,\n",
       "          42,   1,   9,  20]),\n",
       " 18)"
      ]
     },
     "execution_count": 11,
     "metadata": {},
     "output_type": "execute_result"
    }
   ],
   "source": [
    "libri_speech_dev_ds = AudioDataset(libri_speech_dev, sp_tokenizer, min_duration=1.36, max_duration=10.96)\n",
    "libri_speech_dev_ds[0]"
   ]
  },
  {
   "cell_type": "code",
   "execution_count": 12,
   "id": "634bf782",
   "metadata": {
    "ExecuteTime": {
     "end_time": "2022-12-19T12:12:37.698906Z",
     "start_time": "2022-12-19T12:12:37.206208Z"
    }
   },
   "outputs": [
    {
     "data": {
      "text/plain": [
       "{'audio_path': ('./dataset/LibriSpeech/ruls_data/dev/audio/5397/2145/poemi_16_pushkin_0039.wav',\n",
       "  './dataset/LibriSpeech/ruls_data/dev/audio/5397/2145/poemi_19_pushkin_0090.wav',\n",
       "  './dataset/LibriSpeech/ruls_data/dev/audio/5397/2145/poemi_31_pushkin_0052.wav',\n",
       "  './dataset/LibriSpeech/ruls_data/dev/audio/5397/2145/poemi_20_pushkin_0033.wav',\n",
       "  './dataset/LibriSpeech/ruls_data/dev/audio/5397/2145/poemi_19_pushkin_0055.wav',\n",
       "  './dataset/LibriSpeech/ruls_data/dev/audio/5397/2145/poemi_13_pushkin_0030.wav',\n",
       "  './dataset/LibriSpeech/ruls_data/dev/audio/5397/2145/poemi_17_pushkin_0055.wav',\n",
       "  './dataset/LibriSpeech/ruls_data/dev/audio/5397/2145/poemi_19_pushkin_0103.wav'),\n",
       " 'audio': tensor([[-4.8218e-03, -4.8828e-03, -4.7913e-03,  ...,  0.0000e+00,\n",
       "           0.0000e+00,  0.0000e+00],\n",
       "         [ 1.0071e-03,  1.0071e-03,  8.8501e-04,  ...,  0.0000e+00,\n",
       "           0.0000e+00,  0.0000e+00],\n",
       "         [-9.3079e-03, -1.1719e-02, -1.3184e-02,  ...,  0.0000e+00,\n",
       "           0.0000e+00,  0.0000e+00],\n",
       "         ...,\n",
       "         [ 4.9713e-02,  6.1890e-02,  6.3538e-02,  ...,  0.0000e+00,\n",
       "           0.0000e+00,  0.0000e+00],\n",
       "         [ 5.7678e-03,  5.3406e-03,  4.8523e-03,  ...,  0.0000e+00,\n",
       "           0.0000e+00,  0.0000e+00],\n",
       "         [ 6.1035e-05,  1.5259e-04,  9.1553e-05,  ...,  0.0000e+00,\n",
       "           1.5259e-04,  6.1035e-05]]),\n",
       " 'audio_len': tensor([34720, 34720, 35200, 35520, 35520, 36160, 36480, 36800]),\n",
       " 'text': ('дай бог чтоб просветились мы',\n",
       "  'но где же первый званый гость',\n",
       "  'вот что хочется мне зоинька',\n",
       "  'в нем только лень и непокорство',\n",
       "  'тесним мы шведов рать за ратью',\n",
       "  'куда свой тайный путь направил',\n",
       "  'давно в ней искра разгоралась',\n",
       "  'в нем мрачный дух не знал покоя'),\n",
       " 'tokens': tensor([[ 26,   3,  12,  39,   6,  29, 113,  22,  89,   5,  58,  59,  37,   5,\n",
       "           42,   1,   9,  20,   0,   0,   0,   0],\n",
       "         [  1,  35,  77,  50,   1,  27,   2,  34,   2,  11,  23,  20,  12,   1,\n",
       "           21,  46,  71,  12,   1,  60,   5,  31],\n",
       "         [ 18,   6,   8, 113,   1,  36,   6,  19,   2,   8,  69,  79,   1,  21,\n",
       "            6,   4,   7,  42,  30,   0,   0,   0],\n",
       "         [ 18,  86,   9,   1,  40,  47,  55,   1,  44,   7,  42,  57,  86,  24,\n",
       "            6,  55,  11,  53,  73,   0,   0,   0],\n",
       "         [  1,  54,   5,  41,   9,   1,   9,  20,   1,  33,  58,  13,  68,   1,\n",
       "           28,  31,  64,   1,  28,  31,  52,   0],\n",
       "         [ 61,  10,  13,   3,  17,  73,  12,   1,  65,  12,  71,  12,  34,  10,\n",
       "           31,  25,  24,  28,  72,  16,   0,   0],\n",
       "         [ 26,   3,  23,  35,  18,  86,  12,  57,   5,  15,  28,   1,  28,  21,\n",
       "           60,  28,  51,   5,  42,   0,   0,   0],\n",
       "         [ 18,  86,   9,   1,   9,  28,  19,  71,  12,  26,  10,  36,  86,   1,\n",
       "           21,  32,  16,  38,  55,  14,   0,   0]]),\n",
       " 'tokens_len': tensor([18, 22, 19, 19, 21, 20, 19, 20])}"
      ]
     },
     "execution_count": 12,
     "metadata": {},
     "output_type": "execute_result"
    }
   ],
   "source": [
    "batch_size = 8\n",
    "num_workers = 0\n",
    "\n",
    "libri_speech_dev_dl = DataLoader(\n",
    "    libri_speech_dev_ds, batch_size=batch_size, shuffle=False,\n",
    "    num_workers=num_workers, pin_memory=False, collate_fn=collate_fn\n",
    ")\n",
    "batch = next(iter(libri_speech_dev_dl))\n",
    "batch"
   ]
  },
  {
   "cell_type": "code",
   "execution_count": 13,
   "id": "83aefccd",
   "metadata": {
    "ExecuteTime": {
     "end_time": "2022-12-19T12:12:37.891272Z",
     "start_time": "2022-12-19T12:12:37.705163Z"
    }
   },
   "outputs": [
    {
     "data": {
      "application/vnd.jupyter.widget-view+json": {
       "model_id": "6b5b594411cd48a08b236a61b32f2029",
       "version_major": 2,
       "version_minor": 0
      },
      "text/plain": [
       "HBox(children=(VBox(children=(VBox(children=(Label(value='0, дай бог чтоб просветились мы, 34720.0'), Audio(va…"
      ]
     },
     "execution_count": 13,
     "metadata": {},
     "output_type": "execute_result"
    }
   ],
   "source": [
    "sample_dataset(batch)"
   ]
  },
  {
   "cell_type": "code",
   "execution_count": 14,
   "id": "1737df20",
   "metadata": {
    "ExecuteTime": {
     "end_time": "2022-12-19T12:12:38.011794Z",
     "start_time": "2022-12-19T12:12:37.897281Z"
    }
   },
   "outputs": [],
   "source": [
    "from src.preprocessor import AudioToMelSpectrogramPreprocessor"
   ]
  },
  {
   "cell_type": "code",
   "execution_count": 15,
   "id": "a73141a4",
   "metadata": {
    "ExecuteTime": {
     "end_time": "2022-12-19T12:12:38.193554Z",
     "start_time": "2022-12-19T12:12:38.018065Z"
    }
   },
   "outputs": [],
   "source": [
    "preprocessor = AudioToMelSpectrogramPreprocessor()"
   ]
  },
  {
   "cell_type": "code",
   "execution_count": 16,
   "id": "bbd4f80f",
   "metadata": {
    "ExecuteTime": {
     "end_time": "2022-12-19T12:12:38.351922Z",
     "start_time": "2022-12-19T12:12:38.196891Z"
    }
   },
   "outputs": [],
   "source": [
    "features, feature_lengths = preprocessor(batch['audio'], batch['audio_len'])"
   ]
  },
  {
   "cell_type": "markdown",
   "id": "9d867cb9",
   "metadata": {},
   "source": [
    "# Implement `src.preprocessor.ConvSubsampling`"
   ]
  },
  {
   "cell_type": "code",
   "execution_count": 17,
   "id": "c6ca992a",
   "metadata": {
    "ExecuteTime": {
     "end_time": "2022-12-19T12:12:38.454033Z",
     "start_time": "2022-12-19T12:12:38.366098Z"
    }
   },
   "outputs": [],
   "source": [
    "import copy\n",
    "\n",
    "def deterministic_fill(module, seed=64, verbose=False, eps=1e-5):\n",
    "    module = copy.deepcopy(module)\n",
    "    \n",
    "    rng = np.random.default_rng(seed)\n",
    "     \n",
    "    for name, param in sorted(module.state_dict().items()):\n",
    "        if verbose:\n",
    "            print(name)\n",
    "        data = torch.tensor(rng.random(param.shape), dtype=param.dtype, device=param.device)\n",
    "        data = (data - data.mean()) / (data.std() + eps)\n",
    "        param.data.copy_(data)\n",
    "        \n",
    "    return module\n",
    "\n",
    "def diff_check(left, right, decimals):\n",
    "    return abs(float(left) - float(right)) < 10 ** (-decimals)"
   ]
  },
  {
   "cell_type": "code",
   "execution_count": 18,
   "id": "67bce85a",
   "metadata": {
    "ExecuteTime": {
     "end_time": "2022-12-19T12:12:38.568965Z",
     "start_time": "2022-12-19T12:12:38.473350Z"
    }
   },
   "outputs": [],
   "source": [
    "from src.preprocessor import ConvSubsampling"
   ]
  },
  {
   "cell_type": "code",
   "execution_count": 19,
   "id": "1de89626",
   "metadata": {
    "ExecuteTime": {
     "end_time": "2022-12-19T12:12:38.672105Z",
     "start_time": "2022-12-19T12:12:38.575547Z"
    }
   },
   "outputs": [],
   "source": [
    "pre_encode = ConvSubsampling(\n",
    "    feat_in=80, feat_out=176,\n",
    "    sampling_num=2, conv_channels=176\n",
    ")"
   ]
  },
  {
   "cell_type": "code",
   "execution_count": 20,
   "id": "88b483fd",
   "metadata": {
    "ExecuteTime": {
     "end_time": "2022-12-19T12:12:38.862866Z",
     "start_time": "2022-12-19T12:12:38.678491Z"
    }
   },
   "outputs": [],
   "source": [
    "features_enc, feature_enc_lengths = pre_encode(torch.transpose(features, 1, 2), feature_lengths)"
   ]
  },
  {
   "cell_type": "code",
   "execution_count": 21,
   "id": "1969ef98",
   "metadata": {
    "ExecuteTime": {
     "end_time": "2022-12-19T12:12:39.052865Z",
     "start_time": "2022-12-19T12:12:38.873262Z"
    }
   },
   "outputs": [],
   "source": [
    "preprocessor.eval()\n",
    "\n",
    "rng = np.random.default_rng(42)\n",
    "rnd_audio = torch.tensor(rng.random([13, 12345]), dtype=torch.float32)\n",
    "rnd_audio_len = torch.tensor(rng.integers(low=0, high=12345, size=[13]), dtype=torch.long)\n",
    "rnd_features, rnd_feature_lengths = preprocessor(rnd_audio, rnd_audio_len)\n",
    "\n",
    "rnd_pre_encode = deterministic_fill(pre_encode, seed=64).eval()\n",
    "rnd_features_enc, rnd_feature_enc_lengths = rnd_pre_encode(torch.transpose(rnd_features, 1, 2), rnd_feature_lengths)\n",
    "\n",
    "assert sum(p.numel() for p in rnd_pre_encode.parameters()) == 900416\n",
    "assert list(rnd_features_enc.shape) == [13, 20, 176]\n",
    "assert rnd_feature_lengths.cpu().tolist() == [43, 48, 34, 32, 54, 45, 41, 59, 21, 4, 72, 16, 31]\n",
    "assert diff_check(rnd_features_enc.abs().mean(), 1817.9062, 4)"
   ]
  },
  {
   "cell_type": "markdown",
   "id": "580d4161",
   "metadata": {},
   "source": [
    "# Implement `src.preprocessor.RelPositionalEncoding`"
   ]
  },
  {
   "cell_type": "code",
   "execution_count": 22,
   "id": "fe1347ff",
   "metadata": {
    "ExecuteTime": {
     "end_time": "2022-12-19T12:12:39.149094Z",
     "start_time": "2022-12-19T12:12:39.062904Z"
    }
   },
   "outputs": [],
   "source": [
    "import math\n",
    "from src.encoding import RelPositionalEncoding"
   ]
  },
  {
   "cell_type": "code",
   "execution_count": 23,
   "id": "0a3b9a33",
   "metadata": {
    "ExecuteTime": {
     "end_time": "2022-12-19T12:12:39.285279Z",
     "start_time": "2022-12-19T12:12:39.157914Z"
    }
   },
   "outputs": [],
   "source": [
    "pos_enc = RelPositionalEncoding(\n",
    "    d_model=176,\n",
    "    dropout_rate=0.1,\n",
    "    max_len=5000,\n",
    "    xscale=math.sqrt(176),\n",
    "    dropout_rate_emb=0.0,\n",
    ")\n",
    "\n",
    "pos_enc.extend_pe(length=5000, device=torch.device('cpu'))"
   ]
  },
  {
   "cell_type": "code",
   "execution_count": 24,
   "id": "7d95b13f",
   "metadata": {
    "ExecuteTime": {
     "end_time": "2022-12-19T12:12:39.379200Z",
     "start_time": "2022-12-19T12:12:39.300894Z"
    }
   },
   "outputs": [],
   "source": [
    "assert list(pos_enc.pe.shape) == [1, 9999, 176]\n",
    "assert diff_check(pos_enc.pe.abs().mean(), 0.6366, 4)"
   ]
  },
  {
   "cell_type": "code",
   "execution_count": 25,
   "id": "b846f1ad",
   "metadata": {
    "ExecuteTime": {
     "end_time": "2022-12-19T12:12:39.540685Z",
     "start_time": "2022-12-19T12:12:39.382536Z"
    }
   },
   "outputs": [],
   "source": [
    "preprocessor.eval()\n",
    "pre_encode.eval()\n",
    "pos_enc.eval()\n",
    "\n",
    "rng = np.random.default_rng(42)\n",
    "rnd_audio = torch.tensor(rng.random([13, 12345]), dtype=torch.float32)\n",
    "rnd_audio_len = torch.tensor(rng.integers(low=0, high=12345, size=[13]), dtype=torch.long)\n",
    "rnd_features, rnd_feature_lengths = preprocessor(rnd_audio, rnd_audio_len)\n",
    "\n",
    "rnd_pre_encode = deterministic_fill(pre_encode, seed=64).eval()\n",
    "rnd_features_enc, rnd_feature_enc_lengths = rnd_pre_encode(torch.transpose(rnd_features, 1, 2), rnd_feature_lengths)\n",
    "\n",
    "rnd_features_emb, rnd_pos_emb = pos_enc(rnd_features_enc)\n",
    "\n",
    "assert list(rnd_features_emb.shape) == [13, 20, 176]\n",
    "assert list(rnd_pos_emb.shape) == [1, 39, 176]\n",
    "\n",
    "assert diff_check(rnd_features_emb.abs().mean(), 24117.2559, 4)\n",
    "assert diff_check(rnd_pos_emb.abs().mean(), 0.5670, 4)"
   ]
  },
  {
   "cell_type": "markdown",
   "id": "ef952d42",
   "metadata": {},
   "source": [
    "# Implement `src.encoder.ConformerEncoder._create_masks`"
   ]
  },
  {
   "cell_type": "code",
   "execution_count": 26,
   "id": "bca78335",
   "metadata": {
    "ExecuteTime": {
     "end_time": "2022-12-19T12:12:39.688987Z",
     "start_time": "2022-12-19T12:12:39.549566Z"
    }
   },
   "outputs": [],
   "source": [
    "from src.encoder import ConformerEncoder"
   ]
  },
  {
   "cell_type": "code",
   "execution_count": 27,
   "id": "0ab0dd29",
   "metadata": {
    "ExecuteTime": {
     "end_time": "2022-12-19T12:12:39.759090Z",
     "start_time": "2022-12-19T12:12:39.693137Z"
    }
   },
   "outputs": [
    {
     "name": "stdout",
     "output_type": "stream",
     "text": [
      "tensor([[False, False, False, False,  True,  True,  True,  True,  True,  True],\n",
      "        [False, False, False, False, False,  True,  True,  True,  True,  True],\n",
      "        [False, False,  True,  True,  True,  True,  True,  True,  True,  True],\n",
      "        [False, False, False, False, False, False, False,  True,  True,  True]])\n",
      "tensor([[[False, False, False, False,  True,  True,  True,  True,  True,  True],\n",
      "         [False, False, False, False,  True,  True,  True,  True,  True,  True],\n",
      "         [False, False, False, False,  True,  True,  True,  True,  True,  True],\n",
      "         [False, False, False, False,  True,  True,  True,  True,  True,  True],\n",
      "         [ True,  True,  True,  True,  True,  True,  True,  True,  True,  True],\n",
      "         [ True,  True,  True,  True,  True,  True,  True,  True,  True,  True],\n",
      "         [ True,  True,  True,  True,  True,  True,  True,  True,  True,  True],\n",
      "         [ True,  True,  True,  True,  True,  True,  True,  True,  True,  True],\n",
      "         [ True,  True,  True,  True,  True,  True,  True,  True,  True,  True],\n",
      "         [ True,  True,  True,  True,  True,  True,  True,  True,  True,  True]],\n",
      "\n",
      "        [[False, False, False, False, False,  True,  True,  True,  True,  True],\n",
      "         [False, False, False, False, False,  True,  True,  True,  True,  True],\n",
      "         [False, False, False, False, False,  True,  True,  True,  True,  True],\n",
      "         [False, False, False, False, False,  True,  True,  True,  True,  True],\n",
      "         [False, False, False, False, False,  True,  True,  True,  True,  True],\n",
      "         [ True,  True,  True,  True,  True,  True,  True,  True,  True,  True],\n",
      "         [ True,  True,  True,  True,  True,  True,  True,  True,  True,  True],\n",
      "         [ True,  True,  True,  True,  True,  True,  True,  True,  True,  True],\n",
      "         [ True,  True,  True,  True,  True,  True,  True,  True,  True,  True],\n",
      "         [ True,  True,  True,  True,  True,  True,  True,  True,  True,  True]],\n",
      "\n",
      "        [[False, False,  True,  True,  True,  True,  True,  True,  True,  True],\n",
      "         [False, False,  True,  True,  True,  True,  True,  True,  True,  True],\n",
      "         [ True,  True,  True,  True,  True,  True,  True,  True,  True,  True],\n",
      "         [ True,  True,  True,  True,  True,  True,  True,  True,  True,  True],\n",
      "         [ True,  True,  True,  True,  True,  True,  True,  True,  True,  True],\n",
      "         [ True,  True,  True,  True,  True,  True,  True,  True,  True,  True],\n",
      "         [ True,  True,  True,  True,  True,  True,  True,  True,  True,  True],\n",
      "         [ True,  True,  True,  True,  True,  True,  True,  True,  True,  True],\n",
      "         [ True,  True,  True,  True,  True,  True,  True,  True,  True,  True],\n",
      "         [ True,  True,  True,  True,  True,  True,  True,  True,  True,  True]],\n",
      "\n",
      "        [[False, False, False, False, False, False, False,  True,  True,  True],\n",
      "         [False, False, False, False, False, False, False,  True,  True,  True],\n",
      "         [False, False, False, False, False, False, False,  True,  True,  True],\n",
      "         [False, False, False, False, False, False, False,  True,  True,  True],\n",
      "         [False, False, False, False, False, False, False,  True,  True,  True],\n",
      "         [False, False, False, False, False, False, False,  True,  True,  True],\n",
      "         [False, False, False, False, False, False, False,  True,  True,  True],\n",
      "         [ True,  True,  True,  True,  True,  True,  True,  True,  True,  True],\n",
      "         [ True,  True,  True,  True,  True,  True,  True,  True,  True,  True],\n",
      "         [ True,  True,  True,  True,  True,  True,  True,  True,  True,  True]]])\n"
     ]
    }
   ],
   "source": [
    "max_length, lengths = 10, torch.tensor([4, 5, 2, 7], dtype=torch.long)\n",
    "pad_mask, att_mask = ConformerEncoder._create_masks(max_length, lengths, device=torch.device('cpu'))\n",
    "\n",
    "assert list(pad_mask.shape) == [lengths.shape[0], max_length]\n",
    "assert list(att_mask.shape) == [lengths.shape[0], max_length, max_length]\n",
    "\n",
    "assert torch.all(pad_mask.sum(dim=1) == max_length - lengths)\n",
    "assert torch.all(torch.sum(~att_mask, dim=(1, 2)) == lengths ** 2)\n",
    "\n",
    "print(pad_mask, att_mask, sep='\\n')"
   ]
  }
 ],
 "metadata": {
  "kernelspec": {
   "display_name": "Python 3 (ipykernel)",
   "language": "python",
   "name": "python3"
  },
  "language_info": {
   "codemirror_mode": {
    "name": "ipython",
    "version": 3
   },
   "file_extension": ".py",
   "mimetype": "text/x-python",
   "name": "python",
   "nbconvert_exporter": "python",
   "pygments_lexer": "ipython3",
   "version": "3.9.12"
  }
 },
 "nbformat": 4,
 "nbformat_minor": 5
}
